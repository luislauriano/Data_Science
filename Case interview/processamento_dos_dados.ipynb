{
 "cells": [
  {
   "cell_type": "code",
   "execution_count": 1,
   "id": "a11dd4ed",
   "metadata": {},
   "outputs": [],
   "source": [
    "import numpy as np\n",
    "import pandas as pd\n",
    "import matplotlib.pyplot as plt\n",
    "import missingno as mso\n",
    "import seaborn as sns\n",
    "import warnings\n",
    "from pywaffle import Waffle\n",
    "from sklearn.impute import SimpleImputer\n",
    "import scipy.stats as sct\n",
    "from statsmodels.graphics.gofplots import qqplot\n",
    "\n",
    "from sklearn.preprocessing import (\n",
    "    OneHotEncoder, Binarizer, KBinsDiscretizer,\n",
    "    MinMaxScaler, StandardScaler, PolynomialFeatures\n",
    ")\n",
    "\n",
    "warnings.filterwarnings('ignore')\n",
    "sns.set_style('whitegrid')\n",
    "plt.rcParams['figure.dpi']=100"
   ]
  },
  {
   "cell_type": "code",
   "execution_count": 2,
   "id": "22b2da2e",
   "metadata": {},
   "outputs": [
    {
     "data": {
      "image/png": "[encoded data removed]",
      "text/plain": [
       "<Figure size 500x100 with 1 Axes>"
      ]
     },
     "metadata": {},
     "output_type": "display_data"
    },
    {
     "data": {
      "image/png": "[encoded data removed]",
      "text/plain": [
       "<Figure size 500x100 with 1 Axes>"
      ]
     },
     "metadata": {},
     "output_type": "display_data"
    },
    {
     "data": {
      "image/png": "[encoded data removed]",
      "text/plain": [
       "<Figure size 500x100 with 1 Axes>"
      ]
     },
     "metadata": {},
     "output_type": "display_data"
    },
    {
     "data": {
      "image/png": "[encoded data removed]",
      "text/plain": [
       "<Figure size 500x100 with 1 Axes>"
      ]
     },
     "metadata": {},
     "output_type": "display_data"
    },
    {
     "data": {
      "image/png": "[encoded data removed]",
      "text/plain": [
       "<Figure size 500x100 with 1 Axes>"
      ]
     },
     "metadata": {},
     "output_type": "display_data"
    }
   ],
   "source": [
    "cyan_grad = ['#142459', '#176BA0', '#19AADE', '#1AC9E6', '#87EAFA']\n",
    "purple_grad = ['#491D8B', '#6929C4', '#8A3FFC', '#A56EFF', '#BE95FF']\n",
    "teal_grad = ['#005D5D', '#007D79', '#009D9A', '#08BDBA', '#3DDBD9']\n",
    "color_mix = ['#0698DC', '#05E6FA', '#09899B', '#04C4AC', '#AB1CB4']\n",
    "black_grad = ['#100C07', '#3E3B39', '#6D6A6A', '#9B9A9C', '#CAC9CD']\n",
    "\n",
    "\n",
    "sns.palplot(cyan_grad)\n",
    "sns.palplot(purple_grad)\n",
    "sns.palplot(teal_grad)\n",
    "sns.palplot(color_mix)\n",
    "sns.palplot(black_grad)"
   ]
  },
  {
   "cell_type": "code",
   "execution_count": null,
   "id": "7e045d95",
   "metadata": {},
   "outputs": [],
   "source": []
  },
  {
   "cell_type": "code",
   "execution_count": 3,
   "id": "b830e3ae",
   "metadata": {},
   "outputs": [],
   "source": [
    "df = pd.read_csv('callcenter_case.csv')"
   ]
  },
  {
   "cell_type": "code",
   "execution_count": 4,
   "id": "426603e6",
   "metadata": {},
   "outputs": [],
   "source": [
    "#Configuração para poder apresentar todas as linhas\n",
    "pd.set_option('display.max_rows', 500)\n",
    "pd.set_option('display.max_columns', 500)"
   ]
  },
  {
   "cell_type": "code",
   "execution_count": null,
   "id": "1b04e059",
   "metadata": {},
   "outputs": [],
   "source": []
  },
  {
   "cell_type": "code",
   "execution_count": null,
   "id": "bb532b80",
   "metadata": {},
   "outputs": [],
   "source": []
  },
  {
   "cell_type": "markdown",
   "id": "59c9a809",
   "metadata": {},
   "source": [
    "## **Entendimento do problema**"
   ]
  },
  {
   "cell_type": "markdown",
   "id": "8a195ada",
   "metadata": {},
   "source": [
    "O entendimento do problema é de suma importância para a construção de um bom modelo. "
   ]
  },
  {
   "cell_type": "markdown",
   "id": "c1a85aeb",
   "metadata": {},
   "source": [
    "**Detecção de aderência em campanha de callcenter**"
   ]
  },
  {
   "cell_type": "markdown",
   "id": "4449ab33",
   "metadata": {},
   "source": [
    "Você foi contratado por uma empresa do ramo de Call Center para desenvolver um modelo preditivo de detecção de aderência em uma campanha feita para um determinado banco.\n",
    "\n",
    "Para esse trabalho iremos utilizar um dataset, enviado em anexo, que contém aproximadamente 41 mil linhas e 19 colunas. Esse dataset traz os registros pessoais dos clientes, como idade, profissão, educação entre outros, dados das campanha de telemarketing realizadas, como número de contatos, duração, alguns índices financeiros e a coluna aderencia_campanha, que mostra se o cliente aderiu ou não a campanha.\n",
    "\n",
    "Você deverá construir um modelo para detecção de aderência dessa campanha, percorrendo todas as etapas da construção de um modelo de machine learning e documentando os passos seguidos e resultados obtidos em cada uma das etapas do processo, até chegar a etapa final dos resultados encontrados com a predição feita em cima do modelo.\n",
    "\n"
   ]
  },
  {
   "cell_type": "markdown",
   "id": "ef7c8f31",
   "metadata": {},
   "source": [
    "**Utilização de aprendizagem supervisionada por clasificação**"
   ]
  },
  {
   "cell_type": "code",
   "execution_count": null,
   "id": "73fe8a18",
   "metadata": {},
   "outputs": [],
   "source": []
  },
  {
   "cell_type": "markdown",
   "id": "193fca74",
   "metadata": {},
   "source": [
    "## **Informações iniciais**"
   ]
  },
  {
   "cell_type": "code",
   "execution_count": 5,
   "id": "379b3f53",
   "metadata": {},
   "outputs": [
    {
     "name": "stdout",
     "output_type": "stream",
     "text": [
      "\u001b[36m\u001b[1m.: Dataset Info :.\n",
      "\u001b[0m\u001b[36m*\u001b[0m\u001b[36m*\u001b[0m\u001b[36m*\u001b[0m\u001b[36m*\u001b[0m\u001b[36m*\u001b[0m\u001b[36m*\u001b[0m\u001b[36m*\u001b[0m\u001b[36m*\u001b[0m\u001b[36m*\u001b[0m\u001b[36m*\u001b[0m\u001b[36m*\u001b[0m\u001b[36m*\u001b[0m\u001b[36m*\u001b[0m\u001b[36m*\u001b[0m\u001b[36m*\u001b[0m\u001b[36m*\u001b[0m\u001b[36m*\u001b[0m\u001b[36m*\u001b[0m\u001b[36m*\u001b[0m\u001b[36m*\n",
      "\u001b[0mTotal Rows:\u001b[36m\u001b[1m 41188\n",
      "\u001b[0mTotal Columns:\u001b[36m\u001b[1m 19\n",
      "\u001b[0m\u001b[36m*\u001b[0m\u001b[36m*\u001b[0m\u001b[36m*\u001b[0m\u001b[36m*\u001b[0m\u001b[36m*\u001b[0m\u001b[36m*\u001b[0m\u001b[36m*\u001b[0m\u001b[36m*\u001b[0m\u001b[36m*\u001b[0m\u001b[36m*\u001b[0m\u001b[36m*\u001b[0m\u001b[36m*\u001b[0m\u001b[36m*\u001b[0m\u001b[36m*\u001b[0m\u001b[36m*\u001b[0m\u001b[36m*\u001b[0m\u001b[36m*\u001b[0m\u001b[36m*\u001b[0m\u001b[36m*\u001b[0m\u001b[36m*\n",
      "\n",
      "\n",
      "\u001b[1m.: Dataset Details :.\n",
      "\u001b[0m\u001b[36m*\u001b[0m\u001b[36m*\u001b[0m\u001b[36m*\u001b[0m\u001b[36m*\u001b[0m\u001b[36m*\u001b[0m\u001b[36m*\u001b[0m\u001b[36m*\u001b[0m\u001b[36m*\u001b[0m\u001b[36m*\u001b[0m\u001b[36m*\u001b[0m\u001b[36m*\u001b[0m\u001b[36m*\u001b[0m\u001b[36m*\u001b[0m\u001b[36m*\u001b[0m\u001b[36m*\u001b[0m\u001b[36m*\u001b[0m\u001b[36m*\u001b[0m\u001b[36m*\u001b[0m\u001b[36m*\u001b[0m\u001b[36m*\u001b[0m\u001b[36m*\u001b[0m\u001b[36m*\u001b[0m\n",
      "<class 'pandas.core.frame.DataFrame'>\n",
      "RangeIndex: 41188 entries, 0 to 41187\n",
      "Data columns (total 19 columns):\n",
      " #   Column                       Non-Null Count  Dtype  \n",
      "---  ------                       --------------  -----  \n",
      " 0   idade                        41188 non-null  int64  \n",
      " 1   profissao                    40858 non-null  object \n",
      " 2   estado_civil                 41108 non-null  object \n",
      " 3   educacao                     39457 non-null  object \n",
      " 4   inadimplente                 32591 non-null  object \n",
      " 5   emprestimo_moradia           40198 non-null  object \n",
      " 6   emprestimo_pessoal           40198 non-null  object \n",
      " 7   meio_contato                 41188 non-null  object \n",
      " 8   mes                          41188 non-null  object \n",
      " 9   dia_da_semana                41188 non-null  object \n",
      " 10  duracao                      41188 non-null  int64  \n",
      " 11  qtd_contatos_campanha        41188 non-null  int64  \n",
      " 12  dias_ultimo_contato          41188 non-null  int64  \n",
      " 13  qtd_contatos_total           41188 non-null  int64  \n",
      " 14  campanha_anterior            41188 non-null  object \n",
      " 15  indice_precos_consumidor     41188 non-null  float64\n",
      " 16  indice_confianca_consumidor  41188 non-null  float64\n",
      " 17  taxa_juros_media             41188 non-null  float64\n",
      " 18  aderencia_campanha           41188 non-null  object \n",
      "dtypes: float64(3), int64(5), object(11)"
     ]
    }
   ],
   "source": [
    "print('\\033[36m\\033[1m'+'.: Dataset Info :.')\n",
    "print('\\033[0m\\033[36m*' * 20)\n",
    "print('\\033[0m'+'Total Rows:'+'\\033[36m\\033[1m', df.shape[0])\n",
    "print('\\033[0m'+'Total Columns:'+'\\033[36m\\033[1m', df.shape[1])\n",
    "print('\\033[0m\\033[36m*' * 20)\n",
    "print('\\n')\n",
    "\n",
    "print('\\033[1m'+'.: Dataset Details :.')\n",
    "print('\\033[0m\\033[36m*' * 22 +'\\033[0m')\n",
    "df.info(memory_usage = False)"
   ]
  },
  {
   "cell_type": "markdown",
   "id": "774daabb",
   "metadata": {},
   "source": [
    "## **Pré-processamento e manipulação dos dados**"
   ]
  },
  {
   "cell_type": "code",
   "execution_count": 6,
   "id": "b4fa516a",
   "metadata": {},
   "outputs": [
    {
     "data": {
      "text/html": [
       "<div>\n",
       "<style scoped>\n",
       "    .dataframe tbody tr th:only-of-type {\n",
       "        vertical-align: middle;\n",
       "    }\n",
       "\n",
       "    .dataframe tbody tr th {\n",
       "        vertical-align: top;\n",
       "    }\n",
       "\n",
       "    .dataframe thead th {\n",
       "        text-align: right;\n",
       "    }\n",
       "</style>\n",
       "<table border=\"1\" class=\"dataframe\">\n",
       "  <thead>\n",
       "    <tr style=\"text-align: right;\">\n",
       "      <th></th>\n",
       "      <th>idade</th>\n",
       "      <th>profissao</th>\n",
       "      <th>estado_civil</th>\n",
       "      <th>educacao</th>\n",
       "      <th>inadimplente</th>\n",
       "      <th>emprestimo_moradia</th>\n",
       "      <th>emprestimo_pessoal</th>\n",
       "      <th>meio_contato</th>\n",
       "      <th>mes</th>\n",
       "      <th>dia_da_semana</th>\n",
       "      <th>duracao</th>\n",
       "      <th>qtd_contatos_campanha</th>\n",
       "      <th>dias_ultimo_contato</th>\n",
       "      <th>qtd_contatos_total</th>\n",
       "      <th>campanha_anterior</th>\n",
       "      <th>indice_precos_consumidor</th>\n",
       "      <th>indice_confianca_consumidor</th>\n",
       "      <th>taxa_juros_media</th>\n",
       "      <th>aderencia_campanha</th>\n",
       "    </tr>\n",
       "  </thead>\n",
       "  <tbody>\n",
       "    <tr>\n",
       "      <th>37799</th>\n",
       "      <td>54</td>\n",
       "      <td>aposentado</td>\n",
       "      <td>casado</td>\n",
       "      <td>curso_tecnico</td>\n",
       "      <td>NaN</td>\n",
       "      <td>nao</td>\n",
       "      <td>nao</td>\n",
       "      <td>celular</td>\n",
       "      <td>ago</td>\n",
       "      <td>ter</td>\n",
       "      <td>76</td>\n",
       "      <td>1</td>\n",
       "      <td>999</td>\n",
       "      <td>0</td>\n",
       "      <td>nao_existente</td>\n",
       "      <td>92.201</td>\n",
       "      <td>-31.4</td>\n",
       "      <td>0.838</td>\n",
       "      <td>nao</td>\n",
       "    </tr>\n",
       "    <tr>\n",
       "      <th>13575</th>\n",
       "      <td>54</td>\n",
       "      <td>desempregado</td>\n",
       "      <td>casado</td>\n",
       "      <td>graduacao_completa</td>\n",
       "      <td>NaN</td>\n",
       "      <td>nao</td>\n",
       "      <td>nao</td>\n",
       "      <td>telefone</td>\n",
       "      <td>jul</td>\n",
       "      <td>qui</td>\n",
       "      <td>106</td>\n",
       "      <td>1</td>\n",
       "      <td>999</td>\n",
       "      <td>0</td>\n",
       "      <td>nao_existente</td>\n",
       "      <td>93.918</td>\n",
       "      <td>-42.7</td>\n",
       "      <td>4.963</td>\n",
       "      <td>nao</td>\n",
       "    </tr>\n",
       "    <tr>\n",
       "      <th>31357</th>\n",
       "      <td>52</td>\n",
       "      <td>admin.</td>\n",
       "      <td>solteiro</td>\n",
       "      <td>NaN</td>\n",
       "      <td>NaN</td>\n",
       "      <td>nao</td>\n",
       "      <td>nao</td>\n",
       "      <td>celular</td>\n",
       "      <td>mai</td>\n",
       "      <td>qua</td>\n",
       "      <td>321</td>\n",
       "      <td>1</td>\n",
       "      <td>999</td>\n",
       "      <td>0</td>\n",
       "      <td>nao_existente</td>\n",
       "      <td>92.893</td>\n",
       "      <td>-46.2</td>\n",
       "      <td>1.334</td>\n",
       "      <td>nao</td>\n",
       "    </tr>\n",
       "    <tr>\n",
       "      <th>30159</th>\n",
       "      <td>51</td>\n",
       "      <td>servicos</td>\n",
       "      <td>casado</td>\n",
       "      <td>fundamental_6a</td>\n",
       "      <td>nao</td>\n",
       "      <td>nao</td>\n",
       "      <td>nao</td>\n",
       "      <td>celular</td>\n",
       "      <td>abr</td>\n",
       "      <td>qui</td>\n",
       "      <td>407</td>\n",
       "      <td>1</td>\n",
       "      <td>2</td>\n",
       "      <td>1</td>\n",
       "      <td>sucesso</td>\n",
       "      <td>93.075</td>\n",
       "      <td>-47.1</td>\n",
       "      <td>1.365</td>\n",
       "      <td>sim</td>\n",
       "    </tr>\n",
       "    <tr>\n",
       "      <th>5581</th>\n",
       "      <td>45</td>\n",
       "      <td>colarinho_azul</td>\n",
       "      <td>casado</td>\n",
       "      <td>fundamental_4a</td>\n",
       "      <td>nao</td>\n",
       "      <td>nao</td>\n",
       "      <td>nao</td>\n",
       "      <td>telefone</td>\n",
       "      <td>mai</td>\n",
       "      <td>seg</td>\n",
       "      <td>164</td>\n",
       "      <td>1</td>\n",
       "      <td>999</td>\n",
       "      <td>0</td>\n",
       "      <td>nao_existente</td>\n",
       "      <td>93.994</td>\n",
       "      <td>-36.4</td>\n",
       "      <td>4.857</td>\n",
       "      <td>nao</td>\n",
       "    </tr>\n",
       "    <tr>\n",
       "      <th>26581</th>\n",
       "      <td>43</td>\n",
       "      <td>servicos</td>\n",
       "      <td>divorciado</td>\n",
       "      <td>ensino_medio</td>\n",
       "      <td>nao</td>\n",
       "      <td>nao</td>\n",
       "      <td>nao</td>\n",
       "      <td>celular</td>\n",
       "      <td>nov</td>\n",
       "      <td>qui</td>\n",
       "      <td>329</td>\n",
       "      <td>1</td>\n",
       "      <td>999</td>\n",
       "      <td>0</td>\n",
       "      <td>nao_existente</td>\n",
       "      <td>93.200</td>\n",
       "      <td>-42.0</td>\n",
       "      <td>4.076</td>\n",
       "      <td>nao</td>\n",
       "    </tr>\n",
       "    <tr>\n",
       "      <th>28719</th>\n",
       "      <td>43</td>\n",
       "      <td>gerente</td>\n",
       "      <td>casado</td>\n",
       "      <td>NaN</td>\n",
       "      <td>NaN</td>\n",
       "      <td>nao</td>\n",
       "      <td>nao</td>\n",
       "      <td>celular</td>\n",
       "      <td>abr</td>\n",
       "      <td>qui</td>\n",
       "      <td>75</td>\n",
       "      <td>2</td>\n",
       "      <td>999</td>\n",
       "      <td>0</td>\n",
       "      <td>nao_existente</td>\n",
       "      <td>93.075</td>\n",
       "      <td>-47.1</td>\n",
       "      <td>1.410</td>\n",
       "      <td>nao</td>\n",
       "    </tr>\n",
       "    <tr>\n",
       "      <th>28435</th>\n",
       "      <td>41</td>\n",
       "      <td>admin.</td>\n",
       "      <td>casado</td>\n",
       "      <td>graduacao_completa</td>\n",
       "      <td>NaN</td>\n",
       "      <td>sim</td>\n",
       "      <td>sim</td>\n",
       "      <td>celular</td>\n",
       "      <td>abr</td>\n",
       "      <td>qui</td>\n",
       "      <td>240</td>\n",
       "      <td>3</td>\n",
       "      <td>999</td>\n",
       "      <td>0</td>\n",
       "      <td>nao_existente</td>\n",
       "      <td>93.075</td>\n",
       "      <td>-47.1</td>\n",
       "      <td>1.435</td>\n",
       "      <td>nao</td>\n",
       "    </tr>\n",
       "    <tr>\n",
       "      <th>24746</th>\n",
       "      <td>41</td>\n",
       "      <td>servicos</td>\n",
       "      <td>solteiro</td>\n",
       "      <td>curso_tecnico</td>\n",
       "      <td>nao</td>\n",
       "      <td>sim</td>\n",
       "      <td>nao</td>\n",
       "      <td>celular</td>\n",
       "      <td>nov</td>\n",
       "      <td>ter</td>\n",
       "      <td>41</td>\n",
       "      <td>2</td>\n",
       "      <td>999</td>\n",
       "      <td>0</td>\n",
       "      <td>nao_existente</td>\n",
       "      <td>93.200</td>\n",
       "      <td>-42.0</td>\n",
       "      <td>4.153</td>\n",
       "      <td>nao</td>\n",
       "    </tr>\n",
       "    <tr>\n",
       "      <th>30908</th>\n",
       "      <td>40</td>\n",
       "      <td>admin.</td>\n",
       "      <td>solteiro</td>\n",
       "      <td>curso_tecnico</td>\n",
       "      <td>nao</td>\n",
       "      <td>sim</td>\n",
       "      <td>nao</td>\n",
       "      <td>celular</td>\n",
       "      <td>mai</td>\n",
       "      <td>ter</td>\n",
       "      <td>43</td>\n",
       "      <td>1</td>\n",
       "      <td>999</td>\n",
       "      <td>1</td>\n",
       "      <td>fracasso</td>\n",
       "      <td>92.893</td>\n",
       "      <td>-46.2</td>\n",
       "      <td>1.344</td>\n",
       "      <td>nao</td>\n",
       "    </tr>\n",
       "    <tr>\n",
       "      <th>28643</th>\n",
       "      <td>38</td>\n",
       "      <td>colarinho_azul</td>\n",
       "      <td>casado</td>\n",
       "      <td>fundamental_9a</td>\n",
       "      <td>nao</td>\n",
       "      <td>sim</td>\n",
       "      <td>nao</td>\n",
       "      <td>celular</td>\n",
       "      <td>abr</td>\n",
       "      <td>qui</td>\n",
       "      <td>218</td>\n",
       "      <td>1</td>\n",
       "      <td>999</td>\n",
       "      <td>0</td>\n",
       "      <td>nao_existente</td>\n",
       "      <td>93.075</td>\n",
       "      <td>-47.1</td>\n",
       "      <td>1.410</td>\n",
       "      <td>nao</td>\n",
       "    </tr>\n",
       "    <tr>\n",
       "      <th>34074</th>\n",
       "      <td>37</td>\n",
       "      <td>colarinho_azul</td>\n",
       "      <td>casado</td>\n",
       "      <td>fundamental_6a</td>\n",
       "      <td>nao</td>\n",
       "      <td>nao</td>\n",
       "      <td>sim</td>\n",
       "      <td>celular</td>\n",
       "      <td>mai</td>\n",
       "      <td>qua</td>\n",
       "      <td>158</td>\n",
       "      <td>5</td>\n",
       "      <td>999</td>\n",
       "      <td>0</td>\n",
       "      <td>nao_existente</td>\n",
       "      <td>92.893</td>\n",
       "      <td>-46.2</td>\n",
       "      <td>1.281</td>\n",
       "      <td>nao</td>\n",
       "    </tr>\n",
       "    <tr>\n",
       "      <th>31770</th>\n",
       "      <td>37</td>\n",
       "      <td>admin.</td>\n",
       "      <td>casado</td>\n",
       "      <td>ensino_medio</td>\n",
       "      <td>nao</td>\n",
       "      <td>sim</td>\n",
       "      <td>nao</td>\n",
       "      <td>celular</td>\n",
       "      <td>mai</td>\n",
       "      <td>qui</td>\n",
       "      <td>290</td>\n",
       "      <td>1</td>\n",
       "      <td>999</td>\n",
       "      <td>1</td>\n",
       "      <td>fracasso</td>\n",
       "      <td>92.893</td>\n",
       "      <td>-46.2</td>\n",
       "      <td>1.327</td>\n",
       "      <td>nao</td>\n",
       "    </tr>\n",
       "    <tr>\n",
       "      <th>2648</th>\n",
       "      <td>35</td>\n",
       "      <td>tecnico</td>\n",
       "      <td>casado</td>\n",
       "      <td>curso_tecnico</td>\n",
       "      <td>nao</td>\n",
       "      <td>nao</td>\n",
       "      <td>nao</td>\n",
       "      <td>telefone</td>\n",
       "      <td>mai</td>\n",
       "      <td>ter</td>\n",
       "      <td>104</td>\n",
       "      <td>2</td>\n",
       "      <td>999</td>\n",
       "      <td>0</td>\n",
       "      <td>nao_existente</td>\n",
       "      <td>93.994</td>\n",
       "      <td>-36.4</td>\n",
       "      <td>4.856</td>\n",
       "      <td>nao</td>\n",
       "    </tr>\n",
       "    <tr>\n",
       "      <th>6551</th>\n",
       "      <td>35</td>\n",
       "      <td>colarinho_azul</td>\n",
       "      <td>casado</td>\n",
       "      <td>fundamental_6a</td>\n",
       "      <td>NaN</td>\n",
       "      <td>nao</td>\n",
       "      <td>nao</td>\n",
       "      <td>telefone</td>\n",
       "      <td>mai</td>\n",
       "      <td>qua</td>\n",
       "      <td>313</td>\n",
       "      <td>2</td>\n",
       "      <td>999</td>\n",
       "      <td>0</td>\n",
       "      <td>nao_existente</td>\n",
       "      <td>93.994</td>\n",
       "      <td>-36.4</td>\n",
       "      <td>4.857</td>\n",
       "      <td>nao</td>\n",
       "    </tr>\n",
       "    <tr>\n",
       "      <th>25625</th>\n",
       "      <td>33</td>\n",
       "      <td>colarinho_azul</td>\n",
       "      <td>casado</td>\n",
       "      <td>fundamental_4a</td>\n",
       "      <td>nao</td>\n",
       "      <td>nao</td>\n",
       "      <td>nao</td>\n",
       "      <td>celular</td>\n",
       "      <td>nov</td>\n",
       "      <td>qua</td>\n",
       "      <td>419</td>\n",
       "      <td>5</td>\n",
       "      <td>999</td>\n",
       "      <td>0</td>\n",
       "      <td>nao_existente</td>\n",
       "      <td>93.200</td>\n",
       "      <td>-42.0</td>\n",
       "      <td>4.120</td>\n",
       "      <td>nao</td>\n",
       "    </tr>\n",
       "    <tr>\n",
       "      <th>4856</th>\n",
       "      <td>33</td>\n",
       "      <td>admin.</td>\n",
       "      <td>casado</td>\n",
       "      <td>graduacao_completa</td>\n",
       "      <td>nao</td>\n",
       "      <td>sim</td>\n",
       "      <td>nao</td>\n",
       "      <td>telefone</td>\n",
       "      <td>mai</td>\n",
       "      <td>qua</td>\n",
       "      <td>563</td>\n",
       "      <td>2</td>\n",
       "      <td>999</td>\n",
       "      <td>0</td>\n",
       "      <td>nao_existente</td>\n",
       "      <td>93.994</td>\n",
       "      <td>-36.4</td>\n",
       "      <td>4.858</td>\n",
       "      <td>nao</td>\n",
       "    </tr>\n",
       "    <tr>\n",
       "      <th>15151</th>\n",
       "      <td>27</td>\n",
       "      <td>estudante</td>\n",
       "      <td>solteiro</td>\n",
       "      <td>graduacao_completa</td>\n",
       "      <td>nao</td>\n",
       "      <td>sim</td>\n",
       "      <td>nao</td>\n",
       "      <td>celular</td>\n",
       "      <td>jul</td>\n",
       "      <td>qui</td>\n",
       "      <td>747</td>\n",
       "      <td>1</td>\n",
       "      <td>999</td>\n",
       "      <td>0</td>\n",
       "      <td>nao_existente</td>\n",
       "      <td>93.918</td>\n",
       "      <td>-42.7</td>\n",
       "      <td>4.958</td>\n",
       "      <td>nao</td>\n",
       "    </tr>\n",
       "    <tr>\n",
       "      <th>33707</th>\n",
       "      <td>27</td>\n",
       "      <td>informal</td>\n",
       "      <td>casado</td>\n",
       "      <td>fundamental_9a</td>\n",
       "      <td>nao</td>\n",
       "      <td>sim</td>\n",
       "      <td>nao</td>\n",
       "      <td>celular</td>\n",
       "      <td>mai</td>\n",
       "      <td>qua</td>\n",
       "      <td>84</td>\n",
       "      <td>1</td>\n",
       "      <td>999</td>\n",
       "      <td>0</td>\n",
       "      <td>nao_existente</td>\n",
       "      <td>92.893</td>\n",
       "      <td>-46.2</td>\n",
       "      <td>1.281</td>\n",
       "      <td>nao</td>\n",
       "    </tr>\n",
       "    <tr>\n",
       "      <th>8626</th>\n",
       "      <td>26</td>\n",
       "      <td>admin.</td>\n",
       "      <td>solteiro</td>\n",
       "      <td>ensino_medio</td>\n",
       "      <td>nao</td>\n",
       "      <td>nao</td>\n",
       "      <td>nao</td>\n",
       "      <td>telefone</td>\n",
       "      <td>jun</td>\n",
       "      <td>qua</td>\n",
       "      <td>205</td>\n",
       "      <td>6</td>\n",
       "      <td>999</td>\n",
       "      <td>0</td>\n",
       "      <td>nao_existente</td>\n",
       "      <td>94.465</td>\n",
       "      <td>-41.8</td>\n",
       "      <td>4.864</td>\n",
       "      <td>nao</td>\n",
       "    </tr>\n",
       "  </tbody>\n",
       "</table>\n",
       "</div>"
      ],
      "text/plain": [
       "       idade       profissao estado_civil            educacao inadimplente  \\\n",
       "37799     54      aposentado       casado       curso_tecnico          NaN   \n",
       "13575     54    desempregado       casado  graduacao_completa          NaN   \n",
       "31357     52          admin.     solteiro                 NaN          NaN   \n",
       "30159     51        servicos       casado      fundamental_6a          nao   \n",
       "5581      45  colarinho_azul       casado      fundamental_4a          nao   \n",
       "26581     43        servicos   divorciado        ensino_medio          nao   \n",
       "28719     43         gerente       casado                 NaN          NaN   \n",
       "28435     41          admin.       casado  graduacao_completa          NaN   \n",
       "24746     41        servicos     solteiro       curso_tecnico          nao   \n",
       "30908     40          admin.     solteiro       curso_tecnico          nao   \n",
       "28643     38  colarinho_azul       casado      fundamental_9a          nao   \n",
       "34074     37  colarinho_azul       casado      fundamental_6a          nao   \n",
       "31770     37          admin.       casado        ensino_medio          nao   \n",
       "2648      35         tecnico       casado       curso_tecnico          nao   \n",
       "6551      35  colarinho_azul       casado      fundamental_6a          NaN   \n",
       "25625     33  colarinho_azul       casado      fundamental_4a          nao   \n",
       "4856      33          admin.       casado  graduacao_completa          nao   \n",
       "15151     27       estudante     solteiro  graduacao_completa          nao   \n",
       "33707     27        informal       casado      fundamental_9a          nao   \n",
       "8626      26          admin.     solteiro        ensino_medio          nao   \n",
       "\n",
       "      emprestimo_moradia emprestimo_pessoal meio_contato  mes dia_da_semana  \\\n",
       "37799                nao                nao      celular  ago           ter   \n",
       "13575                nao                nao     telefone  jul           qui   \n",
       "31357                nao                nao      celular  mai           qua   \n",
       "30159                nao                nao      celular  abr           qui   \n",
       "5581                 nao                nao     telefone  mai           seg   \n",
       "26581                nao                nao      celular  nov           qui   \n",
       "28719                nao                nao      celular  abr           qui   \n",
       "28435                sim                sim      celular  abr           qui   \n",
       "24746                sim                nao      celular  nov           ter   \n",
       "30908                sim                nao      celular  mai           ter   \n",
       "28643                sim                nao      celular  abr           qui   \n",
       "34074                nao                sim      celular  mai           qua   \n",
       "31770                sim                nao      celular  mai           qui   \n",
       "2648                 nao                nao     telefone  mai           ter   \n",
       "6551                 nao                nao     telefone  mai           qua   \n",
       "25625                nao                nao      celular  nov           qua   \n",
       "4856                 sim                nao     telefone  mai           qua   \n",
       "15151                sim                nao      celular  jul           qui   \n",
       "33707                sim                nao      celular  mai           qua   \n",
       "8626                 nao                nao     telefone  jun           qua   \n",
       "\n",
       "       duracao  qtd_contatos_campanha  dias_ultimo_contato  \\\n",
       "37799       76                      1                  999   \n",
       "13575      106                      1                  999   \n",
       "31357      321                      1                  999   \n",
       "30159      407                      1                    2   \n",
       "5581       164                      1                  999   \n",
       "26581      329                      1                  999   \n",
       "28719       75                      2                  999   \n",
       "28435      240                      3                  999   \n",
       "24746       41                      2                  999   \n",
       "30908       43                      1                  999   \n",
       "28643      218                      1                  999   \n",
       "34074      158                      5                  999   \n",
       "31770      290                      1                  999   \n",
       "2648       104                      2                  999   \n",
       "6551       313                      2                  999   \n",
       "25625      419                      5                  999   \n",
       "4856       563                      2                  999   \n",
       "15151      747                      1                  999   \n",
       "33707       84                      1                  999   \n",
       "8626       205                      6                  999   \n",
       "\n",
       "       qtd_contatos_total campanha_anterior  indice_precos_consumidor  \\\n",
       "37799                   0     nao_existente                    92.201   \n",
       "13575                   0     nao_existente                    93.918   \n",
       "31357                   0     nao_existente                    92.893   \n",
       "30159                   1           sucesso                    93.075   \n",
       "5581                    0     nao_existente                    93.994   \n",
       "26581                   0     nao_existente                    93.200   \n",
       "28719                   0     nao_existente                    93.075   \n",
       "28435                   0     nao_existente                    93.075   \n",
       "24746                   0     nao_existente                    93.200   \n",
       "30908                   1          fracasso                    92.893   \n",
       "28643                   0     nao_existente                    93.075   \n",
       "34074                   0     nao_existente                    92.893   \n",
       "31770                   1          fracasso                    92.893   \n",
       "2648                    0     nao_existente                    93.994   \n",
       "6551                    0     nao_existente                    93.994   \n",
       "25625                   0     nao_existente                    93.200   \n",
       "4856                    0     nao_existente                    93.994   \n",
       "15151                   0     nao_existente                    93.918   \n",
       "33707                   0     nao_existente                    92.893   \n",
       "8626                    0     nao_existente                    94.465   \n",
       "\n",
       "       indice_confianca_consumidor  taxa_juros_media aderencia_campanha  \n",
       "37799                        -31.4             0.838                nao  \n",
       "13575                        -42.7             4.963                nao  \n",
       "31357                        -46.2             1.334                nao  \n",
       "30159                        -47.1             1.365                sim  \n",
       "5581                         -36.4             4.857                nao  \n",
       "26581                        -42.0             4.076                nao  \n",
       "28719                        -47.1             1.410                nao  \n",
       "28435                        -47.1             1.435                nao  \n",
       "24746                        -42.0             4.153                nao  \n",
       "30908                        -46.2             1.344                nao  \n",
       "28643                        -47.1             1.410                nao  \n",
       "34074                        -46.2             1.281                nao  \n",
       "31770                        -46.2             1.327                nao  \n",
       "2648                         -36.4             4.856                nao  \n",
       "6551                         -36.4             4.857                nao  \n",
       "25625                        -42.0             4.120                nao  \n",
       "4856                         -36.4             4.858                nao  \n",
       "15151                        -42.7             4.958                nao  \n",
       "33707                        -46.2             1.281                nao  \n",
       "8626                         -41.8             4.864                nao  "
      ]
     },
     "execution_count": 6,
     "metadata": {},
     "output_type": "execute_result"
    }
   ],
   "source": [
    "#Ordenando e entendendo o dataset pela coluna idade\n",
    "df.sample(20).sort_values(by='idade', ascending=False)"
   ]
  },
  {
   "cell_type": "markdown",
   "id": "2e12a885",
   "metadata": {},
   "source": [
    "A ideia inicial foi entender de um modo geral, como a idade está sendo relevante para a aderência da campanha. E percebe-se que em sua maioria para essa amostra de dados, as pessoas não aderiram a campanha, indicando um desbalanceamento dos dados, porém irei deixar para verificar o desbalanceamento depois de verificar outros problemas em relação ao conjunto de dados."
   ]
  },
  {
   "cell_type": "code",
   "execution_count": null,
   "id": "9cd029e5",
   "metadata": {},
   "outputs": [],
   "source": []
  },
  {
   "cell_type": "code",
   "execution_count": 7,
   "id": "04cf9436",
   "metadata": {},
   "outputs": [
    {
     "data": {
      "text/html": [
       "<div>\n",
       "<style scoped>\n",
       "    .dataframe tbody tr th:only-of-type {\n",
       "        vertical-align: middle;\n",
       "    }\n",
       "\n",
       "    .dataframe tbody tr th {\n",
       "        vertical-align: top;\n",
       "    }\n",
       "\n",
       "    .dataframe thead th {\n",
       "        text-align: right;\n",
       "    }\n",
       "</style>\n",
       "<table border=\"1\" class=\"dataframe\">\n",
       "  <thead>\n",
       "    <tr style=\"text-align: right;\">\n",
       "      <th></th>\n",
       "      <th>idade</th>\n",
       "      <th>duracao</th>\n",
       "      <th>qtd_contatos_campanha</th>\n",
       "      <th>dias_ultimo_contato</th>\n",
       "      <th>qtd_contatos_total</th>\n",
       "      <th>indice_precos_consumidor</th>\n",
       "      <th>indice_confianca_consumidor</th>\n",
       "      <th>taxa_juros_media</th>\n",
       "    </tr>\n",
       "  </thead>\n",
       "  <tbody>\n",
       "    <tr>\n",
       "      <th>count</th>\n",
       "      <td>41188.00000</td>\n",
       "      <td>41188.000000</td>\n",
       "      <td>41188.000000</td>\n",
       "      <td>41188.000000</td>\n",
       "      <td>41188.000000</td>\n",
       "      <td>41188.000000</td>\n",
       "      <td>41188.000000</td>\n",
       "      <td>41188.000000</td>\n",
       "    </tr>\n",
       "    <tr>\n",
       "      <th>mean</th>\n",
       "      <td>40.02406</td>\n",
       "      <td>258.285010</td>\n",
       "      <td>2.567593</td>\n",
       "      <td>962.475454</td>\n",
       "      <td>0.172963</td>\n",
       "      <td>93.575664</td>\n",
       "      <td>-40.502600</td>\n",
       "      <td>3.621291</td>\n",
       "    </tr>\n",
       "    <tr>\n",
       "      <th>std</th>\n",
       "      <td>10.42125</td>\n",
       "      <td>259.279249</td>\n",
       "      <td>2.770014</td>\n",
       "      <td>186.910907</td>\n",
       "      <td>0.494901</td>\n",
       "      <td>0.578840</td>\n",
       "      <td>4.628198</td>\n",
       "      <td>1.734447</td>\n",
       "    </tr>\n",
       "    <tr>\n",
       "      <th>min</th>\n",
       "      <td>17.00000</td>\n",
       "      <td>0.000000</td>\n",
       "      <td>1.000000</td>\n",
       "      <td>0.000000</td>\n",
       "      <td>0.000000</td>\n",
       "      <td>92.201000</td>\n",
       "      <td>-50.800000</td>\n",
       "      <td>0.634000</td>\n",
       "    </tr>\n",
       "    <tr>\n",
       "      <th>25%</th>\n",
       "      <td>32.00000</td>\n",
       "      <td>102.000000</td>\n",
       "      <td>1.000000</td>\n",
       "      <td>999.000000</td>\n",
       "      <td>0.000000</td>\n",
       "      <td>93.075000</td>\n",
       "      <td>-42.700000</td>\n",
       "      <td>1.344000</td>\n",
       "    </tr>\n",
       "    <tr>\n",
       "      <th>50%</th>\n",
       "      <td>38.00000</td>\n",
       "      <td>180.000000</td>\n",
       "      <td>2.000000</td>\n",
       "      <td>999.000000</td>\n",
       "      <td>0.000000</td>\n",
       "      <td>93.749000</td>\n",
       "      <td>-41.800000</td>\n",
       "      <td>4.857000</td>\n",
       "    </tr>\n",
       "    <tr>\n",
       "      <th>75%</th>\n",
       "      <td>47.00000</td>\n",
       "      <td>319.000000</td>\n",
       "      <td>3.000000</td>\n",
       "      <td>999.000000</td>\n",
       "      <td>0.000000</td>\n",
       "      <td>93.994000</td>\n",
       "      <td>-36.400000</td>\n",
       "      <td>4.961000</td>\n",
       "    </tr>\n",
       "    <tr>\n",
       "      <th>max</th>\n",
       "      <td>98.00000</td>\n",
       "      <td>4918.000000</td>\n",
       "      <td>56.000000</td>\n",
       "      <td>999.000000</td>\n",
       "      <td>7.000000</td>\n",
       "      <td>94.767000</td>\n",
       "      <td>-26.900000</td>\n",
       "      <td>5.045000</td>\n",
       "    </tr>\n",
       "  </tbody>\n",
       "</table>\n",
       "</div>"
      ],
      "text/plain": [
       "             idade       duracao  qtd_contatos_campanha  dias_ultimo_contato  \\\n",
       "count  41188.00000  41188.000000           41188.000000         41188.000000   \n",
       "mean      40.02406    258.285010               2.567593           962.475454   \n",
       "std       10.42125    259.279249               2.770014           186.910907   \n",
       "min       17.00000      0.000000               1.000000             0.000000   \n",
       "25%       32.00000    102.000000               1.000000           999.000000   \n",
       "50%       38.00000    180.000000               2.000000           999.000000   \n",
       "75%       47.00000    319.000000               3.000000           999.000000   \n",
       "max       98.00000   4918.000000              56.000000           999.000000   \n",
       "\n",
       "       qtd_contatos_total  indice_precos_consumidor  \\\n",
       "count        41188.000000              41188.000000   \n",
       "mean             0.172963                 93.575664   \n",
       "std              0.494901                  0.578840   \n",
       "min              0.000000                 92.201000   \n",
       "25%              0.000000                 93.075000   \n",
       "50%              0.000000                 93.749000   \n",
       "75%              0.000000                 93.994000   \n",
       "max              7.000000                 94.767000   \n",
       "\n",
       "       indice_confianca_consumidor  taxa_juros_media  \n",
       "count                 41188.000000      41188.000000  \n",
       "mean                    -40.502600          3.621291  \n",
       "std                       4.628198          1.734447  \n",
       "min                     -50.800000          0.634000  \n",
       "25%                     -42.700000          1.344000  \n",
       "50%                     -41.800000          4.857000  \n",
       "75%                     -36.400000          4.961000  \n",
       "max                     -26.900000          5.045000  "
      ]
     },
     "execution_count": 7,
     "metadata": {},
     "output_type": "execute_result"
    }
   ],
   "source": [
    "df.describe()"
   ]
  },
  {
   "cell_type": "code",
   "execution_count": null,
   "id": "b4a88296",
   "metadata": {},
   "outputs": [],
   "source": []
  },
  {
   "cell_type": "markdown",
   "id": "561f825d",
   "metadata": {},
   "source": [
    "### **Verificar colunas**"
   ]
  },
  {
   "cell_type": "code",
   "execution_count": 8,
   "id": "c823379e",
   "metadata": {},
   "outputs": [
    {
     "data": {
      "text/plain": [
       "Index(['idade', 'profissao', 'estado_civil', 'educacao', 'inadimplente',\n",
       "       'emprestimo_moradia', 'emprestimo_pessoal', 'meio_contato', 'mes',\n",
       "       'dia_da_semana', 'duracao', 'qtd_contatos_campanha',\n",
       "       'dias_ultimo_contato', 'qtd_contatos_total', 'campanha_anterior',\n",
       "       'indice_precos_consumidor', 'indice_confianca_consumidor',\n",
       "       'taxa_juros_media', 'aderencia_campanha'],\n",
       "      dtype='object')"
      ]
     },
     "execution_count": 8,
     "metadata": {},
     "output_type": "execute_result"
    }
   ],
   "source": [
    "df.columns"
   ]
  },
  {
   "cell_type": "code",
   "execution_count": 9,
   "id": "9f3731c8",
   "metadata": {},
   "outputs": [
    {
     "data": {
      "text/plain": [
       "idade                            int64\n",
       "profissao                       object\n",
       "estado_civil                    object\n",
       "educacao                        object\n",
       "inadimplente                    object\n",
       "emprestimo_moradia              object\n",
       "emprestimo_pessoal              object\n",
       "meio_contato                    object\n",
       "mes                             object\n",
       "dia_da_semana                   object\n",
       "duracao                          int64\n",
       "qtd_contatos_campanha            int64\n",
       "dias_ultimo_contato              int64\n",
       "qtd_contatos_total               int64\n",
       "campanha_anterior               object\n",
       "indice_precos_consumidor       float64\n",
       "indice_confianca_consumidor    float64\n",
       "taxa_juros_media               float64\n",
       "aderencia_campanha              object\n",
       "dtype: object"
      ]
     },
     "execution_count": 9,
     "metadata": {},
     "output_type": "execute_result"
    }
   ],
   "source": [
    "df.dtypes"
   ]
  },
  {
   "cell_type": "code",
   "execution_count": 10,
   "id": "220a240b",
   "metadata": {},
   "outputs": [
    {
     "data": {
      "text/plain": [
       "object     11\n",
       "int64       5\n",
       "float64     3\n",
       "dtype: int64"
      ]
     },
     "execution_count": 10,
     "metadata": {},
     "output_type": "execute_result"
    }
   ],
   "source": [
    "df.dtypes.value_counts()"
   ]
  },
  {
   "cell_type": "markdown",
   "id": "30a14f39",
   "metadata": {},
   "source": [
    "#### **Alterando o tipo das colunas**"
   ]
  },
  {
   "cell_type": "code",
   "execution_count": 11,
   "id": "203d969d",
   "metadata": {},
   "outputs": [],
   "source": [
    "df['indice_confianca_consumidor'] = df['indice_confianca_consumidor'].astype(int)\n",
    "df['taxa_juros_media'] = df['taxa_juros_media'].astype(int)\n",
    "df['indice_precos_consumidor'] = df['indice_precos_consumidor'].astype(int)"
   ]
  },
  {
   "cell_type": "code",
   "execution_count": null,
   "id": "fd9e0ae8",
   "metadata": {},
   "outputs": [],
   "source": []
  },
  {
   "cell_type": "markdown",
   "id": "8f2670db",
   "metadata": {},
   "source": [
    "### **Dados ausentes**"
   ]
  },
  {
   "cell_type": "code",
   "execution_count": 12,
   "id": "dd869995",
   "metadata": {},
   "outputs": [
    {
     "data": {
      "text/plain": [
       "idade                             0\n",
       "profissao                       330\n",
       "estado_civil                     80\n",
       "educacao                       1731\n",
       "inadimplente                   8597\n",
       "emprestimo_moradia              990\n",
       "emprestimo_pessoal              990\n",
       "meio_contato                      0\n",
       "mes                               0\n",
       "dia_da_semana                     0\n",
       "duracao                           0\n",
       "qtd_contatos_campanha             0\n",
       "dias_ultimo_contato               0\n",
       "qtd_contatos_total                0\n",
       "campanha_anterior                 0\n",
       "indice_precos_consumidor          0\n",
       "indice_confianca_consumidor       0\n",
       "taxa_juros_media                  0\n",
       "aderencia_campanha                0\n",
       "dtype: int64"
      ]
     },
     "execution_count": 12,
     "metadata": {},
     "output_type": "execute_result"
    }
   ],
   "source": [
    "df.isnull().sum()"
   ]
  },
  {
   "cell_type": "markdown",
   "id": "9d17944f",
   "metadata": {},
   "source": [
    "Existem muitos dados nulos em relação ao tamanho do dataset nas colunas educação, profissão, inadimplente, emprestimo moradia, emprestimo pessoal e estado civil, que apesar de serem colunas categóricas, podemos realizar tranformações desses dados e precisar delas durante o estudo. "
   ]
  },
  {
   "cell_type": "markdown",
   "id": "03b67887",
   "metadata": {},
   "source": [
    "Verificado que não existe problema em apagar os valores nulos dessas colunas, tendo em vista que tais variáveis não iram impactar tanto o modelo como as outras variáveis disponíveis, em seguida poderia apagar estes dados.\n",
    "\n",
    "Todavida, irei aplicar a técnica de Simple Imputer para preencher os dados ausentes pelos valores que ocorre o maior número de vezes em uma determinada coluna. Essa abordagem é bastante interessante e aplicável para colunas categóricas, sendo este o problema dos dados ausentes."
   ]
  },
  {
   "cell_type": "code",
   "execution_count": null,
   "id": "e9e0853b",
   "metadata": {},
   "outputs": [],
   "source": []
  },
  {
   "cell_type": "code",
   "execution_count": 13,
   "id": "ff746722",
   "metadata": {},
   "outputs": [],
   "source": [
    "#Criando objeto para substituir os valores ausentes\n",
    "preenche_por_frequencia = SimpleImputer(strategy = \"most_frequent\")\n",
    "\n",
    "imputer_frequencia = preenche_por_frequencia.fit_transform(df)"
   ]
  },
  {
   "cell_type": "code",
   "execution_count": 14,
   "id": "f8b7b6e7",
   "metadata": {},
   "outputs": [
    {
     "data": {
      "text/html": [
       "<div>\n",
       "<style scoped>\n",
       "    .dataframe tbody tr th:only-of-type {\n",
       "        vertical-align: middle;\n",
       "    }\n",
       "\n",
       "    .dataframe tbody tr th {\n",
       "        vertical-align: top;\n",
       "    }\n",
       "\n",
       "    .dataframe thead th {\n",
       "        text-align: right;\n",
       "    }\n",
       "</style>\n",
       "<table border=\"1\" class=\"dataframe\">\n",
       "  <thead>\n",
       "    <tr style=\"text-align: right;\">\n",
       "      <th></th>\n",
       "      <th>idade</th>\n",
       "      <th>profissao</th>\n",
       "      <th>estado_civil</th>\n",
       "      <th>educacao</th>\n",
       "      <th>inadimplente</th>\n",
       "      <th>emprestimo_moradia</th>\n",
       "      <th>emprestimo_pessoal</th>\n",
       "      <th>meio_contato</th>\n",
       "      <th>mes</th>\n",
       "      <th>dia_da_semana</th>\n",
       "      <th>duracao</th>\n",
       "      <th>qtd_contatos_campanha</th>\n",
       "      <th>dias_ultimo_contato</th>\n",
       "      <th>qtd_contatos_total</th>\n",
       "      <th>campanha_anterior</th>\n",
       "      <th>indice_precos_consumidor</th>\n",
       "      <th>indice_confianca_consumidor</th>\n",
       "      <th>taxa_juros_media</th>\n",
       "      <th>aderencia_campanha</th>\n",
       "    </tr>\n",
       "  </thead>\n",
       "  <tbody>\n",
       "    <tr>\n",
       "      <th>0</th>\n",
       "      <td>56</td>\n",
       "      <td>dona_casa</td>\n",
       "      <td>casado</td>\n",
       "      <td>fundamental_4a</td>\n",
       "      <td>nao</td>\n",
       "      <td>nao</td>\n",
       "      <td>nao</td>\n",
       "      <td>telefone</td>\n",
       "      <td>mai</td>\n",
       "      <td>seg</td>\n",
       "      <td>261</td>\n",
       "      <td>1</td>\n",
       "      <td>999</td>\n",
       "      <td>0</td>\n",
       "      <td>nao_existente</td>\n",
       "      <td>93</td>\n",
       "      <td>-36</td>\n",
       "      <td>4</td>\n",
       "      <td>nao</td>\n",
       "    </tr>\n",
       "    <tr>\n",
       "      <th>1</th>\n",
       "      <td>57</td>\n",
       "      <td>servicos</td>\n",
       "      <td>casado</td>\n",
       "      <td>ensino_medio</td>\n",
       "      <td>nao</td>\n",
       "      <td>nao</td>\n",
       "      <td>nao</td>\n",
       "      <td>telefone</td>\n",
       "      <td>mai</td>\n",
       "      <td>seg</td>\n",
       "      <td>149</td>\n",
       "      <td>1</td>\n",
       "      <td>999</td>\n",
       "      <td>0</td>\n",
       "      <td>nao_existente</td>\n",
       "      <td>93</td>\n",
       "      <td>-36</td>\n",
       "      <td>4</td>\n",
       "      <td>nao</td>\n",
       "    </tr>\n",
       "    <tr>\n",
       "      <th>2</th>\n",
       "      <td>37</td>\n",
       "      <td>servicos</td>\n",
       "      <td>casado</td>\n",
       "      <td>ensino_medio</td>\n",
       "      <td>nao</td>\n",
       "      <td>sim</td>\n",
       "      <td>nao</td>\n",
       "      <td>telefone</td>\n",
       "      <td>mai</td>\n",
       "      <td>seg</td>\n",
       "      <td>226</td>\n",
       "      <td>1</td>\n",
       "      <td>999</td>\n",
       "      <td>0</td>\n",
       "      <td>nao_existente</td>\n",
       "      <td>93</td>\n",
       "      <td>-36</td>\n",
       "      <td>4</td>\n",
       "      <td>nao</td>\n",
       "    </tr>\n",
       "    <tr>\n",
       "      <th>3</th>\n",
       "      <td>40</td>\n",
       "      <td>admin.</td>\n",
       "      <td>casado</td>\n",
       "      <td>fundamental_6a</td>\n",
       "      <td>nao</td>\n",
       "      <td>nao</td>\n",
       "      <td>nao</td>\n",
       "      <td>telefone</td>\n",
       "      <td>mai</td>\n",
       "      <td>seg</td>\n",
       "      <td>151</td>\n",
       "      <td>1</td>\n",
       "      <td>999</td>\n",
       "      <td>0</td>\n",
       "      <td>nao_existente</td>\n",
       "      <td>93</td>\n",
       "      <td>-36</td>\n",
       "      <td>4</td>\n",
       "      <td>nao</td>\n",
       "    </tr>\n",
       "    <tr>\n",
       "      <th>4</th>\n",
       "      <td>56</td>\n",
       "      <td>servicos</td>\n",
       "      <td>casado</td>\n",
       "      <td>ensino_medio</td>\n",
       "      <td>nao</td>\n",
       "      <td>nao</td>\n",
       "      <td>sim</td>\n",
       "      <td>telefone</td>\n",
       "      <td>mai</td>\n",
       "      <td>seg</td>\n",
       "      <td>307</td>\n",
       "      <td>1</td>\n",
       "      <td>999</td>\n",
       "      <td>0</td>\n",
       "      <td>nao_existente</td>\n",
       "      <td>93</td>\n",
       "      <td>-36</td>\n",
       "      <td>4</td>\n",
       "      <td>nao</td>\n",
       "    </tr>\n",
       "  </tbody>\n",
       "</table>\n",
       "</div>"
      ],
      "text/plain": [
       "  idade  profissao estado_civil        educacao inadimplente  \\\n",
       "0    56  dona_casa       casado  fundamental_4a          nao   \n",
       "1    57   servicos       casado    ensino_medio          nao   \n",
       "2    37   servicos       casado    ensino_medio          nao   \n",
       "3    40     admin.       casado  fundamental_6a          nao   \n",
       "4    56   servicos       casado    ensino_medio          nao   \n",
       "\n",
       "  emprestimo_moradia emprestimo_pessoal meio_contato  mes dia_da_semana  \\\n",
       "0                nao                nao     telefone  mai           seg   \n",
       "1                nao                nao     telefone  mai           seg   \n",
       "2                sim                nao     telefone  mai           seg   \n",
       "3                nao                nao     telefone  mai           seg   \n",
       "4                nao                sim     telefone  mai           seg   \n",
       "\n",
       "  duracao qtd_contatos_campanha dias_ultimo_contato qtd_contatos_total  \\\n",
       "0     261                     1                 999                  0   \n",
       "1     149                     1                 999                  0   \n",
       "2     226                     1                 999                  0   \n",
       "3     151                     1                 999                  0   \n",
       "4     307                     1                 999                  0   \n",
       "\n",
       "  campanha_anterior indice_precos_consumidor indice_confianca_consumidor  \\\n",
       "0     nao_existente                       93                         -36   \n",
       "1     nao_existente                       93                         -36   \n",
       "2     nao_existente                       93                         -36   \n",
       "3     nao_existente                       93                         -36   \n",
       "4     nao_existente                       93                         -36   \n",
       "\n",
       "  taxa_juros_media aderencia_campanha  \n",
       "0                4                nao  \n",
       "1                4                nao  \n",
       "2                4                nao  \n",
       "3                4                nao  \n",
       "4                4                nao  "
      ]
     },
     "execution_count": 14,
     "metadata": {},
     "output_type": "execute_result"
    }
   ],
   "source": [
    "df = pd.DataFrame(imputer_frequencia, columns=df.columns)\n",
    "df.head()"
   ]
  },
  {
   "cell_type": "code",
   "execution_count": 15,
   "id": "ade075b0",
   "metadata": {},
   "outputs": [
    {
     "data": {
      "text/plain": [
       "idade                          0\n",
       "profissao                      0\n",
       "estado_civil                   0\n",
       "educacao                       0\n",
       "inadimplente                   0\n",
       "emprestimo_moradia             0\n",
       "emprestimo_pessoal             0\n",
       "meio_contato                   0\n",
       "mes                            0\n",
       "dia_da_semana                  0\n",
       "duracao                        0\n",
       "qtd_contatos_campanha          0\n",
       "dias_ultimo_contato            0\n",
       "qtd_contatos_total             0\n",
       "campanha_anterior              0\n",
       "indice_precos_consumidor       0\n",
       "indice_confianca_consumidor    0\n",
       "taxa_juros_media               0\n",
       "aderencia_campanha             0\n",
       "dtype: int64"
      ]
     },
     "execution_count": 15,
     "metadata": {},
     "output_type": "execute_result"
    }
   ],
   "source": [
    "df.isnull().sum()"
   ]
  },
  {
   "cell_type": "code",
   "execution_count": null,
   "id": "b74b73cc",
   "metadata": {},
   "outputs": [],
   "source": []
  },
  {
   "cell_type": "markdown",
   "id": "7367e235",
   "metadata": {},
   "source": [
    "### **Transformando colunas categóricas**"
   ]
  },
  {
   "cell_type": "markdown",
   "id": "c4aa25e2",
   "metadata": {},
   "source": [
    "As colunas que possuem linhas com sim e não, consequentemente pode-se transformar facilmente em colunas com classes binárias para utilizar no processo de modelagem, então estas colunas são:"
   ]
  },
  {
   "cell_type": "code",
   "execution_count": 16,
   "id": "980860e5",
   "metadata": {},
   "outputs": [
    {
     "data": {
      "text/plain": [
       "nao    41185\n",
       "sim        3\n",
       "Name: inadimplente, dtype: int64"
      ]
     },
     "execution_count": 16,
     "metadata": {},
     "output_type": "execute_result"
    }
   ],
   "source": [
    "df.inadimplente.value_counts()"
   ]
  },
  {
   "cell_type": "code",
   "execution_count": 17,
   "id": "8e421108",
   "metadata": {},
   "outputs": [],
   "source": [
    "colunas_classe_binaria = df[['inadimplente','emprestimo_moradia', 'emprestimo_pessoal', 'aderencia_campanha']].copy()"
   ]
  },
  {
   "cell_type": "code",
   "execution_count": 18,
   "id": "25f77046",
   "metadata": {},
   "outputs": [],
   "source": [
    "# Definindo as classes\n",
    "sim_nao_map = {'sim': 1, 'nao': 0}"
   ]
  },
  {
   "cell_type": "code",
   "execution_count": 19,
   "id": "910dc155",
   "metadata": {},
   "outputs": [],
   "source": [
    "# Aplicando o mapeamento ao dataset com a função map\n",
    "for coluna in colunas_classe_binaria:\n",
    "    df[coluna] = df[coluna].map(sim_nao_map)"
   ]
  },
  {
   "cell_type": "code",
   "execution_count": null,
   "id": "51aa3d17",
   "metadata": {},
   "outputs": [],
   "source": []
  },
  {
   "cell_type": "markdown",
   "id": "df1fa52f",
   "metadata": {},
   "source": [
    "Por outro lado, apesar de não ter classificação dos registros como sim ou não, as colunas de meio de contato e campanha anterior, também podem ser transformar em classificação binaria e multiclassificação respectivamente."
   ]
  },
  {
   "cell_type": "code",
   "execution_count": 20,
   "id": "3733dcc3",
   "metadata": {},
   "outputs": [],
   "source": [
    "def make_contato(x):\n",
    "    if x == 'telefone':\n",
    "        return 0\n",
    "    else: #celular\n",
    "        return 1"
   ]
  },
  {
   "cell_type": "code",
   "execution_count": 21,
   "id": "b1f9ffb6",
   "metadata": {},
   "outputs": [],
   "source": [
    "df['meio_contato'] = df['meio_contato'].apply(make_contato)"
   ]
  },
  {
   "cell_type": "code",
   "execution_count": 22,
   "id": "0de2a459",
   "metadata": {},
   "outputs": [],
   "source": [
    "def make_campanha_anterior(x):\n",
    "    if x == 'fracasso':\n",
    "        return 0\n",
    "    if x == 'sucesso':\n",
    "        return 1\n",
    "    else: #não existente\n",
    "        return 2"
   ]
  },
  {
   "cell_type": "code",
   "execution_count": 23,
   "id": "406eb139",
   "metadata": {},
   "outputs": [],
   "source": [
    "df['campanha_anterior'] = df['campanha_anterior'].apply(make_campanha_anterior)"
   ]
  },
  {
   "cell_type": "code",
   "execution_count": null,
   "id": "9d107d24",
   "metadata": {},
   "outputs": [],
   "source": []
  },
  {
   "cell_type": "code",
   "execution_count": 24,
   "id": "1eef4c29",
   "metadata": {},
   "outputs": [
    {
     "data": {
      "text/plain": [
       "array(['mai', 'jun', 'jul', 'ago', 'out', 'nov', 'dez', 'mar', 'abr',\n",
       "       'set'], dtype=object)"
      ]
     },
     "execution_count": 24,
     "metadata": {},
     "output_type": "execute_result"
    }
   ],
   "source": [
    "df.mes.unique()"
   ]
  },
  {
   "cell_type": "markdown",
   "id": "6733e100",
   "metadata": {},
   "source": [
    "As colunas categóricas dia da semana e mês que contém os dados diários e mensais também podem acabar sendo muito relevantes para este problema em questão, tendo em vista que em muito casos o dia ou mês pode ter um alto impacto para o cliente aderir uma campanha."
   ]
  },
  {
   "cell_type": "code",
   "execution_count": 25,
   "id": "918bd4e2",
   "metadata": {},
   "outputs": [],
   "source": [
    "dias_semanais = {'seg': 1, 'ter':2, 'qua':3, 'qui':4, 'sex':5}\n",
    "df['dia_da_semana'] = df['dia_da_semana'].map(dias_semanais)"
   ]
  },
  {
   "cell_type": "code",
   "execution_count": 26,
   "id": "e3311c58",
   "metadata": {},
   "outputs": [],
   "source": [
    "meses = {'mar':3, 'abr':4, 'mai': 5, 'jun':6, 'jul':7, 'ago':8, 'set': 9, 'out':10, 'nov':11, 'dez': 12}\n",
    "df['mes'] = df['mes'].map(meses)"
   ]
  },
  {
   "cell_type": "code",
   "execution_count": 27,
   "id": "0604a696",
   "metadata": {},
   "outputs": [
    {
     "data": {
      "text/html": [
       "<div>\n",
       "<style scoped>\n",
       "    .dataframe tbody tr th:only-of-type {\n",
       "        vertical-align: middle;\n",
       "    }\n",
       "\n",
       "    .dataframe tbody tr th {\n",
       "        vertical-align: top;\n",
       "    }\n",
       "\n",
       "    .dataframe thead th {\n",
       "        text-align: right;\n",
       "    }\n",
       "</style>\n",
       "<table border=\"1\" class=\"dataframe\">\n",
       "  <thead>\n",
       "    <tr style=\"text-align: right;\">\n",
       "      <th></th>\n",
       "      <th>idade</th>\n",
       "      <th>profissao</th>\n",
       "      <th>estado_civil</th>\n",
       "      <th>educacao</th>\n",
       "      <th>inadimplente</th>\n",
       "      <th>emprestimo_moradia</th>\n",
       "      <th>emprestimo_pessoal</th>\n",
       "      <th>meio_contato</th>\n",
       "      <th>mes</th>\n",
       "      <th>dia_da_semana</th>\n",
       "      <th>duracao</th>\n",
       "      <th>qtd_contatos_campanha</th>\n",
       "      <th>dias_ultimo_contato</th>\n",
       "      <th>qtd_contatos_total</th>\n",
       "      <th>campanha_anterior</th>\n",
       "      <th>indice_precos_consumidor</th>\n",
       "      <th>indice_confianca_consumidor</th>\n",
       "      <th>taxa_juros_media</th>\n",
       "      <th>aderencia_campanha</th>\n",
       "    </tr>\n",
       "  </thead>\n",
       "  <tbody>\n",
       "    <tr>\n",
       "      <th>0</th>\n",
       "      <td>56</td>\n",
       "      <td>dona_casa</td>\n",
       "      <td>casado</td>\n",
       "      <td>fundamental_4a</td>\n",
       "      <td>0</td>\n",
       "      <td>0</td>\n",
       "      <td>0</td>\n",
       "      <td>0</td>\n",
       "      <td>5</td>\n",
       "      <td>1</td>\n",
       "      <td>261</td>\n",
       "      <td>1</td>\n",
       "      <td>999</td>\n",
       "      <td>0</td>\n",
       "      <td>2</td>\n",
       "      <td>93</td>\n",
       "      <td>-36</td>\n",
       "      <td>4</td>\n",
       "      <td>0</td>\n",
       "    </tr>\n",
       "    <tr>\n",
       "      <th>1</th>\n",
       "      <td>57</td>\n",
       "      <td>servicos</td>\n",
       "      <td>casado</td>\n",
       "      <td>ensino_medio</td>\n",
       "      <td>0</td>\n",
       "      <td>0</td>\n",
       "      <td>0</td>\n",
       "      <td>0</td>\n",
       "      <td>5</td>\n",
       "      <td>1</td>\n",
       "      <td>149</td>\n",
       "      <td>1</td>\n",
       "      <td>999</td>\n",
       "      <td>0</td>\n",
       "      <td>2</td>\n",
       "      <td>93</td>\n",
       "      <td>-36</td>\n",
       "      <td>4</td>\n",
       "      <td>0</td>\n",
       "    </tr>\n",
       "    <tr>\n",
       "      <th>2</th>\n",
       "      <td>37</td>\n",
       "      <td>servicos</td>\n",
       "      <td>casado</td>\n",
       "      <td>ensino_medio</td>\n",
       "      <td>0</td>\n",
       "      <td>1</td>\n",
       "      <td>0</td>\n",
       "      <td>0</td>\n",
       "      <td>5</td>\n",
       "      <td>1</td>\n",
       "      <td>226</td>\n",
       "      <td>1</td>\n",
       "      <td>999</td>\n",
       "      <td>0</td>\n",
       "      <td>2</td>\n",
       "      <td>93</td>\n",
       "      <td>-36</td>\n",
       "      <td>4</td>\n",
       "      <td>0</td>\n",
       "    </tr>\n",
       "    <tr>\n",
       "      <th>3</th>\n",
       "      <td>40</td>\n",
       "      <td>admin.</td>\n",
       "      <td>casado</td>\n",
       "      <td>fundamental_6a</td>\n",
       "      <td>0</td>\n",
       "      <td>0</td>\n",
       "      <td>0</td>\n",
       "      <td>0</td>\n",
       "      <td>5</td>\n",
       "      <td>1</td>\n",
       "      <td>151</td>\n",
       "      <td>1</td>\n",
       "      <td>999</td>\n",
       "      <td>0</td>\n",
       "      <td>2</td>\n",
       "      <td>93</td>\n",
       "      <td>-36</td>\n",
       "      <td>4</td>\n",
       "      <td>0</td>\n",
       "    </tr>\n",
       "    <tr>\n",
       "      <th>4</th>\n",
       "      <td>56</td>\n",
       "      <td>servicos</td>\n",
       "      <td>casado</td>\n",
       "      <td>ensino_medio</td>\n",
       "      <td>0</td>\n",
       "      <td>0</td>\n",
       "      <td>1</td>\n",
       "      <td>0</td>\n",
       "      <td>5</td>\n",
       "      <td>1</td>\n",
       "      <td>307</td>\n",
       "      <td>1</td>\n",
       "      <td>999</td>\n",
       "      <td>0</td>\n",
       "      <td>2</td>\n",
       "      <td>93</td>\n",
       "      <td>-36</td>\n",
       "      <td>4</td>\n",
       "      <td>0</td>\n",
       "    </tr>\n",
       "  </tbody>\n",
       "</table>\n",
       "</div>"
      ],
      "text/plain": [
       "  idade  profissao estado_civil        educacao  inadimplente  \\\n",
       "0    56  dona_casa       casado  fundamental_4a             0   \n",
       "1    57   servicos       casado    ensino_medio             0   \n",
       "2    37   servicos       casado    ensino_medio             0   \n",
       "3    40     admin.       casado  fundamental_6a             0   \n",
       "4    56   servicos       casado    ensino_medio             0   \n",
       "\n",
       "   emprestimo_moradia  emprestimo_pessoal  meio_contato  mes  dia_da_semana  \\\n",
       "0                   0                   0             0    5              1   \n",
       "1                   0                   0             0    5              1   \n",
       "2                   1                   0             0    5              1   \n",
       "3                   0                   0             0    5              1   \n",
       "4                   0                   1             0    5              1   \n",
       "\n",
       "  duracao qtd_contatos_campanha dias_ultimo_contato qtd_contatos_total  \\\n",
       "0     261                     1                 999                  0   \n",
       "1     149                     1                 999                  0   \n",
       "2     226                     1                 999                  0   \n",
       "3     151                     1                 999                  0   \n",
       "4     307                     1                 999                  0   \n",
       "\n",
       "   campanha_anterior indice_precos_consumidor indice_confianca_consumidor  \\\n",
       "0                  2                       93                         -36   \n",
       "1                  2                       93                         -36   \n",
       "2                  2                       93                         -36   \n",
       "3                  2                       93                         -36   \n",
       "4                  2                       93                         -36   \n",
       "\n",
       "  taxa_juros_media  aderencia_campanha  \n",
       "0                4                   0  \n",
       "1                4                   0  \n",
       "2                4                   0  \n",
       "3                4                   0  \n",
       "4                4                   0  "
      ]
     },
     "execution_count": 27,
     "metadata": {},
     "output_type": "execute_result"
    }
   ],
   "source": [
    "df.head()"
   ]
  },
  {
   "cell_type": "code",
   "execution_count": null,
   "id": "caec5880",
   "metadata": {},
   "outputs": [],
   "source": []
  },
  {
   "cell_type": "markdown",
   "id": "922187e2",
   "metadata": {},
   "source": [
    "Uma outra forma interessantes de se trabalhar com variáveis categóricas é através da utilização do One-hot encoding."
   ]
  },
  {
   "cell_type": "markdown",
   "id": "fd897cbc",
   "metadata": {},
   "source": [
    "Com ele, uma variável categórica com  categorias é transformada em  novas variáveis binárias (0 ou 1), onde a presença do 1 (hot) significa que aquela observação pertence àquela categoria, e 0 (cold) que não pertence. "
   ]
  },
  {
   "cell_type": "markdown",
   "id": "4d514484",
   "metadata": {},
   "source": [
    "O objetivo com o one-hot encoding é transformar determinada variável categórica em uma sequência de variáveis numéricas binárias, cada uma descrevendo uma classe da variável. Algumas variáveis que podemos aplicar está técnica e seja útil para o modelo são:\n",
    "\n",
    "* estado_civil \n",
    "* profissão\n",
    "* educação"
   ]
  },
  {
   "cell_type": "markdown",
   "id": "0fbd9650",
   "metadata": {},
   "source": [
    "Porém, está ténica só será aplicada as variáveis Educação e Profissão, para a variável estado civil não será necessário, então o próximo passo é treinar e transformar o encoder. O motivo é que possivelmente as variáveis educação e profissão tenha um impacto maior, tendo em vista que possivelmente existe uma tendência para as pessoas que tem uma educação e profissão melhores aderir mais a campanha. "
   ]
  },
  {
   "cell_type": "code",
   "execution_count": 28,
   "id": "6fc23400",
   "metadata": {},
   "outputs": [],
   "source": [
    "one_hot_encoder_educacao = OneHotEncoder(sparse=False, dtype=np.int)"
   ]
  },
  {
   "cell_type": "code",
   "execution_count": 29,
   "id": "079ed515",
   "metadata": {},
   "outputs": [],
   "source": [
    "df_encoded_educacao = one_hot_encoder_educacao.fit_transform(df[[\"educacao\"]])"
   ]
  },
  {
   "cell_type": "code",
   "execution_count": 30,
   "id": "3e4e03e4",
   "metadata": {},
   "outputs": [],
   "source": [
    "one_hot_encoder_profissao = OneHotEncoder(sparse=False, dtype=np.int)"
   ]
  },
  {
   "cell_type": "code",
   "execution_count": 31,
   "id": "3cf7c173",
   "metadata": {},
   "outputs": [],
   "source": [
    "df_encoded_profissao = one_hot_encoder_profissao.fit_transform(df[[\"profissao\"]])"
   ]
  },
  {
   "cell_type": "code",
   "execution_count": null,
   "id": "25ce9723",
   "metadata": {},
   "outputs": [],
   "source": []
  },
  {
   "cell_type": "markdown",
   "id": "a91144c5",
   "metadata": {},
   "source": [
    "Através do atributo categories_ do encoder, pode-se visualizar como ficou as categorias de cada variável que foi transformada."
   ]
  },
  {
   "cell_type": "code",
   "execution_count": 32,
   "id": "7a03e54a",
   "metadata": {},
   "outputs": [
    {
     "data": {
      "text/plain": [
       "[array(['analfabeto', 'curso_tecnico', 'ensino_medio', 'fundamental_4a',\n",
       "        'fundamental_6a', 'fundamental_9a', 'graduacao_completa'],\n",
       "       dtype=object)]"
      ]
     },
     "execution_count": 32,
     "metadata": {},
     "output_type": "execute_result"
    }
   ],
   "source": [
    "one_hot_encoder_educacao.categories_"
   ]
  },
  {
   "cell_type": "code",
   "execution_count": 33,
   "id": "324ec779",
   "metadata": {},
   "outputs": [
    {
     "data": {
      "text/plain": [
       "[array(['admin.', 'aposentado', 'colarinho_azul', 'desempregado',\n",
       "        'dona_casa', 'empreendedor', 'estudante', 'gerente', 'informal',\n",
       "        'servicos', 'tecnico'], dtype=object)]"
      ]
     },
     "execution_count": 33,
     "metadata": {},
     "output_type": "execute_result"
    }
   ],
   "source": [
    "one_hot_encoder_profissao.categories_"
   ]
  },
  {
   "cell_type": "code",
   "execution_count": null,
   "id": "e199c1a9",
   "metadata": {},
   "outputs": [],
   "source": []
  },
  {
   "cell_type": "markdown",
   "id": "cd877653",
   "metadata": {},
   "source": [
    "Agora posso criar as novas colunas que descrevem cada categoria. \n",
    "\n",
    "Repare que, para qualquer linha, apenas uma das colunas contém um 1, indicando a qual categoria aquela observação pertence. Isso acontece, obviamente, se as categorias forem mutuamente exclusivas (uma observação não pode pertencer a mais de uma categoria simultaneamente)."
   ]
  },
  {
   "cell_type": "code",
   "execution_count": null,
   "id": "337f6beb",
   "metadata": {},
   "outputs": [],
   "source": []
  },
  {
   "cell_type": "code",
   "execution_count": 34,
   "id": "50256ff4",
   "metadata": {},
   "outputs": [
    {
     "data": {
      "text/html": [
       "<div>\n",
       "<style scoped>\n",
       "    .dataframe tbody tr th:only-of-type {\n",
       "        vertical-align: middle;\n",
       "    }\n",
       "\n",
       "    .dataframe tbody tr th {\n",
       "        vertical-align: top;\n",
       "    }\n",
       "\n",
       "    .dataframe thead th {\n",
       "        text-align: right;\n",
       "    }\n",
       "</style>\n",
       "<table border=\"1\" class=\"dataframe\">\n",
       "  <thead>\n",
       "    <tr style=\"text-align: right;\">\n",
       "      <th></th>\n",
       "      <th>analfabeto</th>\n",
       "      <th>curso_tecnico</th>\n",
       "      <th>ensino_medio</th>\n",
       "      <th>fundamental_4a</th>\n",
       "      <th>fundamental_6a</th>\n",
       "      <th>fundamental_9a</th>\n",
       "      <th>graduacao_completa</th>\n",
       "    </tr>\n",
       "  </thead>\n",
       "  <tbody>\n",
       "    <tr>\n",
       "      <th>0</th>\n",
       "      <td>0</td>\n",
       "      <td>0</td>\n",
       "      <td>0</td>\n",
       "      <td>1</td>\n",
       "      <td>0</td>\n",
       "      <td>0</td>\n",
       "      <td>0</td>\n",
       "    </tr>\n",
       "    <tr>\n",
       "      <th>1</th>\n",
       "      <td>0</td>\n",
       "      <td>0</td>\n",
       "      <td>1</td>\n",
       "      <td>0</td>\n",
       "      <td>0</td>\n",
       "      <td>0</td>\n",
       "      <td>0</td>\n",
       "    </tr>\n",
       "    <tr>\n",
       "      <th>2</th>\n",
       "      <td>0</td>\n",
       "      <td>0</td>\n",
       "      <td>1</td>\n",
       "      <td>0</td>\n",
       "      <td>0</td>\n",
       "      <td>0</td>\n",
       "      <td>0</td>\n",
       "    </tr>\n",
       "    <tr>\n",
       "      <th>3</th>\n",
       "      <td>0</td>\n",
       "      <td>0</td>\n",
       "      <td>0</td>\n",
       "      <td>0</td>\n",
       "      <td>1</td>\n",
       "      <td>0</td>\n",
       "      <td>0</td>\n",
       "    </tr>\n",
       "    <tr>\n",
       "      <th>4</th>\n",
       "      <td>0</td>\n",
       "      <td>0</td>\n",
       "      <td>1</td>\n",
       "      <td>0</td>\n",
       "      <td>0</td>\n",
       "      <td>0</td>\n",
       "      <td>0</td>\n",
       "    </tr>\n",
       "    <tr>\n",
       "      <th>5</th>\n",
       "      <td>0</td>\n",
       "      <td>0</td>\n",
       "      <td>0</td>\n",
       "      <td>0</td>\n",
       "      <td>0</td>\n",
       "      <td>1</td>\n",
       "      <td>0</td>\n",
       "    </tr>\n",
       "    <tr>\n",
       "      <th>6</th>\n",
       "      <td>0</td>\n",
       "      <td>1</td>\n",
       "      <td>0</td>\n",
       "      <td>0</td>\n",
       "      <td>0</td>\n",
       "      <td>0</td>\n",
       "      <td>0</td>\n",
       "    </tr>\n",
       "    <tr>\n",
       "      <th>7</th>\n",
       "      <td>0</td>\n",
       "      <td>0</td>\n",
       "      <td>0</td>\n",
       "      <td>0</td>\n",
       "      <td>0</td>\n",
       "      <td>0</td>\n",
       "      <td>1</td>\n",
       "    </tr>\n",
       "    <tr>\n",
       "      <th>8</th>\n",
       "      <td>0</td>\n",
       "      <td>1</td>\n",
       "      <td>0</td>\n",
       "      <td>0</td>\n",
       "      <td>0</td>\n",
       "      <td>0</td>\n",
       "      <td>0</td>\n",
       "    </tr>\n",
       "    <tr>\n",
       "      <th>9</th>\n",
       "      <td>0</td>\n",
       "      <td>0</td>\n",
       "      <td>1</td>\n",
       "      <td>0</td>\n",
       "      <td>0</td>\n",
       "      <td>0</td>\n",
       "      <td>0</td>\n",
       "    </tr>\n",
       "  </tbody>\n",
       "</table>\n",
       "</div>"
      ],
      "text/plain": [
       "   analfabeto  curso_tecnico  ensino_medio  fundamental_4a  fundamental_6a  \\\n",
       "0           0              0             0               1               0   \n",
       "1           0              0             1               0               0   \n",
       "2           0              0             1               0               0   \n",
       "3           0              0             0               0               1   \n",
       "4           0              0             1               0               0   \n",
       "5           0              0             0               0               0   \n",
       "6           0              1             0               0               0   \n",
       "7           0              0             0               0               0   \n",
       "8           0              1             0               0               0   \n",
       "9           0              0             1               0               0   \n",
       "\n",
       "   fundamental_9a  graduacao_completa  \n",
       "0               0                   0  \n",
       "1               0                   0  \n",
       "2               0                   0  \n",
       "3               0                   0  \n",
       "4               0                   0  \n",
       "5               1                   0  \n",
       "6               0                   0  \n",
       "7               0                   1  \n",
       "8               0                   0  \n",
       "9               0                   0  "
      ]
     },
     "execution_count": 34,
     "metadata": {},
     "output_type": "execute_result"
    }
   ],
   "source": [
    "columns_encoded_educacao = one_hot_encoder_educacao.categories_[0]\n",
    "\n",
    "df = pd.concat([df, pd.DataFrame(df_encoded_educacao, columns=columns_encoded_educacao)], axis=1)\n",
    "\n",
    "df[['analfabeto','curso_tecnico','ensino_medio','fundamental_4a','fundamental_6a','fundamental_9a','graduacao_completa']].head(10)"
   ]
  },
  {
   "cell_type": "code",
   "execution_count": null,
   "id": "7fe0026f",
   "metadata": {},
   "outputs": [],
   "source": []
  },
  {
   "cell_type": "code",
   "execution_count": 35,
   "id": "a916ebf2",
   "metadata": {},
   "outputs": [],
   "source": [
    "columns_encoded_profissao = one_hot_encoder_profissao.categories_[0]\n",
    "\n",
    "df = pd.concat([df, pd.DataFrame(df_encoded_profissao, columns=columns_encoded_profissao)], axis=1)"
   ]
  },
  {
   "cell_type": "code",
   "execution_count": 36,
   "id": "cad0c7af",
   "metadata": {},
   "outputs": [
    {
     "data": {
      "text/html": [
       "<div>\n",
       "<style scoped>\n",
       "    .dataframe tbody tr th:only-of-type {\n",
       "        vertical-align: middle;\n",
       "    }\n",
       "\n",
       "    .dataframe tbody tr th {\n",
       "        vertical-align: top;\n",
       "    }\n",
       "\n",
       "    .dataframe thead th {\n",
       "        text-align: right;\n",
       "    }\n",
       "</style>\n",
       "<table border=\"1\" class=\"dataframe\">\n",
       "  <thead>\n",
       "    <tr style=\"text-align: right;\">\n",
       "      <th></th>\n",
       "      <th>admin.</th>\n",
       "      <th>aposentado</th>\n",
       "      <th>colarinho_azul</th>\n",
       "      <th>desempregado</th>\n",
       "      <th>dona_casa</th>\n",
       "      <th>empreendedor</th>\n",
       "      <th>estudante</th>\n",
       "      <th>gerente</th>\n",
       "      <th>informal</th>\n",
       "      <th>servicos</th>\n",
       "      <th>tecnico</th>\n",
       "    </tr>\n",
       "  </thead>\n",
       "  <tbody>\n",
       "    <tr>\n",
       "      <th>0</th>\n",
       "      <td>0</td>\n",
       "      <td>0</td>\n",
       "      <td>0</td>\n",
       "      <td>0</td>\n",
       "      <td>1</td>\n",
       "      <td>0</td>\n",
       "      <td>0</td>\n",
       "      <td>0</td>\n",
       "      <td>0</td>\n",
       "      <td>0</td>\n",
       "      <td>0</td>\n",
       "    </tr>\n",
       "    <tr>\n",
       "      <th>1</th>\n",
       "      <td>0</td>\n",
       "      <td>0</td>\n",
       "      <td>0</td>\n",
       "      <td>0</td>\n",
       "      <td>0</td>\n",
       "      <td>0</td>\n",
       "      <td>0</td>\n",
       "      <td>0</td>\n",
       "      <td>0</td>\n",
       "      <td>1</td>\n",
       "      <td>0</td>\n",
       "    </tr>\n",
       "    <tr>\n",
       "      <th>2</th>\n",
       "      <td>0</td>\n",
       "      <td>0</td>\n",
       "      <td>0</td>\n",
       "      <td>0</td>\n",
       "      <td>0</td>\n",
       "      <td>0</td>\n",
       "      <td>0</td>\n",
       "      <td>0</td>\n",
       "      <td>0</td>\n",
       "      <td>1</td>\n",
       "      <td>0</td>\n",
       "    </tr>\n",
       "    <tr>\n",
       "      <th>3</th>\n",
       "      <td>1</td>\n",
       "      <td>0</td>\n",
       "      <td>0</td>\n",
       "      <td>0</td>\n",
       "      <td>0</td>\n",
       "      <td>0</td>\n",
       "      <td>0</td>\n",
       "      <td>0</td>\n",
       "      <td>0</td>\n",
       "      <td>0</td>\n",
       "      <td>0</td>\n",
       "    </tr>\n",
       "    <tr>\n",
       "      <th>4</th>\n",
       "      <td>0</td>\n",
       "      <td>0</td>\n",
       "      <td>0</td>\n",
       "      <td>0</td>\n",
       "      <td>0</td>\n",
       "      <td>0</td>\n",
       "      <td>0</td>\n",
       "      <td>0</td>\n",
       "      <td>0</td>\n",
       "      <td>1</td>\n",
       "      <td>0</td>\n",
       "    </tr>\n",
       "  </tbody>\n",
       "</table>\n",
       "</div>"
      ],
      "text/plain": [
       "   admin.  aposentado  colarinho_azul  desempregado  dona_casa  empreendedor  \\\n",
       "0       0           0               0             0          1             0   \n",
       "1       0           0               0             0          0             0   \n",
       "2       0           0               0             0          0             0   \n",
       "3       1           0               0             0          0             0   \n",
       "4       0           0               0             0          0             0   \n",
       "\n",
       "   estudante  gerente  informal  servicos  tecnico  \n",
       "0          0        0         0         0        0  \n",
       "1          0        0         0         1        0  \n",
       "2          0        0         0         1        0  \n",
       "3          0        0         0         0        0  \n",
       "4          0        0         0         1        0  "
      ]
     },
     "execution_count": 36,
     "metadata": {},
     "output_type": "execute_result"
    }
   ],
   "source": [
    "df[['admin.','aposentado','colarinho_azul','desempregado','dona_casa','empreendedor','estudante','gerente','informal','servicos','tecnico']].head()"
   ]
  },
  {
   "cell_type": "markdown",
   "id": "cdd61815",
   "metadata": {},
   "source": [
    "A maior parte da matriz retornada é composta por zeros, sendo apenas alguns elementos compostos de um.\n",
    "\n",
    "Dizemos que essa matriz é esparsa. O que pode acabar sendo um grande desperdício de memória trabalhar diretamente como uma matriz esparsa assim. Por isso, existe o default do OneHotEncoder que retorna uma sparse matrix do NumPy, economizando espaço em memória, mas para este problema foi decidido não aplicar."
   ]
  },
  {
   "cell_type": "code",
   "execution_count": null,
   "id": "499ed718",
   "metadata": {},
   "outputs": [],
   "source": []
  },
  {
   "cell_type": "code",
   "execution_count": null,
   "id": "da2e4e63",
   "metadata": {},
   "outputs": [],
   "source": []
  },
  {
   "cell_type": "markdown",
   "id": "2243175d",
   "metadata": {},
   "source": [
    "### **Como os dados estão distribuidos?**"
   ]
  },
  {
   "cell_type": "markdown",
   "id": "a2637e0d",
   "metadata": {},
   "source": [
    "#### **Teste de shapiro-wilk**"
   ]
  },
  {
   "cell_type": "markdown",
   "id": "25608204",
   "metadata": {},
   "source": [
    "O teste de Shapiro-Wilk é um teste de aderência à distribuição normal, que é abreviado para teste de normalidade. O intuito será verificar se algumas variáveis númericas vem ou não de uma distribuição normal."
   ]
  },
  {
   "cell_type": "markdown",
   "id": "9b4cbf49",
   "metadata": {},
   "source": [
    "A hipótese nula, é a normalidade dos dados. Se o valor-p for menor que o nível de significância , então temos evidências de que os dados não vêm de uma distribuição normal. Se o valor-p for maior que alpha, então não podemos afimar que os dados não vêm de uma distribuição normal (o que é sutilmente diferente de afirmar que eles vêm de uma distribuição normal).\n",
    "\n"
   ]
  },
  {
   "cell_type": "markdown",
   "id": "8e7ae69f",
   "metadata": {},
   "source": [
    "Irei aplicar o teste de shapiro wilk e também verificar a distribuição dos dados para as colunas númericas que considerei importantes para o problema e consequentemente o desempenho do modelo."
   ]
  },
  {
   "cell_type": "code",
   "execution_count": 37,
   "id": "a7f421e8",
   "metadata": {},
   "outputs": [],
   "source": [
    "def teste_shapiro_wilk(sample):\n",
    "    # Retorne aqui o resultado da questão 1.\n",
    "\n",
    "    # Teste de normalidade:\n",
    "    stat, p = sct.shapiro(sample)\n",
    "    print(f'statistics:{stat}, p-value:{p}')\n",
    "\n",
    "    # Interpretação:\n",
    "    alpha = 0.05\n",
    "    if p > alpha:\n",
    "        return True\n",
    "    else:\n",
    "        return False\n",
    "    "
   ]
  },
  {
   "cell_type": "code",
   "execution_count": 38,
   "id": "255915f5",
   "metadata": {},
   "outputs": [
    {
     "data": {
      "text/html": [
       "<div>\n",
       "<style scoped>\n",
       "    .dataframe tbody tr th:only-of-type {\n",
       "        vertical-align: middle;\n",
       "    }\n",
       "\n",
       "    .dataframe tbody tr th {\n",
       "        vertical-align: top;\n",
       "    }\n",
       "\n",
       "    .dataframe thead th {\n",
       "        text-align: right;\n",
       "    }\n",
       "</style>\n",
       "<table border=\"1\" class=\"dataframe\">\n",
       "  <thead>\n",
       "    <tr style=\"text-align: right;\">\n",
       "      <th></th>\n",
       "      <th>idade</th>\n",
       "      <th>profissao</th>\n",
       "      <th>estado_civil</th>\n",
       "      <th>educacao</th>\n",
       "      <th>inadimplente</th>\n",
       "      <th>emprestimo_moradia</th>\n",
       "      <th>emprestimo_pessoal</th>\n",
       "      <th>meio_contato</th>\n",
       "      <th>mes</th>\n",
       "      <th>dia_da_semana</th>\n",
       "      <th>duracao</th>\n",
       "      <th>qtd_contatos_campanha</th>\n",
       "      <th>dias_ultimo_contato</th>\n",
       "      <th>qtd_contatos_total</th>\n",
       "      <th>campanha_anterior</th>\n",
       "      <th>indice_precos_consumidor</th>\n",
       "      <th>indice_confianca_consumidor</th>\n",
       "      <th>taxa_juros_media</th>\n",
       "      <th>aderencia_campanha</th>\n",
       "      <th>analfabeto</th>\n",
       "      <th>curso_tecnico</th>\n",
       "      <th>ensino_medio</th>\n",
       "      <th>fundamental_4a</th>\n",
       "      <th>fundamental_6a</th>\n",
       "      <th>fundamental_9a</th>\n",
       "      <th>graduacao_completa</th>\n",
       "      <th>admin.</th>\n",
       "      <th>aposentado</th>\n",
       "      <th>colarinho_azul</th>\n",
       "      <th>desempregado</th>\n",
       "      <th>dona_casa</th>\n",
       "      <th>empreendedor</th>\n",
       "      <th>estudante</th>\n",
       "      <th>gerente</th>\n",
       "      <th>informal</th>\n",
       "      <th>servicos</th>\n",
       "      <th>tecnico</th>\n",
       "    </tr>\n",
       "  </thead>\n",
       "  <tbody>\n",
       "    <tr>\n",
       "      <th>0</th>\n",
       "      <td>56</td>\n",
       "      <td>dona_casa</td>\n",
       "      <td>casado</td>\n",
       "      <td>fundamental_4a</td>\n",
       "      <td>0</td>\n",
       "      <td>0</td>\n",
       "      <td>0</td>\n",
       "      <td>0</td>\n",
       "      <td>5</td>\n",
       "      <td>1</td>\n",
       "      <td>261</td>\n",
       "      <td>1</td>\n",
       "      <td>999</td>\n",
       "      <td>0</td>\n",
       "      <td>2</td>\n",
       "      <td>93</td>\n",
       "      <td>-36</td>\n",
       "      <td>4</td>\n",
       "      <td>0</td>\n",
       "      <td>0</td>\n",
       "      <td>0</td>\n",
       "      <td>0</td>\n",
       "      <td>1</td>\n",
       "      <td>0</td>\n",
       "      <td>0</td>\n",
       "      <td>0</td>\n",
       "      <td>0</td>\n",
       "      <td>0</td>\n",
       "      <td>0</td>\n",
       "      <td>0</td>\n",
       "      <td>1</td>\n",
       "      <td>0</td>\n",
       "      <td>0</td>\n",
       "      <td>0</td>\n",
       "      <td>0</td>\n",
       "      <td>0</td>\n",
       "      <td>0</td>\n",
       "    </tr>\n",
       "    <tr>\n",
       "      <th>1</th>\n",
       "      <td>57</td>\n",
       "      <td>servicos</td>\n",
       "      <td>casado</td>\n",
       "      <td>ensino_medio</td>\n",
       "      <td>0</td>\n",
       "      <td>0</td>\n",
       "      <td>0</td>\n",
       "      <td>0</td>\n",
       "      <td>5</td>\n",
       "      <td>1</td>\n",
       "      <td>149</td>\n",
       "      <td>1</td>\n",
       "      <td>999</td>\n",
       "      <td>0</td>\n",
       "      <td>2</td>\n",
       "      <td>93</td>\n",
       "      <td>-36</td>\n",
       "      <td>4</td>\n",
       "      <td>0</td>\n",
       "      <td>0</td>\n",
       "      <td>0</td>\n",
       "      <td>1</td>\n",
       "      <td>0</td>\n",
       "      <td>0</td>\n",
       "      <td>0</td>\n",
       "      <td>0</td>\n",
       "      <td>0</td>\n",
       "      <td>0</td>\n",
       "      <td>0</td>\n",
       "      <td>0</td>\n",
       "      <td>0</td>\n",
       "      <td>0</td>\n",
       "      <td>0</td>\n",
       "      <td>0</td>\n",
       "      <td>0</td>\n",
       "      <td>1</td>\n",
       "      <td>0</td>\n",
       "    </tr>\n",
       "    <tr>\n",
       "      <th>2</th>\n",
       "      <td>37</td>\n",
       "      <td>servicos</td>\n",
       "      <td>casado</td>\n",
       "      <td>ensino_medio</td>\n",
       "      <td>0</td>\n",
       "      <td>1</td>\n",
       "      <td>0</td>\n",
       "      <td>0</td>\n",
       "      <td>5</td>\n",
       "      <td>1</td>\n",
       "      <td>226</td>\n",
       "      <td>1</td>\n",
       "      <td>999</td>\n",
       "      <td>0</td>\n",
       "      <td>2</td>\n",
       "      <td>93</td>\n",
       "      <td>-36</td>\n",
       "      <td>4</td>\n",
       "      <td>0</td>\n",
       "      <td>0</td>\n",
       "      <td>0</td>\n",
       "      <td>1</td>\n",
       "      <td>0</td>\n",
       "      <td>0</td>\n",
       "      <td>0</td>\n",
       "      <td>0</td>\n",
       "      <td>0</td>\n",
       "      <td>0</td>\n",
       "      <td>0</td>\n",
       "      <td>0</td>\n",
       "      <td>0</td>\n",
       "      <td>0</td>\n",
       "      <td>0</td>\n",
       "      <td>0</td>\n",
       "      <td>0</td>\n",
       "      <td>1</td>\n",
       "      <td>0</td>\n",
       "    </tr>\n",
       "    <tr>\n",
       "      <th>3</th>\n",
       "      <td>40</td>\n",
       "      <td>admin.</td>\n",
       "      <td>casado</td>\n",
       "      <td>fundamental_6a</td>\n",
       "      <td>0</td>\n",
       "      <td>0</td>\n",
       "      <td>0</td>\n",
       "      <td>0</td>\n",
       "      <td>5</td>\n",
       "      <td>1</td>\n",
       "      <td>151</td>\n",
       "      <td>1</td>\n",
       "      <td>999</td>\n",
       "      <td>0</td>\n",
       "      <td>2</td>\n",
       "      <td>93</td>\n",
       "      <td>-36</td>\n",
       "      <td>4</td>\n",
       "      <td>0</td>\n",
       "      <td>0</td>\n",
       "      <td>0</td>\n",
       "      <td>0</td>\n",
       "      <td>0</td>\n",
       "      <td>1</td>\n",
       "      <td>0</td>\n",
       "      <td>0</td>\n",
       "      <td>1</td>\n",
       "      <td>0</td>\n",
       "      <td>0</td>\n",
       "      <td>0</td>\n",
       "      <td>0</td>\n",
       "      <td>0</td>\n",
       "      <td>0</td>\n",
       "      <td>0</td>\n",
       "      <td>0</td>\n",
       "      <td>0</td>\n",
       "      <td>0</td>\n",
       "    </tr>\n",
       "    <tr>\n",
       "      <th>4</th>\n",
       "      <td>56</td>\n",
       "      <td>servicos</td>\n",
       "      <td>casado</td>\n",
       "      <td>ensino_medio</td>\n",
       "      <td>0</td>\n",
       "      <td>0</td>\n",
       "      <td>1</td>\n",
       "      <td>0</td>\n",
       "      <td>5</td>\n",
       "      <td>1</td>\n",
       "      <td>307</td>\n",
       "      <td>1</td>\n",
       "      <td>999</td>\n",
       "      <td>0</td>\n",
       "      <td>2</td>\n",
       "      <td>93</td>\n",
       "      <td>-36</td>\n",
       "      <td>4</td>\n",
       "      <td>0</td>\n",
       "      <td>0</td>\n",
       "      <td>0</td>\n",
       "      <td>1</td>\n",
       "      <td>0</td>\n",
       "      <td>0</td>\n",
       "      <td>0</td>\n",
       "      <td>0</td>\n",
       "      <td>0</td>\n",
       "      <td>0</td>\n",
       "      <td>0</td>\n",
       "      <td>0</td>\n",
       "      <td>0</td>\n",
       "      <td>0</td>\n",
       "      <td>0</td>\n",
       "      <td>0</td>\n",
       "      <td>0</td>\n",
       "      <td>1</td>\n",
       "      <td>0</td>\n",
       "    </tr>\n",
       "  </tbody>\n",
       "</table>\n",
       "</div>"
      ],
      "text/plain": [
       "  idade  profissao estado_civil        educacao  inadimplente  \\\n",
       "0    56  dona_casa       casado  fundamental_4a             0   \n",
       "1    57   servicos       casado    ensino_medio             0   \n",
       "2    37   servicos       casado    ensino_medio             0   \n",
       "3    40     admin.       casado  fundamental_6a             0   \n",
       "4    56   servicos       casado    ensino_medio             0   \n",
       "\n",
       "   emprestimo_moradia  emprestimo_pessoal  meio_contato  mes  dia_da_semana  \\\n",
       "0                   0                   0             0    5              1   \n",
       "1                   0                   0             0    5              1   \n",
       "2                   1                   0             0    5              1   \n",
       "3                   0                   0             0    5              1   \n",
       "4                   0                   1             0    5              1   \n",
       "\n",
       "  duracao qtd_contatos_campanha dias_ultimo_contato qtd_contatos_total  \\\n",
       "0     261                     1                 999                  0   \n",
       "1     149                     1                 999                  0   \n",
       "2     226                     1                 999                  0   \n",
       "3     151                     1                 999                  0   \n",
       "4     307                     1                 999                  0   \n",
       "\n",
       "   campanha_anterior indice_precos_consumidor indice_confianca_consumidor  \\\n",
       "0                  2                       93                         -36   \n",
       "1                  2                       93                         -36   \n",
       "2                  2                       93                         -36   \n",
       "3                  2                       93                         -36   \n",
       "4                  2                       93                         -36   \n",
       "\n",
       "  taxa_juros_media  aderencia_campanha  analfabeto  curso_tecnico  \\\n",
       "0                4                   0           0              0   \n",
       "1                4                   0           0              0   \n",
       "2                4                   0           0              0   \n",
       "3                4                   0           0              0   \n",
       "4                4                   0           0              0   \n",
       "\n",
       "   ensino_medio  fundamental_4a  fundamental_6a  fundamental_9a  \\\n",
       "0             0               1               0               0   \n",
       "1             1               0               0               0   \n",
       "2             1               0               0               0   \n",
       "3             0               0               1               0   \n",
       "4             1               0               0               0   \n",
       "\n",
       "   graduacao_completa  admin.  aposentado  colarinho_azul  desempregado  \\\n",
       "0                   0       0           0               0             0   \n",
       "1                   0       0           0               0             0   \n",
       "2                   0       0           0               0             0   \n",
       "3                   0       1           0               0             0   \n",
       "4                   0       0           0               0             0   \n",
       "\n",
       "   dona_casa  empreendedor  estudante  gerente  informal  servicos  tecnico  \n",
       "0          1             0          0        0         0         0        0  \n",
       "1          0             0          0        0         0         1        0  \n",
       "2          0             0          0        0         0         1        0  \n",
       "3          0             0          0        0         0         0        0  \n",
       "4          0             0          0        0         0         1        0  "
      ]
     },
     "execution_count": 38,
     "metadata": {},
     "output_type": "execute_result"
    }
   ],
   "source": [
    "df.head()"
   ]
  },
  {
   "cell_type": "code",
   "execution_count": null,
   "id": "cb64342b",
   "metadata": {},
   "outputs": [],
   "source": []
  },
  {
   "cell_type": "code",
   "execution_count": 39,
   "id": "cbc597da",
   "metadata": {},
   "outputs": [
    {
     "name": "stdout",
     "output_type": "stream",
     "text": [
      "statistics:0.7605612277984619, p-value:0.0\n"
     ]
    },
    {
     "data": {
      "text/plain": [
       "False"
      ]
     },
     "execution_count": 39,
     "metadata": {},
     "output_type": "execute_result"
    }
   ],
   "source": [
    "teste_shapiro_wilk(df['indice_precos_consumidor'])"
   ]
  },
  {
   "cell_type": "code",
   "execution_count": 40,
   "id": "9af6a126",
   "metadata": {},
   "outputs": [
    {
     "name": "stdout",
     "output_type": "stream",
     "text": [
      "statistics:0.9215579032897949, p-value:0.0\n"
     ]
    },
    {
     "data": {
      "text/plain": [
       "False"
      ]
     },
     "execution_count": 40,
     "metadata": {},
     "output_type": "execute_result"
    }
   ],
   "source": [
    "teste_shapiro_wilk(df['indice_confianca_consumidor'])"
   ]
  },
  {
   "cell_type": "code",
   "execution_count": 41,
   "id": "82a051ea",
   "metadata": {},
   "outputs": [
    {
     "name": "stdout",
     "output_type": "stream",
     "text": [
      "statistics:0.6410381197929382, p-value:0.0\n"
     ]
    },
    {
     "data": {
      "text/plain": [
       "False"
      ]
     },
     "execution_count": 41,
     "metadata": {},
     "output_type": "execute_result"
    }
   ],
   "source": [
    "teste_shapiro_wilk(df['taxa_juros_media'])"
   ]
  },
  {
   "cell_type": "code",
   "execution_count": null,
   "id": "3866582c",
   "metadata": {},
   "outputs": [],
   "source": []
  },
  {
   "cell_type": "code",
   "execution_count": 42,
   "id": "2f2be4f1",
   "metadata": {},
   "outputs": [
    {
     "data": {
      "text/plain": [
       "<AxesSubplot:xlabel='taxa_juros_media', ylabel='Density'>"
      ]
     },
     "execution_count": 42,
     "metadata": {},
     "output_type": "execute_result"
    },
    {
     "data": {
      "image/png": "[encoded data removed]",
      "text/plain": [
       "<Figure size 600x400 with 1 Axes>"
      ]
     },
     "metadata": {},
     "output_type": "display_data"
    }
   ],
   "source": [
    "sns.distplot(df['taxa_juros_media'], bins=25)"
   ]
  },
  {
   "cell_type": "code",
   "execution_count": 43,
   "id": "915bbebd",
   "metadata": {},
   "outputs": [
    {
     "data": {
      "text/plain": [
       "<AxesSubplot:xlabel='indice_precos_consumidor', ylabel='Density'>"
      ]
     },
     "execution_count": 43,
     "metadata": {},
     "output_type": "execute_result"
    },
    {
     "data": {
      "image/png": "[encoded data removed]",
      "text/plain": [
       "<Figure size 600x400 with 1 Axes>"
      ]
     },
     "metadata": {},
     "output_type": "display_data"
    }
   ],
   "source": [
    "sns.distplot(df['indice_precos_consumidor'], bins=25)"
   ]
  },
  {
   "cell_type": "code",
   "execution_count": 44,
   "id": "134e42d4",
   "metadata": {},
   "outputs": [
    {
     "data": {
      "text/plain": [
       "<AxesSubplot:xlabel='indice_confianca_consumidor', ylabel='Density'>"
      ]
     },
     "execution_count": 44,
     "metadata": {},
     "output_type": "execute_result"
    },
    {
     "data": {
      "image/png": "[encoded data removed]",
      "text/plain": [
       "<Figure size 600x400 with 1 Axes>"
      ]
     },
     "metadata": {},
     "output_type": "display_data"
    }
   ],
   "source": [
    "sns.distplot(df['indice_confianca_consumidor'], bins=25)"
   ]
  },
  {
   "cell_type": "markdown",
   "id": "5026ed59",
   "metadata": {},
   "source": [
    "### *Notas*\n",
    "\n",
    "* É possível observar que a média da taxa de juros das pessoas está mais concentrada em 4 e não está tão distribuida. "
   ]
  },
  {
   "cell_type": "markdown",
   "id": "c75d12b0",
   "metadata": {},
   "source": [
    "Apesar do histograma apresentar uma distribuição que aparenta os dados está normalmente distribuidos. O teste de Shapiro-Wilk diz que os dados não são normalmente distruibuidos. Isso significa que é possivel de p-value ser maior que alpha, mostrando que há evidências de que a amostra não se trata de uma distruibição normal."
   ]
  },
  {
   "cell_type": "code",
   "execution_count": null,
   "id": "d16e5474",
   "metadata": {},
   "outputs": [],
   "source": []
  },
  {
   "cell_type": "markdown",
   "id": "188dfaf2",
   "metadata": {},
   "source": [
    "### **Normalizar ou padronizar os dados?**"
   ]
  },
  {
   "cell_type": "markdown",
   "id": "5d3dc3f6",
   "metadata": {},
   "source": [
    "Normalmente usamos a normalização quando você não sabe a distribuição dos dados, ou sabe que não é uma gaussiana, e é útil em algoritmos que não fazem suposições sobre a distribuição, como KNN ou redes neurais. Já a padronização a gente usa quando sabemos que a distribuição dos dados tem uma distribuição gaussiana, ou muito parecido com a curva da gaussiana."
   ]
  },
  {
   "cell_type": "markdown",
   "id": "f46cb3fa",
   "metadata": {},
   "source": [
    "Normalização é o processo de colocar uma variável numérica em uma escala [0,1] pré-determinada, geralmente , mas também é comum ser [-1,1].\n",
    "\n",
    "Para colocar no intervalo [0,1], basta subtrair cada valor do valor mínimo e dividir pela diferença do valor máximo e mínimo:\n",
    "\n"
   ]
  },
  {
   "cell_type": "markdown",
   "id": "1c563611",
   "metadata": {},
   "source": [
    "Neste caso iremos normalizar os dados da coluna X que não estão distribuidos normalmente. Tendo em vista que são colunas númericas importantes para o problema em questão."
   ]
  },
  {
   "cell_type": "code",
   "execution_count": null,
   "id": "c6565d67",
   "metadata": {},
   "outputs": [],
   "source": []
  },
  {
   "cell_type": "code",
   "execution_count": 45,
   "id": "a04578ad",
   "metadata": {},
   "outputs": [],
   "source": [
    "minmax_scaler = MinMaxScaler(feature_range=(0, 1))\n",
    "standard_scaler = StandardScaler()"
   ]
  },
  {
   "cell_type": "code",
   "execution_count": 46,
   "id": "55185122",
   "metadata": {},
   "outputs": [],
   "source": [
    "df['taxa_juros_media_normalizado'] = minmax_scaler.fit_transform(df[['taxa_juros_media']])\n",
    "df['indice_precos_consumidor_normalizado'] = minmax_scaler.fit_transform(df[['indice_precos_consumidor']])\n",
    "df['indice_confianca_consumidor_normalizado'] = minmax_scaler.fit_transform(df[['indice_confianca_consumidor']])"
   ]
  },
  {
   "cell_type": "code",
   "execution_count": 47,
   "id": "edaea18f",
   "metadata": {},
   "outputs": [
    {
     "name": "stdout",
     "output_type": "stream",
     "text": [
      "Taxa de juros media normalizada:  0.0 1.0\n",
      "Indice de preços de consumidor normalizado:  0.0 1.0\n",
      "Indice de confiança de consumidor normalizado:  0.0 0.9999999999999998\n"
     ]
    }
   ],
   "source": [
    "print('Taxa de juros media normalizada: ', df['taxa_juros_media_normalizado'].min(), df['taxa_juros_media_normalizado'].max())\n",
    "print('Indice de preços de consumidor normalizado: ', df['indice_precos_consumidor_normalizado'].min(), df['indice_precos_consumidor_normalizado'].max())\n",
    "print('Indice de confiança de consumidor normalizado: ', df['indice_confianca_consumidor_normalizado'].min(), df['indice_confianca_consumidor_normalizado'].max())"
   ]
  },
  {
   "cell_type": "code",
   "execution_count": null,
   "id": "8c9a68d9",
   "metadata": {},
   "outputs": [],
   "source": []
  },
  {
   "cell_type": "code",
   "execution_count": 48,
   "id": "736c4914",
   "metadata": {},
   "outputs": [
    {
     "data": {
      "text/plain": [
       "<AxesSubplot:xlabel='taxa_juros_media_normalizado', ylabel='Density'>"
      ]
     },
     "execution_count": 48,
     "metadata": {},
     "output_type": "execute_result"
    },
    {
     "data": {
      "image/png": "[encoded data removed]",
      "text/plain": [
       "<Figure size 600x400 with 1 Axes>"
      ]
     },
     "metadata": {},
     "output_type": "display_data"
    }
   ],
   "source": [
    "sns.distplot(df['taxa_juros_media_normalizado'], bins=25)"
   ]
  },
  {
   "cell_type": "code",
   "execution_count": 49,
   "id": "fd621f10",
   "metadata": {},
   "outputs": [
    {
     "data": {
      "text/plain": [
       "<AxesSubplot:xlabel='indice_precos_consumidor_normalizado', ylabel='Density'>"
      ]
     },
     "execution_count": 49,
     "metadata": {},
     "output_type": "execute_result"
    },
    {
     "data": {
      "image/png": "[encoded data removed]",
      "text/plain": [
       "<Figure size 600x400 with 1 Axes>"
      ]
     },
     "metadata": {},
     "output_type": "display_data"
    }
   ],
   "source": [
    "sns.distplot(df['indice_precos_consumidor_normalizado'], bins=25)"
   ]
  },
  {
   "cell_type": "code",
   "execution_count": 50,
   "id": "198a52da",
   "metadata": {},
   "outputs": [
    {
     "data": {
      "text/plain": [
       "<AxesSubplot:xlabel='indice_confianca_consumidor_normalizado', ylabel='Density'>"
      ]
     },
     "execution_count": 50,
     "metadata": {},
     "output_type": "execute_result"
    },
    {
     "data": {
      "image/png": "[encoded data removed]",
      "text/plain": [
       "<Figure size 600x400 with 1 Axes>"
      ]
     },
     "metadata": {},
     "output_type": "display_data"
    }
   ],
   "source": [
    "sns.distplot(df['indice_confianca_consumidor_normalizado'], bins=25)"
   ]
  },
  {
   "cell_type": "markdown",
   "id": "f9beee51",
   "metadata": {},
   "source": [
    "Se comparar com as distribuições anteriores, é possível notar uma pequena diferença na distribuição dos dados."
   ]
  },
  {
   "cell_type": "code",
   "execution_count": null,
   "id": "696368b0",
   "metadata": {},
   "outputs": [],
   "source": []
  },
  {
   "cell_type": "markdown",
   "id": "43e2cdb5",
   "metadata": {},
   "source": [
    "### **Outliers**"
   ]
  },
  {
   "cell_type": "markdown",
   "id": "264e6dc3",
   "metadata": {},
   "source": [
    "Devido a algumas concatenações o tipo de dados acabou alterando, então decidi alterar o tipo das colunas novamente, apesar de não ser tão necessário."
   ]
  },
  {
   "cell_type": "code",
   "execution_count": 51,
   "id": "a21b7a9e",
   "metadata": {},
   "outputs": [],
   "source": [
    "df['indice_confianca_consumidor'] = df['indice_confianca_consumidor'].astype(int)\n",
    "df['taxa_juros_media'] = df['taxa_juros_media'].astype(int)\n",
    "df['indice_precos_consumidor'] = df['indice_precos_consumidor'].astype(int)\n",
    "\n",
    "df['dias_ultimo_contato'] = df['dias_ultimo_contato'].astype(int)\n",
    "df['qtd_contatos_campanha'] = df['qtd_contatos_campanha'].astype(int)\n",
    "df['qtd_contatos_total'] = df['qtd_contatos_total'].astype(int)\n",
    "\n",
    "df['idade'] = df['idade'].astype(int)"
   ]
  },
  {
   "cell_type": "code",
   "execution_count": null,
   "id": "86266f74",
   "metadata": {},
   "outputs": [],
   "source": []
  },
  {
   "cell_type": "code",
   "execution_count": 52,
   "id": "a0cf1cf2",
   "metadata": {},
   "outputs": [
    {
     "data": {
      "text/html": [
       "<div>\n",
       "<style scoped>\n",
       "    .dataframe tbody tr th:only-of-type {\n",
       "        vertical-align: middle;\n",
       "    }\n",
       "\n",
       "    .dataframe tbody tr th {\n",
       "        vertical-align: top;\n",
       "    }\n",
       "\n",
       "    .dataframe thead th {\n",
       "        text-align: right;\n",
       "    }\n",
       "</style>\n",
       "<table border=\"1\" class=\"dataframe\">\n",
       "  <thead>\n",
       "    <tr style=\"text-align: right;\">\n",
       "      <th></th>\n",
       "      <th>idade</th>\n",
       "      <th>inadimplente</th>\n",
       "      <th>emprestimo_moradia</th>\n",
       "      <th>emprestimo_pessoal</th>\n",
       "      <th>meio_contato</th>\n",
       "      <th>mes</th>\n",
       "      <th>dia_da_semana</th>\n",
       "      <th>qtd_contatos_campanha</th>\n",
       "      <th>dias_ultimo_contato</th>\n",
       "      <th>qtd_contatos_total</th>\n",
       "      <th>campanha_anterior</th>\n",
       "      <th>indice_precos_consumidor</th>\n",
       "      <th>indice_confianca_consumidor</th>\n",
       "      <th>taxa_juros_media</th>\n",
       "      <th>aderencia_campanha</th>\n",
       "      <th>analfabeto</th>\n",
       "      <th>curso_tecnico</th>\n",
       "      <th>ensino_medio</th>\n",
       "      <th>fundamental_4a</th>\n",
       "      <th>fundamental_6a</th>\n",
       "      <th>fundamental_9a</th>\n",
       "      <th>graduacao_completa</th>\n",
       "      <th>admin.</th>\n",
       "      <th>aposentado</th>\n",
       "      <th>colarinho_azul</th>\n",
       "      <th>desempregado</th>\n",
       "      <th>dona_casa</th>\n",
       "      <th>empreendedor</th>\n",
       "      <th>estudante</th>\n",
       "      <th>gerente</th>\n",
       "      <th>informal</th>\n",
       "      <th>servicos</th>\n",
       "      <th>tecnico</th>\n",
       "      <th>taxa_juros_media_normalizado</th>\n",
       "      <th>indice_precos_consumidor_normalizado</th>\n",
       "      <th>indice_confianca_consumidor_normalizado</th>\n",
       "    </tr>\n",
       "  </thead>\n",
       "  <tbody>\n",
       "    <tr>\n",
       "      <th>count</th>\n",
       "      <td>41188.00000</td>\n",
       "      <td>41188.000000</td>\n",
       "      <td>41188.000000</td>\n",
       "      <td>41188.000000</td>\n",
       "      <td>41188.000000</td>\n",
       "      <td>41188.000000</td>\n",
       "      <td>41188.000000</td>\n",
       "      <td>41188.000000</td>\n",
       "      <td>41188.000000</td>\n",
       "      <td>41188.000000</td>\n",
       "      <td>41188.000000</td>\n",
       "      <td>41188.000000</td>\n",
       "      <td>41188.000000</td>\n",
       "      <td>41188.000000</td>\n",
       "      <td>41188.000000</td>\n",
       "      <td>41188.000000</td>\n",
       "      <td>41188.000000</td>\n",
       "      <td>41188.000000</td>\n",
       "      <td>41188.000000</td>\n",
       "      <td>41188.000000</td>\n",
       "      <td>41188.000000</td>\n",
       "      <td>41188.000000</td>\n",
       "      <td>41188.000000</td>\n",
       "      <td>41188.000000</td>\n",
       "      <td>41188.000000</td>\n",
       "      <td>41188.000000</td>\n",
       "      <td>41188.000000</td>\n",
       "      <td>41188.000000</td>\n",
       "      <td>41188.000000</td>\n",
       "      <td>41188.000000</td>\n",
       "      <td>41188.000000</td>\n",
       "      <td>41188.000000</td>\n",
       "      <td>41188.000000</td>\n",
       "      <td>41188.000000</td>\n",
       "      <td>41188.000000</td>\n",
       "      <td>41188.000000</td>\n",
       "    </tr>\n",
       "    <tr>\n",
       "      <th>mean</th>\n",
       "      <td>40.02406</td>\n",
       "      <td>0.000073</td>\n",
       "      <td>0.547878</td>\n",
       "      <td>0.151695</td>\n",
       "      <td>0.634748</td>\n",
       "      <td>6.607896</td>\n",
       "      <td>2.979581</td>\n",
       "      <td>2.567593</td>\n",
       "      <td>962.475454</td>\n",
       "      <td>0.172963</td>\n",
       "      <td>1.760197</td>\n",
       "      <td>92.922065</td>\n",
       "      <td>-40.116612</td>\n",
       "      <td>2.922453</td>\n",
       "      <td>0.112654</td>\n",
       "      <td>0.000437</td>\n",
       "      <td>0.127294</td>\n",
       "      <td>0.231014</td>\n",
       "      <td>0.101389</td>\n",
       "      <td>0.055647</td>\n",
       "      <td>0.146766</td>\n",
       "      <td>0.337453</td>\n",
       "      <td>0.261047</td>\n",
       "      <td>0.041760</td>\n",
       "      <td>0.224677</td>\n",
       "      <td>0.024619</td>\n",
       "      <td>0.025736</td>\n",
       "      <td>0.035350</td>\n",
       "      <td>0.021244</td>\n",
       "      <td>0.070992</td>\n",
       "      <td>0.034500</td>\n",
       "      <td>0.096363</td>\n",
       "      <td>0.163713</td>\n",
       "      <td>0.584491</td>\n",
       "      <td>0.461032</td>\n",
       "      <td>0.411808</td>\n",
       "    </tr>\n",
       "    <tr>\n",
       "      <th>std</th>\n",
       "      <td>10.42125</td>\n",
       "      <td>0.008534</td>\n",
       "      <td>0.497708</td>\n",
       "      <td>0.358729</td>\n",
       "      <td>0.481507</td>\n",
       "      <td>2.040998</td>\n",
       "      <td>1.411514</td>\n",
       "      <td>2.770014</td>\n",
       "      <td>186.910907</td>\n",
       "      <td>0.494901</td>\n",
       "      <td>0.623518</td>\n",
       "      <td>0.593828</td>\n",
       "      <td>4.657969</td>\n",
       "      <td>1.565326</td>\n",
       "      <td>0.316173</td>\n",
       "      <td>0.020901</td>\n",
       "      <td>0.333306</td>\n",
       "      <td>0.421486</td>\n",
       "      <td>0.301846</td>\n",
       "      <td>0.229242</td>\n",
       "      <td>0.353877</td>\n",
       "      <td>0.472846</td>\n",
       "      <td>0.439211</td>\n",
       "      <td>0.200042</td>\n",
       "      <td>0.417375</td>\n",
       "      <td>0.154962</td>\n",
       "      <td>0.158348</td>\n",
       "      <td>0.184665</td>\n",
       "      <td>0.144199</td>\n",
       "      <td>0.256814</td>\n",
       "      <td>0.182513</td>\n",
       "      <td>0.295092</td>\n",
       "      <td>0.370019</td>\n",
       "      <td>0.313065</td>\n",
       "      <td>0.296914</td>\n",
       "      <td>0.194082</td>\n",
       "    </tr>\n",
       "    <tr>\n",
       "      <th>min</th>\n",
       "      <td>17.00000</td>\n",
       "      <td>0.000000</td>\n",
       "      <td>0.000000</td>\n",
       "      <td>0.000000</td>\n",
       "      <td>0.000000</td>\n",
       "      <td>3.000000</td>\n",
       "      <td>1.000000</td>\n",
       "      <td>1.000000</td>\n",
       "      <td>0.000000</td>\n",
       "      <td>0.000000</td>\n",
       "      <td>0.000000</td>\n",
       "      <td>92.000000</td>\n",
       "      <td>-50.000000</td>\n",
       "      <td>0.000000</td>\n",
       "      <td>0.000000</td>\n",
       "      <td>0.000000</td>\n",
       "      <td>0.000000</td>\n",
       "      <td>0.000000</td>\n",
       "      <td>0.000000</td>\n",
       "      <td>0.000000</td>\n",
       "      <td>0.000000</td>\n",
       "      <td>0.000000</td>\n",
       "      <td>0.000000</td>\n",
       "      <td>0.000000</td>\n",
       "      <td>0.000000</td>\n",
       "      <td>0.000000</td>\n",
       "      <td>0.000000</td>\n",
       "      <td>0.000000</td>\n",
       "      <td>0.000000</td>\n",
       "      <td>0.000000</td>\n",
       "      <td>0.000000</td>\n",
       "      <td>0.000000</td>\n",
       "      <td>0.000000</td>\n",
       "      <td>0.000000</td>\n",
       "      <td>0.000000</td>\n",
       "      <td>0.000000</td>\n",
       "    </tr>\n",
       "    <tr>\n",
       "      <th>25%</th>\n",
       "      <td>32.00000</td>\n",
       "      <td>0.000000</td>\n",
       "      <td>0.000000</td>\n",
       "      <td>0.000000</td>\n",
       "      <td>0.000000</td>\n",
       "      <td>5.000000</td>\n",
       "      <td>2.000000</td>\n",
       "      <td>1.000000</td>\n",
       "      <td>999.000000</td>\n",
       "      <td>0.000000</td>\n",
       "      <td>2.000000</td>\n",
       "      <td>93.000000</td>\n",
       "      <td>-42.000000</td>\n",
       "      <td>1.000000</td>\n",
       "      <td>0.000000</td>\n",
       "      <td>0.000000</td>\n",
       "      <td>0.000000</td>\n",
       "      <td>0.000000</td>\n",
       "      <td>0.000000</td>\n",
       "      <td>0.000000</td>\n",
       "      <td>0.000000</td>\n",
       "      <td>0.000000</td>\n",
       "      <td>0.000000</td>\n",
       "      <td>0.000000</td>\n",
       "      <td>0.000000</td>\n",
       "      <td>0.000000</td>\n",
       "      <td>0.000000</td>\n",
       "      <td>0.000000</td>\n",
       "      <td>0.000000</td>\n",
       "      <td>0.000000</td>\n",
       "      <td>0.000000</td>\n",
       "      <td>0.000000</td>\n",
       "      <td>0.000000</td>\n",
       "      <td>0.200000</td>\n",
       "      <td>0.500000</td>\n",
       "      <td>0.333333</td>\n",
       "    </tr>\n",
       "    <tr>\n",
       "      <th>50%</th>\n",
       "      <td>38.00000</td>\n",
       "      <td>0.000000</td>\n",
       "      <td>1.000000</td>\n",
       "      <td>0.000000</td>\n",
       "      <td>1.000000</td>\n",
       "      <td>6.000000</td>\n",
       "      <td>3.000000</td>\n",
       "      <td>2.000000</td>\n",
       "      <td>999.000000</td>\n",
       "      <td>0.000000</td>\n",
       "      <td>2.000000</td>\n",
       "      <td>93.000000</td>\n",
       "      <td>-41.000000</td>\n",
       "      <td>4.000000</td>\n",
       "      <td>0.000000</td>\n",
       "      <td>0.000000</td>\n",
       "      <td>0.000000</td>\n",
       "      <td>0.000000</td>\n",
       "      <td>0.000000</td>\n",
       "      <td>0.000000</td>\n",
       "      <td>0.000000</td>\n",
       "      <td>0.000000</td>\n",
       "      <td>0.000000</td>\n",
       "      <td>0.000000</td>\n",
       "      <td>0.000000</td>\n",
       "      <td>0.000000</td>\n",
       "      <td>0.000000</td>\n",
       "      <td>0.000000</td>\n",
       "      <td>0.000000</td>\n",
       "      <td>0.000000</td>\n",
       "      <td>0.000000</td>\n",
       "      <td>0.000000</td>\n",
       "      <td>0.000000</td>\n",
       "      <td>0.800000</td>\n",
       "      <td>0.500000</td>\n",
       "      <td>0.375000</td>\n",
       "    </tr>\n",
       "    <tr>\n",
       "      <th>75%</th>\n",
       "      <td>47.00000</td>\n",
       "      <td>0.000000</td>\n",
       "      <td>1.000000</td>\n",
       "      <td>0.000000</td>\n",
       "      <td>1.000000</td>\n",
       "      <td>8.000000</td>\n",
       "      <td>4.000000</td>\n",
       "      <td>3.000000</td>\n",
       "      <td>999.000000</td>\n",
       "      <td>0.000000</td>\n",
       "      <td>2.000000</td>\n",
       "      <td>93.000000</td>\n",
       "      <td>-36.000000</td>\n",
       "      <td>4.000000</td>\n",
       "      <td>0.000000</td>\n",
       "      <td>0.000000</td>\n",
       "      <td>0.000000</td>\n",
       "      <td>0.000000</td>\n",
       "      <td>0.000000</td>\n",
       "      <td>0.000000</td>\n",
       "      <td>0.000000</td>\n",
       "      <td>1.000000</td>\n",
       "      <td>1.000000</td>\n",
       "      <td>0.000000</td>\n",
       "      <td>0.000000</td>\n",
       "      <td>0.000000</td>\n",
       "      <td>0.000000</td>\n",
       "      <td>0.000000</td>\n",
       "      <td>0.000000</td>\n",
       "      <td>0.000000</td>\n",
       "      <td>0.000000</td>\n",
       "      <td>0.000000</td>\n",
       "      <td>0.000000</td>\n",
       "      <td>0.800000</td>\n",
       "      <td>0.500000</td>\n",
       "      <td>0.583333</td>\n",
       "    </tr>\n",
       "    <tr>\n",
       "      <th>max</th>\n",
       "      <td>98.00000</td>\n",
       "      <td>1.000000</td>\n",
       "      <td>1.000000</td>\n",
       "      <td>1.000000</td>\n",
       "      <td>1.000000</td>\n",
       "      <td>12.000000</td>\n",
       "      <td>5.000000</td>\n",
       "      <td>56.000000</td>\n",
       "      <td>999.000000</td>\n",
       "      <td>7.000000</td>\n",
       "      <td>2.000000</td>\n",
       "      <td>94.000000</td>\n",
       "      <td>-26.000000</td>\n",
       "      <td>5.000000</td>\n",
       "      <td>1.000000</td>\n",
       "      <td>1.000000</td>\n",
       "      <td>1.000000</td>\n",
       "      <td>1.000000</td>\n",
       "      <td>1.000000</td>\n",
       "      <td>1.000000</td>\n",
       "      <td>1.000000</td>\n",
       "      <td>1.000000</td>\n",
       "      <td>1.000000</td>\n",
       "      <td>1.000000</td>\n",
       "      <td>1.000000</td>\n",
       "      <td>1.000000</td>\n",
       "      <td>1.000000</td>\n",
       "      <td>1.000000</td>\n",
       "      <td>1.000000</td>\n",
       "      <td>1.000000</td>\n",
       "      <td>1.000000</td>\n",
       "      <td>1.000000</td>\n",
       "      <td>1.000000</td>\n",
       "      <td>1.000000</td>\n",
       "      <td>1.000000</td>\n",
       "      <td>1.000000</td>\n",
       "    </tr>\n",
       "  </tbody>\n",
       "</table>\n",
       "</div>"
      ],
      "text/plain": [
       "             idade  inadimplente  emprestimo_moradia  emprestimo_pessoal  \\\n",
       "count  41188.00000  41188.000000        41188.000000        41188.000000   \n",
       "mean      40.02406      0.000073            0.547878            0.151695   \n",
       "std       10.42125      0.008534            0.497708            0.358729   \n",
       "min       17.00000      0.000000            0.000000            0.000000   \n",
       "25%       32.00000      0.000000            0.000000            0.000000   \n",
       "50%       38.00000      0.000000            1.000000            0.000000   \n",
       "75%       47.00000      0.000000            1.000000            0.000000   \n",
       "max       98.00000      1.000000            1.000000            1.000000   \n",
       "\n",
       "       meio_contato           mes  dia_da_semana  qtd_contatos_campanha  \\\n",
       "count  41188.000000  41188.000000   41188.000000           41188.000000   \n",
       "mean       0.634748      6.607896       2.979581               2.567593   \n",
       "std        0.481507      2.040998       1.411514               2.770014   \n",
       "min        0.000000      3.000000       1.000000               1.000000   \n",
       "25%        0.000000      5.000000       2.000000               1.000000   \n",
       "50%        1.000000      6.000000       3.000000               2.000000   \n",
       "75%        1.000000      8.000000       4.000000               3.000000   \n",
       "max        1.000000     12.000000       5.000000              56.000000   \n",
       "\n",
       "       dias_ultimo_contato  qtd_contatos_total  campanha_anterior  \\\n",
       "count         41188.000000        41188.000000       41188.000000   \n",
       "mean            962.475454            0.172963           1.760197   \n",
       "std             186.910907            0.494901           0.623518   \n",
       "min               0.000000            0.000000           0.000000   \n",
       "25%             999.000000            0.000000           2.000000   \n",
       "50%             999.000000            0.000000           2.000000   \n",
       "75%             999.000000            0.000000           2.000000   \n",
       "max             999.000000            7.000000           2.000000   \n",
       "\n",
       "       indice_precos_consumidor  indice_confianca_consumidor  \\\n",
       "count              41188.000000                 41188.000000   \n",
       "mean                  92.922065                   -40.116612   \n",
       "std                    0.593828                     4.657969   \n",
       "min                   92.000000                   -50.000000   \n",
       "25%                   93.000000                   -42.000000   \n",
       "50%                   93.000000                   -41.000000   \n",
       "75%                   93.000000                   -36.000000   \n",
       "max                   94.000000                   -26.000000   \n",
       "\n",
       "       taxa_juros_media  aderencia_campanha    analfabeto  curso_tecnico  \\\n",
       "count      41188.000000        41188.000000  41188.000000   41188.000000   \n",
       "mean           2.922453            0.112654      0.000437       0.127294   \n",
       "std            1.565326            0.316173      0.020901       0.333306   \n",
       "min            0.000000            0.000000      0.000000       0.000000   \n",
       "25%            1.000000            0.000000      0.000000       0.000000   \n",
       "50%            4.000000            0.000000      0.000000       0.000000   \n",
       "75%            4.000000            0.000000      0.000000       0.000000   \n",
       "max            5.000000            1.000000      1.000000       1.000000   \n",
       "\n",
       "       ensino_medio  fundamental_4a  fundamental_6a  fundamental_9a  \\\n",
       "count  41188.000000    41188.000000    41188.000000    41188.000000   \n",
       "mean       0.231014        0.101389        0.055647        0.146766   \n",
       "std        0.421486        0.301846        0.229242        0.353877   \n",
       "min        0.000000        0.000000        0.000000        0.000000   \n",
       "25%        0.000000        0.000000        0.000000        0.000000   \n",
       "50%        0.000000        0.000000        0.000000        0.000000   \n",
       "75%        0.000000        0.000000        0.000000        0.000000   \n",
       "max        1.000000        1.000000        1.000000        1.000000   \n",
       "\n",
       "       graduacao_completa        admin.    aposentado  colarinho_azul  \\\n",
       "count        41188.000000  41188.000000  41188.000000    41188.000000   \n",
       "mean             0.337453      0.261047      0.041760        0.224677   \n",
       "std              0.472846      0.439211      0.200042        0.417375   \n",
       "min              0.000000      0.000000      0.000000        0.000000   \n",
       "25%              0.000000      0.000000      0.000000        0.000000   \n",
       "50%              0.000000      0.000000      0.000000        0.000000   \n",
       "75%              1.000000      1.000000      0.000000        0.000000   \n",
       "max              1.000000      1.000000      1.000000        1.000000   \n",
       "\n",
       "       desempregado     dona_casa  empreendedor     estudante       gerente  \\\n",
       "count  41188.000000  41188.000000  41188.000000  41188.000000  41188.000000   \n",
       "mean       0.024619      0.025736      0.035350      0.021244      0.070992   \n",
       "std        0.154962      0.158348      0.184665      0.144199      0.256814   \n",
       "min        0.000000      0.000000      0.000000      0.000000      0.000000   \n",
       "25%        0.000000      0.000000      0.000000      0.000000      0.000000   \n",
       "50%        0.000000      0.000000      0.000000      0.000000      0.000000   \n",
       "75%        0.000000      0.000000      0.000000      0.000000      0.000000   \n",
       "max        1.000000      1.000000      1.000000      1.000000      1.000000   \n",
       "\n",
       "           informal      servicos       tecnico  taxa_juros_media_normalizado  \\\n",
       "count  41188.000000  41188.000000  41188.000000                  41188.000000   \n",
       "mean       0.034500      0.096363      0.163713                      0.584491   \n",
       "std        0.182513      0.295092      0.370019                      0.313065   \n",
       "min        0.000000      0.000000      0.000000                      0.000000   \n",
       "25%        0.000000      0.000000      0.000000                      0.200000   \n",
       "50%        0.000000      0.000000      0.000000                      0.800000   \n",
       "75%        0.000000      0.000000      0.000000                      0.800000   \n",
       "max        1.000000      1.000000      1.000000                      1.000000   \n",
       "\n",
       "       indice_precos_consumidor_normalizado  \\\n",
       "count                          41188.000000   \n",
       "mean                               0.461032   \n",
       "std                                0.296914   \n",
       "min                                0.000000   \n",
       "25%                                0.500000   \n",
       "50%                                0.500000   \n",
       "75%                                0.500000   \n",
       "max                                1.000000   \n",
       "\n",
       "       indice_confianca_consumidor_normalizado  \n",
       "count                             41188.000000  \n",
       "mean                                  0.411808  \n",
       "std                                   0.194082  \n",
       "min                                   0.000000  \n",
       "25%                                   0.333333  \n",
       "50%                                   0.375000  \n",
       "75%                                   0.583333  \n",
       "max                                   1.000000  "
      ]
     },
     "execution_count": 52,
     "metadata": {},
     "output_type": "execute_result"
    }
   ],
   "source": [
    "df.describe()"
   ]
  },
  {
   "cell_type": "code",
   "execution_count": null,
   "id": "164c8003",
   "metadata": {},
   "outputs": [],
   "source": []
  },
  {
   "cell_type": "markdown",
   "id": "b47203fb",
   "metadata": {},
   "source": [
    "Irei continuar a investigação para as mesmas variáveis númericas que foi verificado como os dados estavam distribuidos. "
   ]
  },
  {
   "cell_type": "code",
   "execution_count": 53,
   "id": "b0b6a628",
   "metadata": {},
   "outputs": [
    {
     "data": {
      "image/png": "[encoded data removed]",
      "text/plain": [
       "<Figure size 600x400 with 1 Axes>"
      ]
     },
     "metadata": {},
     "output_type": "display_data"
    }
   ],
   "source": [
    "#Plotando gráfico de boxplot para o lado azul\n",
    "sns.boxplot(x=df[\"taxa_juros_media_normalizado\"], orient=\"vertical\");"
   ]
  },
  {
   "cell_type": "code",
   "execution_count": 54,
   "id": "273db0fd",
   "metadata": {},
   "outputs": [
    {
     "data": {
      "image/png": "[encoded data removed]",
      "text/plain": [
       "<Figure size 600x400 with 1 Axes>"
      ]
     },
     "metadata": {},
     "output_type": "display_data"
    }
   ],
   "source": [
    "sns.boxplot(x=df[\"indice_confianca_consumidor_normalizado\"], orient=\"vertical\");"
   ]
  },
  {
   "cell_type": "code",
   "execution_count": 55,
   "id": "2d8998c2",
   "metadata": {},
   "outputs": [
    {
     "data": {
      "image/png": "[encoded data removed]",
      "text/plain": [
       "<Figure size 600x400 with 1 Axes>"
      ]
     },
     "metadata": {},
     "output_type": "display_data"
    }
   ],
   "source": [
    "sns.boxplot(x=df[\"indice_precos_consumidor_normalizado\"], orient=\"vertical\");"
   ]
  },
  {
   "cell_type": "code",
   "execution_count": null,
   "id": "50631c05",
   "metadata": {},
   "outputs": [],
   "source": []
  },
  {
   "cell_type": "markdown",
   "id": "392f08bb",
   "metadata": {},
   "source": [
    "Como estas variáveis através da interpretação do boxplot não aparenta ter outliers, seguiremos para a próxima etapa. Outras variáveis não foram avaliadas pois serão descartadas. "
   ]
  },
  {
   "cell_type": "code",
   "execution_count": null,
   "id": "36f48fdf",
   "metadata": {},
   "outputs": [],
   "source": []
  },
  {
   "cell_type": "markdown",
   "id": "f43ce4d1",
   "metadata": {},
   "source": [
    "### **Dados desbalanceados**"
   ]
  },
  {
   "cell_type": "markdown",
   "id": "1cb0d5c2",
   "metadata": {},
   "source": [
    "Para finalizar esta etapa de tratamento dos dados, eu poderia deletar algumas colunas, com o objetivo de trabalhar com mais facilidade e diminuir o tamanho do conjunto de dados, entretanto, acredito que todas elas serão muito utéis tanto para a análise exploratória, como o desenvolvimento do modelo. \n",
    "\n",
    "Também irei definir inicialmente as variáveis de entrada e a variável de saída, mas essas variáveis podem ser alteradas na etapa de seleção de variáveis e engenharia de recursos. O objetivo é apenas ter uma divisão inicial e corrigir problemas de desbalanceamento dos dados."
   ]
  },
  {
   "cell_type": "code",
   "execution_count": 56,
   "id": "66e7b581",
   "metadata": {},
   "outputs": [],
   "source": [
    "X = df.drop(['profissao', 'estado_civil', 'educacao'],1) #A variável targe por enquanto vai permanecer nos dados de entrada para usarmos na análise exploratória\n",
    "y = df[\"aderencia_campanha\"]"
   ]
  },
  {
   "cell_type": "code",
   "execution_count": 57,
   "id": "10ad5d41",
   "metadata": {
    "scrolled": true
   },
   "outputs": [
    {
     "data": {
      "text/plain": [
       "0    36548\n",
       "1     4640\n",
       "Name: aderencia_campanha, dtype: int64"
      ]
     },
     "execution_count": 57,
     "metadata": {},
     "output_type": "execute_result"
    }
   ],
   "source": [
    "df['aderencia_campanha'].value_counts()"
   ]
  },
  {
   "cell_type": "code",
   "execution_count": 58,
   "id": "f4086a11",
   "metadata": {},
   "outputs": [],
   "source": [
    "aderencia_distribuicao = df['aderencia_campanha'].value_counts()"
   ]
  },
  {
   "cell_type": "code",
   "execution_count": 59,
   "id": "23b4588c",
   "metadata": {},
   "outputs": [
    {
     "data": {
      "image/png": "[encoded data removed]",
      "text/plain": [
       "<Waffle size 1500x500 with 1 Axes>"
      ]
     },
     "metadata": {},
     "output_type": "display_data"
    }
   ],
   "source": [
    "# plotar gráfico de waffle\n",
    "fig = plt.figure(\n",
    "                FigureClass=Waffle,\n",
    "                rows=5,\n",
    "                columns=10,\n",
    "                colors=(\"#000000\", \"#983D3D\"),\n",
    "                values=aderencia_distribuicao,\n",
    "                title={\n",
    "                'label': 'Aderência da campanha',\n",
    "                'loc': 'left',\n",
    "                'fontdict': {\n",
    "                'fontsize': 15\n",
    "                }},\n",
    "                icons='child',\n",
    "                font_size=50,\n",
    "                legend={\n",
    "                'loc': 'lower left',\n",
    "                'bbox_to_anchor': (-0.04, -0.2),\n",
    "                'ncol': len(aderencia_distribuicao),\n",
    "                'framealpha': 0,\n",
    "                'fontsize': 15\n",
    "                },\n",
    "                labels=['Cliente não aderiu (88%)', 'Cliente aderiu (11%)'],\n",
    "                icon_legend=True, \n",
    "                figsize=(15, 5)\n",
    ")\n",
    "plt.tight_layout()\n",
    "plt.show()"
   ]
  },
  {
   "cell_type": "code",
   "execution_count": null,
   "id": "6f30d3f3",
   "metadata": {},
   "outputs": [],
   "source": []
  },
  {
   "cell_type": "markdown",
   "id": "ba82950d",
   "metadata": {},
   "source": [
    "Nota-se então que os dados estão bastante desbalanceados, o que acaba influenciando negativamente o modelo para um lado, que seria os dados pessoas que não aderiram a campanha, por esse motivo existem algumas ténicas de balanceamento de dados."
   ]
  },
  {
   "cell_type": "markdown",
   "id": "540b44b0",
   "metadata": {},
   "source": [
    "#### **Smote**"
   ]
  },
  {
   "cell_type": "markdown",
   "id": "f95b83e7",
   "metadata": {},
   "source": [
    "SMOTE é uma das técnicas mais populares de reamostragem em casos de classes desbalanceadas. Trata-se de uma técnica de oversampling que adiciona dados sintéticos à classe minitoritária através de uma heurística relativamente simples."
   ]
  },
  {
   "cell_type": "markdown",
   "id": "0237d1a7",
   "metadata": {},
   "source": [
    "O SMOTE pode ser pensado como um oversampling aleatório adicionado de uma perturbação direcionada. Isso evita os problemas de overfitting existentes no oversampling aleatório simples.\n",
    "\n",
    "Esse algoritmo não está disponível por padrão no sklearn, mas pode ser encontrado nos seus projetos de contribuição na biblioteca imblearn."
   ]
  },
  {
   "cell_type": "code",
   "execution_count": 60,
   "id": "1915f50c",
   "metadata": {},
   "outputs": [],
   "source": [
    "from imblearn.over_sampling import SMOTE\n",
    "from sklearn.decomposition import PCA"
   ]
  },
  {
   "cell_type": "markdown",
   "id": "83f1811f",
   "metadata": {},
   "source": [
    "Para definir o X e Y irei descartar apenas as variáveis de entrada que acredito não serem tão relevantes para o problema. E a variável de saída será a classe binária da coluna aderencia da campanha. "
   ]
  },
  {
   "cell_type": "code",
   "execution_count": 61,
   "id": "fbcab58c",
   "metadata": {},
   "outputs": [],
   "source": [
    "smote = SMOTE(sampling_strategy=\"minority\")\n",
    "\n",
    "X_smote, y_smote = smote.fit_resample(X, y)"
   ]
  },
  {
   "cell_type": "code",
   "execution_count": null,
   "id": "98b0be3c",
   "metadata": {},
   "outputs": [],
   "source": []
  },
  {
   "cell_type": "code",
   "execution_count": 62,
   "id": "6d93f074",
   "metadata": {},
   "outputs": [
    {
     "data": {
      "text/plain": [
       "(41188, 40)"
      ]
     },
     "execution_count": 62,
     "metadata": {},
     "output_type": "execute_result"
    }
   ],
   "source": [
    "df.shape"
   ]
  },
  {
   "cell_type": "code",
   "execution_count": 63,
   "id": "9b3e6f2a",
   "metadata": {},
   "outputs": [
    {
     "data": {
      "text/plain": [
       "(73096, 37)"
      ]
     },
     "execution_count": 63,
     "metadata": {},
     "output_type": "execute_result"
    }
   ],
   "source": [
    "X_smote.shape"
   ]
  },
  {
   "cell_type": "markdown",
   "id": "25bace33",
   "metadata": {},
   "source": [
    "Dessa forma a quantidade dados positivos e negativos se torna igual:"
   ]
  },
  {
   "cell_type": "code",
   "execution_count": 64,
   "id": "f6503333",
   "metadata": {},
   "outputs": [
    {
     "data": {
      "text/plain": [
       "1.0"
      ]
     },
     "execution_count": 64,
     "metadata": {},
     "output_type": "execute_result"
    }
   ],
   "source": [
    "sum(y_smote == True)/sum(y_smote == False)"
   ]
  },
  {
   "cell_type": "code",
   "execution_count": null,
   "id": "a2c76dab",
   "metadata": {},
   "outputs": [],
   "source": []
  },
  {
   "cell_type": "code",
   "execution_count": 65,
   "id": "cfe5a31f",
   "metadata": {},
   "outputs": [],
   "source": [
    "#SALVANDO BASE DE DADOS FINAL\n",
    "df.to_csv(\"dados_tratados.csv\",index= False)\n",
    "X_smote.to_csv(\"X_dados_balanceados.csv\",index= False)\n",
    "y_smote.to_csv('y.csv', index=False)"
   ]
  },
  {
   "cell_type": "code",
   "execution_count": null,
   "id": "5bc913d3",
   "metadata": {},
   "outputs": [],
   "source": []
  },
  {
   "cell_type": "code",
   "execution_count": null,
   "id": "c7f14be7",
   "metadata": {},
   "outputs": [],
   "source": []
  }
 ],
 "metadata": {
  "kernelspec": {
   "display_name": "Python 3 (ipykernel)",
   "language": "python",
   "name": "python3"
  },
  "language_info": {
   "codemirror_mode": {
    "name": "ipython",
    "version": 3
   },
   "file_extension": ".py",
   "mimetype": "text/x-python",
   "name": "python",
   "nbconvert_exporter": "python",
   "pygments_lexer": "ipython3",
   "version": "3.9.5"
  }
 },
 "nbformat": 4,
 "nbformat_minor": 5
}
