{
 "cells": [
  {
   "cell_type": "markdown",
   "id": "26942a2d",
   "metadata": {},
   "source": [
    "## **Modelagem e Avaliação do modelo**"
   ]
  },
  {
   "cell_type": "code",
   "execution_count": 1,
   "id": "1659dcd8",
   "metadata": {},
   "outputs": [
    {
     "name": "stderr",
     "output_type": "stream",
     "text": [
      "/home/luis/.local/lib/python3.9/site-packages/xgboost/compat.py:36: FutureWarning: pandas.Int64Index is deprecated and will be removed from pandas in a future version. Use pandas.Index with the appropriate dtype instead.\n",
      "  from pandas import MultiIndex, Int64Index\n"
     ]
    }
   ],
   "source": [
    "import pandas as pd\n",
    "\n",
    "from sklearn.model_selection import train_test_split\n",
    "\n",
    "from xgboost import XGBClassifier\n",
    "from sklearn.ensemble import RandomForestClassifier\n",
    "\n",
    "from sklearn.metrics import classification_report\n",
    "from sklearn import metrics\n",
    "from yellowbrick.classifier import ROCAUC\n",
    "import scikitplot as skplt\n",
    "\n",
    "import matplotlib.pyplot as plt\n",
    "import seaborn as sns"
   ]
  },
  {
   "cell_type": "code",
   "execution_count": 2,
   "id": "addaed49",
   "metadata": {},
   "outputs": [],
   "source": [
    "X = pd.read_csv('X.csv')"
   ]
  },
  {
   "cell_type": "code",
   "execution_count": 3,
   "id": "b892930b",
   "metadata": {},
   "outputs": [],
   "source": [
    "y = pd.read_csv('y.csv')"
   ]
  },
  {
   "cell_type": "code",
   "execution_count": 4,
   "id": "4ebe9639",
   "metadata": {},
   "outputs": [],
   "source": [
    "df = pd.read_csv('X_dados_balanceados.csv')"
   ]
  },
  {
   "cell_type": "markdown",
   "id": "6216fbce",
   "metadata": {},
   "source": [
    "### **Divisão do Conjunto de Dados em Treino, Teste e Validação**"
   ]
  },
  {
   "cell_type": "markdown",
   "id": "68f8e2cf",
   "metadata": {},
   "source": [
    "Para dividir os dados em treino e teste, utilizamos a função train_test_split do sklearn e passamos o parâmetro text_size para utilizar uma divisão, normalmente em projetos menores e épocas anteriores sempre foi feita uma divisão de 70% para treino e 30% para teste. \n",
    "\n",
    "Porém a proporção de divisão normalmente vai depender do tamanho do conjunto de dados, em projetos de machine learning menores e mais antigos é comum ser utilizada essa divisão, porém, em projetos com conjunto de dados maiores e atuais, a proporção da divisão dos conjuntos de dados acaba sendo diferente e acaba tendo uma terceira categoria, como desenvolvimento ou validação, e o conjunto de dados irá ser dividido em conjunto de treino, desenvolvimento ou validação e teste, com um número muito maior de dados para o conjunto de treino e um número bem pequeno para o conjunto de desenvolvimento ou validação e teste."
   ]
  },
  {
   "cell_type": "markdown",
   "id": "d67ac566",
   "metadata": {},
   "source": [
    "Para esse caso a ideia é produzir uma divisão de 60%, 20%, 20% para respectivamente conjuntos de treinamento, validação e teste.\n",
    "\n",
    "A primeira divisão cria 80% de treinamento + 20% de teste."
   ]
  },
  {
   "cell_type": "code",
   "execution_count": 5,
   "id": "b3b256cc",
   "metadata": {},
   "outputs": [],
   "source": [
    "#Dados de treino e teste\n",
    "X_train, X_test, y_train, y_test = train_test_split(X, y, test_size=0.20, random_state=42)"
   ]
  },
  {
   "cell_type": "code",
   "execution_count": null,
   "id": "53e13ca3",
   "metadata": {},
   "outputs": [],
   "source": []
  },
  {
   "cell_type": "markdown",
   "id": "aeb86f8b",
   "metadata": {},
   "source": [
    " A segunda divisão começa com a divisão de 80% treinamento + validação e atribui 25% desses 80% à divisão de validação. Esse tamanho vem de 0,25 X 0,80 = 0,20 (20%). \n",
    " \n",
    "Portanto, a divisão de validação é de 20%. Então, agora temos validação e teste em 20% cada. O tamanho da divisão do treinamento é calculado como 75% de 80% = 0,75 X 0,80 = 0,60 (60%). \n",
    "\n",
    "Portanto, isso dá um tamanho de divisão de treinamento de 60%. No geral, isso dá 60% -20% -20% para o teste de validação do trem."
   ]
  },
  {
   "cell_type": "code",
   "execution_count": 6,
   "id": "614b5668",
   "metadata": {},
   "outputs": [],
   "source": [
    "#Dados de Validação\n",
    "X_train_2, X_val, y_train_2, y_val = train_test_split(X_train, y_train, test_size=0.25, random_state=42)"
   ]
  },
  {
   "cell_type": "code",
   "execution_count": null,
   "id": "f777ea3c",
   "metadata": {},
   "outputs": [],
   "source": []
  },
  {
   "cell_type": "markdown",
   "id": "26a50280",
   "metadata": {},
   "source": [
    "### **Random Forest Classifier**"
   ]
  },
  {
   "cell_type": "markdown",
   "id": "281aa8bd",
   "metadata": {},
   "source": [
    "Um dos principais motivos para o uso do Random Forest é que esse algoritmo tem a capacidade de manter a precisão quando uma grande proporção de dados está faltando, que foi um dos problemas enfrentados com o conjunto de dados do problema."
   ]
  },
  {
   "cell_type": "markdown",
   "id": "cbe40e55",
   "metadata": {},
   "source": [
    "Como a floresta aleatória combina várias árvores para prever a classe do conjunto de dados, é possível que algumas árvores de decisão possam prever a saída correta, enquanto outras não. Mas juntas, todas as árvores preveem a saída correta. "
   ]
  },
  {
   "cell_type": "markdown",
   "id": "020825fb",
   "metadata": {},
   "source": [
    "**Como funciona?**\n",
    "\n",
    "De forma não técnica para se compreender melhor, existe o exemplo clássico do conjunto de dados da cesta de frutas. Suponha que haja um conjunto de dados que contém várias imagens de frutas. \n",
    "\n",
    "* Esse conjunto de dados é fornecido ao classificador de floresta aleatória. \n",
    "* O conjunto de dados vai ser dividido em subconjuntos e dado a cada árvore de decisão. \n",
    "* Durante a fase de treinamento, cada árvore de decisão produz um resultado de previsão e, quando um novo ponto de dados ocorre.\n",
    "* Com base na maioria dos resultados, o classificador Random Forest prevê a decisão final de qual é a fruta que a imagem se refere."
   ]
  },
  {
   "cell_type": "markdown",
   "id": "643b0b74",
   "metadata": {},
   "source": [
    "Além disso, o Random Forest também é bastante usado para problemas na área de marketing, que envolve a problemática que o modelo está sendo desenvolvido:\n",
    "\n",
    "* **Marketing: As tendências de marketing podem ser identificadas usando o Random Forest.**\n",
    "* Bancário: O setor bancário usa principalmente este algoritmo para a identificação do risco de empréstimo.\n",
    "* Medicina: Com a ajuda deste algoritmo, as tendências da doença e os riscos da doença podem ser identificados.\n",
    "\n"
   ]
  },
  {
   "cell_type": "code",
   "execution_count": 7,
   "id": "7eab2e5b",
   "metadata": {},
   "outputs": [],
   "source": [
    "#Construindo o modelo\n",
    "model = RandomForestClassifier(bootstrap=False, class_weight='balanced',\n",
    "                       criterion='entropy', max_features='sqrt', min_samples_leaf=1,\n",
    "                       random_state=42, n_jobs=-1, n_estimators = 1000)"
   ]
  },
  {
   "cell_type": "markdown",
   "id": "a0cea386",
   "metadata": {},
   "source": [
    "* O parâmetro criterion usa uma função para medir a qualidade de uma divisão. E o critério “entropia” busca realizar o ganho de informação.\n",
    "* com o min_samples_leaf o objetivo é ter o efeito de suavizar o modelo, com o número mínimo de amostras necessárias para estar em um nó.\n",
    "* O modo “balanced” usa os valores de y para ajustar automaticamente pesos inversamente proporcionais às frequências de classe nos dados de entrada.\n",
    "* bootstrap False todo o conjunto de dados é usado para construir cada árvore.\n",
    "* Se “sqrt”, o número de recursos utilizados será de forma automática.\n",
    "* n_jobs -1 significa usar todos os processadores.\n",
    "* o random_state está relacionado a aleatoriedade do bootstrap das amostras usadas na construção de árvores."
   ]
  },
  {
   "cell_type": "markdown",
   "id": "4bf3b602",
   "metadata": {},
   "source": [
    "**Treinamento**"
   ]
  },
  {
   "cell_type": "code",
   "execution_count": 8,
   "id": "34fbe6f9",
   "metadata": {},
   "outputs": [
    {
     "name": "stderr",
     "output_type": "stream",
     "text": [
      "/tmp/ipykernel_8548/180087699.py:1: DataConversionWarning: A column-vector y was passed when a 1d array was expected. Please change the shape of y to (n_samples,), for example using ravel().\n",
      "  model.fit(X_train, y_train)\n"
     ]
    },
    {
     "data": {
      "text/plain": [
       "RandomForestClassifier(bootstrap=False, class_weight='balanced',\n",
       "                       criterion='entropy', max_features='sqrt',\n",
       "                       n_estimators=1000, n_jobs=-1, random_state=42)"
      ]
     },
     "execution_count": 8,
     "metadata": {},
     "output_type": "execute_result"
    }
   ],
   "source": [
    "model.fit(X_train, y_train)"
   ]
  },
  {
   "cell_type": "markdown",
   "id": "38bcefaf",
   "metadata": {},
   "source": [
    "**Teste, Validação e Avaliação do modelo**"
   ]
  },
  {
   "cell_type": "code",
   "execution_count": 9,
   "id": "9f8ad4c5",
   "metadata": {},
   "outputs": [
    {
     "name": "stdout",
     "output_type": "stream",
     "text": [
      "\n",
      "Acurácia Treino:  0.9999486969012928\n",
      "AUC Treino:  0.9999999947359811\n",
      "\n",
      "Acurácia Teste:  0.944391244870041\n",
      "AUC Teste:  0.9900233769177471\n",
      "\n",
      "Acurácia Validação:  0.9999315958683904\n",
      "AUC Validação:  0.9999999906417264\n"
     ]
    }
   ],
   "source": [
    "#Treino\n",
    "y_train_pred = model.predict(X_train)  #calcula a predição\n",
    "y_train_prob = model.predict_proba(X_train) #calcula a probabilidade\n",
    "auc_train = metrics.roc_auc_score(y_train, y_train_prob[:,1])\n",
    "\n",
    "#Teste\n",
    "y_test_pred = model.predict(X_test)\n",
    "y_test_prob = model.predict_proba(X_test)\n",
    "auc_test = metrics.roc_auc_score(y_test, y_test_prob[:,1])\n",
    "\n",
    "#Validação\n",
    "y_val_pred = model.predict(X_val)\n",
    "y_val_prob = model.predict_proba(X_val)\n",
    "auc_val = metrics.roc_auc_score(y_val, y_val_prob[:,1])\n",
    "\n",
    "                                  \n",
    "print(\"\\nAcurácia Treino: \", metrics.accuracy_score(y_train, y_train_pred))\n",
    "print(\"AUC Treino: \", auc_train)\n",
    "\n",
    "print(\"\\nAcurácia Teste: \", metrics.accuracy_score(y_test, y_test_pred))\n",
    "print(\"AUC Teste: \", auc_test)\n",
    "\n",
    "print(\"\\nAcurácia Validação: \", metrics.accuracy_score(y_val, y_val_pred))\n",
    "print(\"AUC Validação: \", auc_val)"
   ]
  },
  {
   "cell_type": "code",
   "execution_count": null,
   "id": "73b19919",
   "metadata": {},
   "outputs": [],
   "source": []
  },
  {
   "cell_type": "markdown",
   "id": "e7e5a2b1",
   "metadata": {},
   "source": [
    "Note que além de realizar as previsões do modelo, também realizei a probabilidades da previsão do modelo, ou seja, a probabilidade para quando a campanha não é aderida e para quando a campanha é aderida. Isso acaba sendo muito útil para avaliar o modelo através da curva de ROC."
   ]
  },
  {
   "cell_type": "code",
   "execution_count": 10,
   "id": "b0f5620a",
   "metadata": {},
   "outputs": [
    {
     "data": {
      "text/plain": [
       "array([[0.037, 0.963],\n",
       "       [1.   , 0.   ],\n",
       "       [0.088, 0.912],\n",
       "       ...,\n",
       "       [0.998, 0.002],\n",
       "       [0.   , 1.   ],\n",
       "       [0.998, 0.002]])"
      ]
     },
     "execution_count": 10,
     "metadata": {},
     "output_type": "execute_result"
    }
   ],
   "source": [
    "#Probabilidade da não aderência da campanha e da aderência da campanha\n",
    "y_test_prob"
   ]
  },
  {
   "cell_type": "code",
   "execution_count": null,
   "id": "f64ba987",
   "metadata": {},
   "outputs": [],
   "source": []
  },
  {
   "cell_type": "markdown",
   "id": "3779fcdc",
   "metadata": {},
   "source": [
    "### **Avaliação do Modelo e Métricas de avaliação de um Classificador**"
   ]
  },
  {
   "cell_type": "code",
   "execution_count": 11,
   "id": "80de8e0a",
   "metadata": {},
   "outputs": [
    {
     "name": "stdout",
     "output_type": "stream",
     "text": [
      "---------------------------------------------------\n"
     ]
    },
    {
     "data": {
      "image/png": "[encoded data removed]",
      "text/plain": [
       "<Figure size 576x396 with 2 Axes>"
      ]
     },
     "metadata": {},
     "output_type": "display_data"
    }
   ],
   "source": [
    "from sklearn.metrics import plot_confusion_matrix\n",
    "\n",
    "print('---------------------------------------------------')\n",
    "plot_confusion_matrix(model, X_test, y_test, normalize='true', cmap='Blues')\n",
    "plt.show()"
   ]
  },
  {
   "cell_type": "code",
   "execution_count": null,
   "id": "81a311d9",
   "metadata": {},
   "outputs": [],
   "source": []
  },
  {
   "cell_type": "markdown",
   "id": "29d45d22",
   "metadata": {},
   "source": [
    "Se observarmos, a matriz de confusão possui duas linhas e duas colunas. E os seus quatros valores se relacionam na diagonal, **False Positive (FP) e False Negative (FN)**  para os valores que foram classificados errados e representam os dois tipos de erros que o modelo pode cometer, similar aos testes de hipóteses da estatística, que nessa matriz de confusão são os azuis mais claros:\n",
    "\n",
    "* O primeiro tipo de erro é o **falso positivo (FP)**: Quer dizer que o dado pertence à classe positiva, quando na verdade pertence à classe negativa. Isso seria um Erro Tipo I. Para esse erro o modelo apresentou um _resultado de 0.067_\n",
    "\n",
    "\n",
    "* O segundo tipo de erro é o **falso negativo (FN)**: Quer dizer que o dado pertence à classe negativa, quando na verdade pertence à classe positiva. Isso seria um Erro Tipo II. Para esse erro o modelo apresentou um _resultado de 0.039_\n",
    "\n",
    "Por outro lado, em uma outra diagonal se relacionam, **True Negative (TN) e True Positive (TP)** para os valores que foram classificados corretamente e representam os dois acertos do modelo, veja:\n",
    "\n",
    "* O primeiro acerto é o **verdadeiro negativo (TN)** Quer dizer que valores classificados como negativos nos dados originais e corretamente previstos como negativos no modelo.  Para esse acerto o modelo apresentou um _resultado de 0.93_\n",
    "\n",
    "\n",
    "* O segundo acerto é o **verdadeiro positivo (TP)**: Quer dizer que valores classificados como positivos nos dados originais e corretamente previstos como positivos no modelo. Para esse acerto o modelo apresentou um _resultado de 0.96_"
   ]
  },
  {
   "cell_type": "markdown",
   "id": "c83b4e4f",
   "metadata": {},
   "source": [
    "Após esse entendimento, fica claro que desejamos minimizar **FP e FN** e maximizar **TP e TN**. Porém, em muitos casos, isso não será totalmente possível, e dependendo da aplicação, devemos priorizar a minimização dos FP ou dos FN.\n"
   ]
  },
  {
   "cell_type": "markdown",
   "id": "8aae3a0c",
   "metadata": {},
   "source": [
    "A partir dos resultados da matriz de confusão, é possível calcular outras três métricas, como Acurácia, Precisão e Recall do modelo, que também servem para medir o desempenho da classificação.\n",
    "\n",
    "E a métrica F1-Score ou F-measure como também é conhecida, conseguimos obter seu resultado a partir da média harmônica entre a precisão e a revocação, as duas métricas vistas anteriormente. "
   ]
  },
  {
   "cell_type": "code",
   "execution_count": null,
   "id": "fec1fc71",
   "metadata": {},
   "outputs": [],
   "source": []
  },
  {
   "cell_type": "code",
   "execution_count": 12,
   "id": "895ab07b",
   "metadata": {},
   "outputs": [
    {
     "name": "stdout",
     "output_type": "stream",
     "text": [
      "\n",
      "Acurácia Treino: 99.99%\n",
      "              precision    recall  f1-score   support\n",
      "\n",
      "           0       1.00      1.00      1.00     29216\n",
      "           1       1.00      1.00      1.00     29260\n",
      "\n",
      "    accuracy                           1.00     58476\n",
      "   macro avg       1.00      1.00      1.00     58476\n",
      "weighted avg       1.00      1.00      1.00     58476\n",
      "\n",
      "\n",
      "Acurácia Teste: 94.44%\n",
      "              precision    recall  f1-score   support\n",
      "\n",
      "           0       0.95      0.94      0.94      7332\n",
      "           1       0.94      0.95      0.94      7288\n",
      "\n",
      "    accuracy                           0.94     14620\n",
      "   macro avg       0.94      0.94      0.94     14620\n",
      "weighted avg       0.94      0.94      0.94     14620\n",
      "\n",
      "\n",
      "Acurácia Validação: 99.99%\n",
      "              precision    recall  f1-score   support\n",
      "\n",
      "           0       1.00      1.00      1.00      7298\n",
      "           1       1.00      1.00      1.00      7321\n",
      "\n",
      "    accuracy                           1.00     14619\n",
      "   macro avg       1.00      1.00      1.00     14619\n",
      "weighted avg       1.00      1.00      1.00     14619\n",
      "\n"
     ]
    }
   ],
   "source": [
    "print(\"\\nAcurácia Treino: {}%\".format(round(model.score(X_train, y_train)*100, 2)))\n",
    "print(classification_report(y_train, y_train_pred))\n",
    "\n",
    "\n",
    "print(\"\\nAcurácia Teste: {}%\".format(round(model.score(X_test, y_test)*100, 2)))\n",
    "print(classification_report(y_test, y_test_pred))\n",
    "\n",
    "\n",
    "print(\"\\nAcurácia Validação: {}%\".format(round(model.score(X_val, y_val)*100, 2)))\n",
    "print(classification_report(y_val, y_val_pred))"
   ]
  },
  {
   "cell_type": "code",
   "execution_count": null,
   "id": "ee41c35d",
   "metadata": {},
   "outputs": [],
   "source": []
  },
  {
   "cell_type": "markdown",
   "id": "278c9dda",
   "metadata": {},
   "source": [
    "**Notas**\n",
    "\n",
    "* A métrica **acurácia** é a mais simples para se utilizar, e tem como objetivo representar o resultado de quantos de nossos exemplos foram de fato classificados corretamente. **Então o modelo conseguiu classificar corretamente 94% a partir dos dados de teste.**\n",
    "\n",
    "\n",
    "* A métrica **precisão**, busca representar o resultado de quantos exemplos realmente são positivos dos que foram classificados como positivos pelo modelo. Ou seja, para a classe 0 Não aderência (quantos estão corretamente classificados entre essa classe) **o modelo apresentou um resultado de 96% a partir dos dados de teste** e para a classe 1 aderência da campanha, **o modelo apresentou um resultado de 94% a partir dos dados de teste**.\n",
    "\n",
    "_Vale lembrar que existe um problema em a precisão e o recall serem usados para avaliar modelo a partir de conjuntos de dados desbalanceados, porque em um conjunto de dados altamente desbalanceado, uma precisão de 99% pode não ter sentido. O que não é o caso visto que foi utilizada uma técnica para balancear os dados._\n",
    "\n",
    "\n",
    "* A métrica **reccal**, apesar da interpretação dos seus resultados ser muito semelhante à métrica de precisão, diferentemente da precisão que está interessada em dar ênfase maior para os erros por falso positivo, na revocação o interesse maior está em dar ênfase para os erros por falso negativo. Ou seja, para a classe 0 Não aderência (Dos dados que são positivos, quantos foram classificados corretamente na previsão? Dessa classe) **o modelo apresentou um resultado de 93% a partir dos dados de teste** e para a classe 1 Aderência da campanha, **o modelo apresentou um resultado de 96% a partir dos dados de teste**.\n",
    "\n",
    "\n",
    "*  A métrica **F1-Score ou F-measure** como também é conhecida, trata-se de uma média harmônica entre a precisão e a revocação, então para que o  f1-score tenha um resultado alto e positivo, é preciso que a precisão e a revocação também tenham resultados altos. Vale lembrar que essa métrica acaba sendo muit  boa quando temos um conjunto de dados com classes desproporcionais, e o modelo não emite probabilidades. Para essa métrica o **o modelo apresentou um resultado de 0.95% a partir dos dados de teste** tanto para a classe 0 quanto para a classe 1.\n",
    "\n",
    "E o support que aparece no final é o número de ocorrências de determinada classe no conjunto de dados.\n",
    "\n",
    "\n"
   ]
  },
  {
   "cell_type": "code",
   "execution_count": null,
   "id": "f6dbede7",
   "metadata": {},
   "outputs": [],
   "source": []
  },
  {
   "cell_type": "markdown",
   "id": "cea99249",
   "metadata": {},
   "source": [
    "A curva ROC (Receiver Operating Curve) é uma outra forma de avaliar o desempenho de classificadores."
   ]
  },
  {
   "cell_type": "code",
   "execution_count": 13,
   "id": "d2afdb5d",
   "metadata": {},
   "outputs": [
    {
     "data": {
      "image/png": "[encoded data removed]",
      "text/plain": [
       "<Figure size 576x396 with 1 Axes>"
      ]
     },
     "metadata": {},
     "output_type": "display_data"
    }
   ],
   "source": [
    "#Gráfico da curva ROC\n",
    "\n",
    "roc_train = metrics.roc_curve(y_train, y_train_prob[:,1])\n",
    "roc_test = metrics.roc_curve(y_test, y_test_prob[:,1])\n",
    "roc_val = metrics.roc_curve(y_val, y_val_prob[:,1])\n",
    "\n",
    "plt.plot(roc_train[0], roc_train[1])\n",
    "plt.plot(roc_test[0], roc_test[1])\n",
    "plt.plot(roc_val[0], roc_val[1])\n",
    "\n",
    "\n",
    "plt.xlabel(\"1 - Especificidade\")\n",
    "plt.ylabel(\"Sensibilidade\")\n",
    "plt.title(\"Curva ROC\")\n",
    "plt.legend([f\"Treino: {auc_train}\", f\"Teste:{auc_test}\", f\"Validação:{auc_val}\"])\n",
    "\n",
    "plt.show()"
   ]
  },
  {
   "cell_type": "markdown",
   "id": "4fcb87e5",
   "metadata": {},
   "source": [
    "Basicamente, o ROC é um gráfico do trade-off existente entre erros (FPR - Especificidade) e acertos (TPR - Taxa verdadeiro positivo ou sensibilidade) para diferentes fronteiras de decisão de um classificador. \n",
    "\n",
    "\n",
    "Então, existe uma divisão a partir da fronteira de decisão entre falsos positivos e verdadeiros positivos. E a fronteira de decisão (linha que separa) pode ser, por exemplo, o threshold de probabilidade que separa a classe negativa da classe positiva. \n",
    "\n",
    "De modo geral, **quanto mais próxima a curva estiver do canto superior esquerdo, onde tem 1.0 (entendido como perfect Classification), melhor é a predição do modelo**, tendo em vista que ele teria 100% de TPR(Taxa verdadeiro positivo) e 0% de FPR (taxa falso positivo). \n",
    "\n",
    "Curvas para baixo significam que o classificador se comporta pior do que chutes aleatórios sobre as classes.\n",
    "\n",
    "\n"
   ]
  },
  {
   "cell_type": "code",
   "execution_count": null,
   "id": "981dbcf6",
   "metadata": {},
   "outputs": [],
   "source": []
  },
  {
   "cell_type": "markdown",
   "id": "31110c07",
   "metadata": {},
   "source": [
    "Uma forma de sumarizar o desempenho do classificador usando o ROC é através da área embaixo da curva ROC: **AUC (Area Under Curve).**"
   ]
  },
  {
   "cell_type": "code",
   "execution_count": 14,
   "id": "788c3e82",
   "metadata": {},
   "outputs": [
    {
     "name": "stderr",
     "output_type": "stream",
     "text": [
      "/home/luis/.local/lib/python3.9/site-packages/sklearn/utils/deprecation.py:86: FutureWarning: Function plot_roc_curve is deprecated; This will be removed in v0.5.0. Please use scikitplot.metrics.plot_roc instead.\n",
      "  warnings.warn(msg, category=FutureWarning)\n"
     ]
    },
    {
     "data": {
      "image/png": "[encoded data removed]",
      "text/plain": [
       "<Figure size 576x396 with 1 Axes>"
      ]
     },
     "metadata": {},
     "output_type": "display_data"
    }
   ],
   "source": [
    "skplt.metrics.plot_roc_curve(y_test, y_test_prob)\n",
    "plt.show()\n"
   ]
  },
  {
   "cell_type": "markdown",
   "id": "238e6a79",
   "metadata": {},
   "source": [
    "A AUC do ROC é uma métrica que vai de 0 a 1. Quanto mais próximo de 1, melhor é o desempenho geral do classificador.\n",
    "\n",
    "Comparar classificadores com AUC é uma tarefa trivial: o classificador com maior AUC possui o melhor desempenho geral. A AUC (Area) de um classificador aleatório é 0.5, logo qualquer classificador com AUC superior a 0.5 é um classificador melhor do que chutes aleatórios."
   ]
  },
  {
   "cell_type": "markdown",
   "id": "8597ab2a",
   "metadata": {},
   "source": [
    "Observando o gráfico da curva ROC do modelo, fica claro que o classificador possui uma curva ROC acima da reta y=x. Logo, possivelmente o modelo se comporta melhor que o classificador aleatório.\n",
    "\n",
    "Além disso, a **AUC (Area) possui o valor de 0.99 para a classe 0 (Não aderência da campanha) e para a classe 1 (Aderência da campanha)**, ou seja, o classificador possui um bom desempenho geral, por o valor está muito próximo de 1. Qualquer classificador com AUC superior a 0.5 é um classificador melhor do que chutes aleatórios."
   ]
  },
  {
   "cell_type": "code",
   "execution_count": null,
   "id": "e254c9db",
   "metadata": {},
   "outputs": [],
   "source": []
  },
  {
   "cell_type": "markdown",
   "id": "ae4b1d13",
   "metadata": {},
   "source": [
    "### **Comparação de modelos com AutoML (Pycaret)**"
   ]
  },
  {
   "cell_type": "code",
   "execution_count": 16,
   "id": "0032d1dd",
   "metadata": {},
   "outputs": [
    {
     "name": "stdout",
     "output_type": "stream",
     "text": [
      "Defaulting to user installation because normal site-packages is not writeable\n",
      "Requirement already satisfied: numpy in /home/luis/.local/lib/python3.9/site-packages (1.22.3)\n",
      "Note: you may need to restart the kernel to use updated packages.\n"
     ]
    }
   ],
   "source": [
    "pip install numpy"
   ]
  },
  {
   "cell_type": "code",
   "execution_count": 17,
   "id": "1f9f2d81",
   "metadata": {},
   "outputs": [],
   "source": [
    "#importando a biblioteca do Pycaret\n",
    "from pycaret.classification import *"
   ]
  },
  {
   "cell_type": "code",
   "execution_count": 19,
   "id": "7f53589f",
   "metadata": {},
   "outputs": [
    {
     "data": {
      "text/html": [
       "<style type=\"text/css\">\n",
       "#T_fb3e1_row44_col1 {\n",
       "  background-color: lightgreen;\n",
       "}\n",
       "</style>\n",
       "<table id=\"T_fb3e1\">\n",
       "  <thead>\n",
       "    <tr>\n",
       "      <th class=\"blank level0\" >&nbsp;</th>\n",
       "      <th id=\"T_fb3e1_level0_col0\" class=\"col_heading level0 col0\" >Description</th>\n",
       "      <th id=\"T_fb3e1_level0_col1\" class=\"col_heading level0 col1\" >Value</th>\n",
       "    </tr>\n",
       "  </thead>\n",
       "  <tbody>\n",
       "    <tr>\n",
       "      <th id=\"T_fb3e1_level0_row0\" class=\"row_heading level0 row0\" >0</th>\n",
       "      <td id=\"T_fb3e1_row0_col0\" class=\"data row0 col0\" >session_id</td>\n",
       "      <td id=\"T_fb3e1_row0_col1\" class=\"data row0 col1\" >33</td>\n",
       "    </tr>\n",
       "    <tr>\n",
       "      <th id=\"T_fb3e1_level0_row1\" class=\"row_heading level0 row1\" >1</th>\n",
       "      <td id=\"T_fb3e1_row1_col0\" class=\"data row1 col0\" >Target</td>\n",
       "      <td id=\"T_fb3e1_row1_col1\" class=\"data row1 col1\" >aderencia_campanha</td>\n",
       "    </tr>\n",
       "    <tr>\n",
       "      <th id=\"T_fb3e1_level0_row2\" class=\"row_heading level0 row2\" >2</th>\n",
       "      <td id=\"T_fb3e1_row2_col0\" class=\"data row2 col0\" >Target Type</td>\n",
       "      <td id=\"T_fb3e1_row2_col1\" class=\"data row2 col1\" >Binary</td>\n",
       "    </tr>\n",
       "    <tr>\n",
       "      <th id=\"T_fb3e1_level0_row3\" class=\"row_heading level0 row3\" >3</th>\n",
       "      <td id=\"T_fb3e1_row3_col0\" class=\"data row3 col0\" >Label Encoded</td>\n",
       "      <td id=\"T_fb3e1_row3_col1\" class=\"data row3 col1\" >0: 0, 1: 1</td>\n",
       "    </tr>\n",
       "    <tr>\n",
       "      <th id=\"T_fb3e1_level0_row4\" class=\"row_heading level0 row4\" >4</th>\n",
       "      <td id=\"T_fb3e1_row4_col0\" class=\"data row4 col0\" >Original Data</td>\n",
       "      <td id=\"T_fb3e1_row4_col1\" class=\"data row4 col1\" >(73096, 37)</td>\n",
       "    </tr>\n",
       "    <tr>\n",
       "      <th id=\"T_fb3e1_level0_row5\" class=\"row_heading level0 row5\" >5</th>\n",
       "      <td id=\"T_fb3e1_row5_col0\" class=\"data row5 col0\" >Missing Values</td>\n",
       "      <td id=\"T_fb3e1_row5_col1\" class=\"data row5 col1\" >False</td>\n",
       "    </tr>\n",
       "    <tr>\n",
       "      <th id=\"T_fb3e1_level0_row6\" class=\"row_heading level0 row6\" >6</th>\n",
       "      <td id=\"T_fb3e1_row6_col0\" class=\"data row6 col0\" >Numeric Features</td>\n",
       "      <td id=\"T_fb3e1_row6_col1\" class=\"data row6 col1\" >8</td>\n",
       "    </tr>\n",
       "    <tr>\n",
       "      <th id=\"T_fb3e1_level0_row7\" class=\"row_heading level0 row7\" >7</th>\n",
       "      <td id=\"T_fb3e1_row7_col0\" class=\"data row7 col0\" >Categorical Features</td>\n",
       "      <td id=\"T_fb3e1_row7_col1\" class=\"data row7 col1\" >28</td>\n",
       "    </tr>\n",
       "    <tr>\n",
       "      <th id=\"T_fb3e1_level0_row8\" class=\"row_heading level0 row8\" >8</th>\n",
       "      <td id=\"T_fb3e1_row8_col0\" class=\"data row8 col0\" >Ordinal Features</td>\n",
       "      <td id=\"T_fb3e1_row8_col1\" class=\"data row8 col1\" >False</td>\n",
       "    </tr>\n",
       "    <tr>\n",
       "      <th id=\"T_fb3e1_level0_row9\" class=\"row_heading level0 row9\" >9</th>\n",
       "      <td id=\"T_fb3e1_row9_col0\" class=\"data row9 col0\" >High Cardinality Features</td>\n",
       "      <td id=\"T_fb3e1_row9_col1\" class=\"data row9 col1\" >False</td>\n",
       "    </tr>\n",
       "    <tr>\n",
       "      <th id=\"T_fb3e1_level0_row10\" class=\"row_heading level0 row10\" >10</th>\n",
       "      <td id=\"T_fb3e1_row10_col0\" class=\"data row10 col0\" >High Cardinality Method</td>\n",
       "      <td id=\"T_fb3e1_row10_col1\" class=\"data row10 col1\" >None</td>\n",
       "    </tr>\n",
       "    <tr>\n",
       "      <th id=\"T_fb3e1_level0_row11\" class=\"row_heading level0 row11\" >11</th>\n",
       "      <td id=\"T_fb3e1_row11_col0\" class=\"data row11 col0\" >Transformed Train Set</td>\n",
       "      <td id=\"T_fb3e1_row11_col1\" class=\"data row11 col1\" >(51167, 64)</td>\n",
       "    </tr>\n",
       "    <tr>\n",
       "      <th id=\"T_fb3e1_level0_row12\" class=\"row_heading level0 row12\" >12</th>\n",
       "      <td id=\"T_fb3e1_row12_col0\" class=\"data row12 col0\" >Transformed Test Set</td>\n",
       "      <td id=\"T_fb3e1_row12_col1\" class=\"data row12 col1\" >(21929, 64)</td>\n",
       "    </tr>\n",
       "    <tr>\n",
       "      <th id=\"T_fb3e1_level0_row13\" class=\"row_heading level0 row13\" >13</th>\n",
       "      <td id=\"T_fb3e1_row13_col0\" class=\"data row13 col0\" >Shuffle Train-Test</td>\n",
       "      <td id=\"T_fb3e1_row13_col1\" class=\"data row13 col1\" >True</td>\n",
       "    </tr>\n",
       "    <tr>\n",
       "      <th id=\"T_fb3e1_level0_row14\" class=\"row_heading level0 row14\" >14</th>\n",
       "      <td id=\"T_fb3e1_row14_col0\" class=\"data row14 col0\" >Stratify Train-Test</td>\n",
       "      <td id=\"T_fb3e1_row14_col1\" class=\"data row14 col1\" >False</td>\n",
       "    </tr>\n",
       "    <tr>\n",
       "      <th id=\"T_fb3e1_level0_row15\" class=\"row_heading level0 row15\" >15</th>\n",
       "      <td id=\"T_fb3e1_row15_col0\" class=\"data row15 col0\" >Fold Generator</td>\n",
       "      <td id=\"T_fb3e1_row15_col1\" class=\"data row15 col1\" >StratifiedKFold</td>\n",
       "    </tr>\n",
       "    <tr>\n",
       "      <th id=\"T_fb3e1_level0_row16\" class=\"row_heading level0 row16\" >16</th>\n",
       "      <td id=\"T_fb3e1_row16_col0\" class=\"data row16 col0\" >Fold Number</td>\n",
       "      <td id=\"T_fb3e1_row16_col1\" class=\"data row16 col1\" >10</td>\n",
       "    </tr>\n",
       "    <tr>\n",
       "      <th id=\"T_fb3e1_level0_row17\" class=\"row_heading level0 row17\" >17</th>\n",
       "      <td id=\"T_fb3e1_row17_col0\" class=\"data row17 col0\" >CPU Jobs</td>\n",
       "      <td id=\"T_fb3e1_row17_col1\" class=\"data row17 col1\" >-1</td>\n",
       "    </tr>\n",
       "    <tr>\n",
       "      <th id=\"T_fb3e1_level0_row18\" class=\"row_heading level0 row18\" >18</th>\n",
       "      <td id=\"T_fb3e1_row18_col0\" class=\"data row18 col0\" >Use GPU</td>\n",
       "      <td id=\"T_fb3e1_row18_col1\" class=\"data row18 col1\" >False</td>\n",
       "    </tr>\n",
       "    <tr>\n",
       "      <th id=\"T_fb3e1_level0_row19\" class=\"row_heading level0 row19\" >19</th>\n",
       "      <td id=\"T_fb3e1_row19_col0\" class=\"data row19 col0\" >Log Experiment</td>\n",
       "      <td id=\"T_fb3e1_row19_col1\" class=\"data row19 col1\" >False</td>\n",
       "    </tr>\n",
       "    <tr>\n",
       "      <th id=\"T_fb3e1_level0_row20\" class=\"row_heading level0 row20\" >20</th>\n",
       "      <td id=\"T_fb3e1_row20_col0\" class=\"data row20 col0\" >Experiment Name</td>\n",
       "      <td id=\"T_fb3e1_row20_col1\" class=\"data row20 col1\" >clf-default-name</td>\n",
       "    </tr>\n",
       "    <tr>\n",
       "      <th id=\"T_fb3e1_level0_row21\" class=\"row_heading level0 row21\" >21</th>\n",
       "      <td id=\"T_fb3e1_row21_col0\" class=\"data row21 col0\" >USI</td>\n",
       "      <td id=\"T_fb3e1_row21_col1\" class=\"data row21 col1\" >75d2</td>\n",
       "    </tr>\n",
       "    <tr>\n",
       "      <th id=\"T_fb3e1_level0_row22\" class=\"row_heading level0 row22\" >22</th>\n",
       "      <td id=\"T_fb3e1_row22_col0\" class=\"data row22 col0\" >Imputation Type</td>\n",
       "      <td id=\"T_fb3e1_row22_col1\" class=\"data row22 col1\" >simple</td>\n",
       "    </tr>\n",
       "    <tr>\n",
       "      <th id=\"T_fb3e1_level0_row23\" class=\"row_heading level0 row23\" >23</th>\n",
       "      <td id=\"T_fb3e1_row23_col0\" class=\"data row23 col0\" >Iterative Imputation Iteration</td>\n",
       "      <td id=\"T_fb3e1_row23_col1\" class=\"data row23 col1\" >None</td>\n",
       "    </tr>\n",
       "    <tr>\n",
       "      <th id=\"T_fb3e1_level0_row24\" class=\"row_heading level0 row24\" >24</th>\n",
       "      <td id=\"T_fb3e1_row24_col0\" class=\"data row24 col0\" >Numeric Imputer</td>\n",
       "      <td id=\"T_fb3e1_row24_col1\" class=\"data row24 col1\" >mean</td>\n",
       "    </tr>\n",
       "    <tr>\n",
       "      <th id=\"T_fb3e1_level0_row25\" class=\"row_heading level0 row25\" >25</th>\n",
       "      <td id=\"T_fb3e1_row25_col0\" class=\"data row25 col0\" >Iterative Imputation Numeric Model</td>\n",
       "      <td id=\"T_fb3e1_row25_col1\" class=\"data row25 col1\" >None</td>\n",
       "    </tr>\n",
       "    <tr>\n",
       "      <th id=\"T_fb3e1_level0_row26\" class=\"row_heading level0 row26\" >26</th>\n",
       "      <td id=\"T_fb3e1_row26_col0\" class=\"data row26 col0\" >Categorical Imputer</td>\n",
       "      <td id=\"T_fb3e1_row26_col1\" class=\"data row26 col1\" >constant</td>\n",
       "    </tr>\n",
       "    <tr>\n",
       "      <th id=\"T_fb3e1_level0_row27\" class=\"row_heading level0 row27\" >27</th>\n",
       "      <td id=\"T_fb3e1_row27_col0\" class=\"data row27 col0\" >Iterative Imputation Categorical Model</td>\n",
       "      <td id=\"T_fb3e1_row27_col1\" class=\"data row27 col1\" >None</td>\n",
       "    </tr>\n",
       "    <tr>\n",
       "      <th id=\"T_fb3e1_level0_row28\" class=\"row_heading level0 row28\" >28</th>\n",
       "      <td id=\"T_fb3e1_row28_col0\" class=\"data row28 col0\" >Unknown Categoricals Handling</td>\n",
       "      <td id=\"T_fb3e1_row28_col1\" class=\"data row28 col1\" >least_frequent</td>\n",
       "    </tr>\n",
       "    <tr>\n",
       "      <th id=\"T_fb3e1_level0_row29\" class=\"row_heading level0 row29\" >29</th>\n",
       "      <td id=\"T_fb3e1_row29_col0\" class=\"data row29 col0\" >Normalize</td>\n",
       "      <td id=\"T_fb3e1_row29_col1\" class=\"data row29 col1\" >False</td>\n",
       "    </tr>\n",
       "    <tr>\n",
       "      <th id=\"T_fb3e1_level0_row30\" class=\"row_heading level0 row30\" >30</th>\n",
       "      <td id=\"T_fb3e1_row30_col0\" class=\"data row30 col0\" >Normalize Method</td>\n",
       "      <td id=\"T_fb3e1_row30_col1\" class=\"data row30 col1\" >None</td>\n",
       "    </tr>\n",
       "    <tr>\n",
       "      <th id=\"T_fb3e1_level0_row31\" class=\"row_heading level0 row31\" >31</th>\n",
       "      <td id=\"T_fb3e1_row31_col0\" class=\"data row31 col0\" >Transformation</td>\n",
       "      <td id=\"T_fb3e1_row31_col1\" class=\"data row31 col1\" >False</td>\n",
       "    </tr>\n",
       "    <tr>\n",
       "      <th id=\"T_fb3e1_level0_row32\" class=\"row_heading level0 row32\" >32</th>\n",
       "      <td id=\"T_fb3e1_row32_col0\" class=\"data row32 col0\" >Transformation Method</td>\n",
       "      <td id=\"T_fb3e1_row32_col1\" class=\"data row32 col1\" >None</td>\n",
       "    </tr>\n",
       "    <tr>\n",
       "      <th id=\"T_fb3e1_level0_row33\" class=\"row_heading level0 row33\" >33</th>\n",
       "      <td id=\"T_fb3e1_row33_col0\" class=\"data row33 col0\" >PCA</td>\n",
       "      <td id=\"T_fb3e1_row33_col1\" class=\"data row33 col1\" >False</td>\n",
       "    </tr>\n",
       "    <tr>\n",
       "      <th id=\"T_fb3e1_level0_row34\" class=\"row_heading level0 row34\" >34</th>\n",
       "      <td id=\"T_fb3e1_row34_col0\" class=\"data row34 col0\" >PCA Method</td>\n",
       "      <td id=\"T_fb3e1_row34_col1\" class=\"data row34 col1\" >None</td>\n",
       "    </tr>\n",
       "    <tr>\n",
       "      <th id=\"T_fb3e1_level0_row35\" class=\"row_heading level0 row35\" >35</th>\n",
       "      <td id=\"T_fb3e1_row35_col0\" class=\"data row35 col0\" >PCA Components</td>\n",
       "      <td id=\"T_fb3e1_row35_col1\" class=\"data row35 col1\" >None</td>\n",
       "    </tr>\n",
       "    <tr>\n",
       "      <th id=\"T_fb3e1_level0_row36\" class=\"row_heading level0 row36\" >36</th>\n",
       "      <td id=\"T_fb3e1_row36_col0\" class=\"data row36 col0\" >Ignore Low Variance</td>\n",
       "      <td id=\"T_fb3e1_row36_col1\" class=\"data row36 col1\" >False</td>\n",
       "    </tr>\n",
       "    <tr>\n",
       "      <th id=\"T_fb3e1_level0_row37\" class=\"row_heading level0 row37\" >37</th>\n",
       "      <td id=\"T_fb3e1_row37_col0\" class=\"data row37 col0\" >Combine Rare Levels</td>\n",
       "      <td id=\"T_fb3e1_row37_col1\" class=\"data row37 col1\" >False</td>\n",
       "    </tr>\n",
       "    <tr>\n",
       "      <th id=\"T_fb3e1_level0_row38\" class=\"row_heading level0 row38\" >38</th>\n",
       "      <td id=\"T_fb3e1_row38_col0\" class=\"data row38 col0\" >Rare Level Threshold</td>\n",
       "      <td id=\"T_fb3e1_row38_col1\" class=\"data row38 col1\" >None</td>\n",
       "    </tr>\n",
       "    <tr>\n",
       "      <th id=\"T_fb3e1_level0_row39\" class=\"row_heading level0 row39\" >39</th>\n",
       "      <td id=\"T_fb3e1_row39_col0\" class=\"data row39 col0\" >Numeric Binning</td>\n",
       "      <td id=\"T_fb3e1_row39_col1\" class=\"data row39 col1\" >False</td>\n",
       "    </tr>\n",
       "    <tr>\n",
       "      <th id=\"T_fb3e1_level0_row40\" class=\"row_heading level0 row40\" >40</th>\n",
       "      <td id=\"T_fb3e1_row40_col0\" class=\"data row40 col0\" >Remove Outliers</td>\n",
       "      <td id=\"T_fb3e1_row40_col1\" class=\"data row40 col1\" >False</td>\n",
       "    </tr>\n",
       "    <tr>\n",
       "      <th id=\"T_fb3e1_level0_row41\" class=\"row_heading level0 row41\" >41</th>\n",
       "      <td id=\"T_fb3e1_row41_col0\" class=\"data row41 col0\" >Outliers Threshold</td>\n",
       "      <td id=\"T_fb3e1_row41_col1\" class=\"data row41 col1\" >None</td>\n",
       "    </tr>\n",
       "    <tr>\n",
       "      <th id=\"T_fb3e1_level0_row42\" class=\"row_heading level0 row42\" >42</th>\n",
       "      <td id=\"T_fb3e1_row42_col0\" class=\"data row42 col0\" >Remove Multicollinearity</td>\n",
       "      <td id=\"T_fb3e1_row42_col1\" class=\"data row42 col1\" >False</td>\n",
       "    </tr>\n",
       "    <tr>\n",
       "      <th id=\"T_fb3e1_level0_row43\" class=\"row_heading level0 row43\" >43</th>\n",
       "      <td id=\"T_fb3e1_row43_col0\" class=\"data row43 col0\" >Multicollinearity Threshold</td>\n",
       "      <td id=\"T_fb3e1_row43_col1\" class=\"data row43 col1\" >None</td>\n",
       "    </tr>\n",
       "    <tr>\n",
       "      <th id=\"T_fb3e1_level0_row44\" class=\"row_heading level0 row44\" >44</th>\n",
       "      <td id=\"T_fb3e1_row44_col0\" class=\"data row44 col0\" >Remove Perfect Collinearity</td>\n",
       "      <td id=\"T_fb3e1_row44_col1\" class=\"data row44 col1\" >True</td>\n",
       "    </tr>\n",
       "    <tr>\n",
       "      <th id=\"T_fb3e1_level0_row45\" class=\"row_heading level0 row45\" >45</th>\n",
       "      <td id=\"T_fb3e1_row45_col0\" class=\"data row45 col0\" >Clustering</td>\n",
       "      <td id=\"T_fb3e1_row45_col1\" class=\"data row45 col1\" >False</td>\n",
       "    </tr>\n",
       "    <tr>\n",
       "      <th id=\"T_fb3e1_level0_row46\" class=\"row_heading level0 row46\" >46</th>\n",
       "      <td id=\"T_fb3e1_row46_col0\" class=\"data row46 col0\" >Clustering Iteration</td>\n",
       "      <td id=\"T_fb3e1_row46_col1\" class=\"data row46 col1\" >None</td>\n",
       "    </tr>\n",
       "    <tr>\n",
       "      <th id=\"T_fb3e1_level0_row47\" class=\"row_heading level0 row47\" >47</th>\n",
       "      <td id=\"T_fb3e1_row47_col0\" class=\"data row47 col0\" >Polynomial Features</td>\n",
       "      <td id=\"T_fb3e1_row47_col1\" class=\"data row47 col1\" >False</td>\n",
       "    </tr>\n",
       "    <tr>\n",
       "      <th id=\"T_fb3e1_level0_row48\" class=\"row_heading level0 row48\" >48</th>\n",
       "      <td id=\"T_fb3e1_row48_col0\" class=\"data row48 col0\" >Polynomial Degree</td>\n",
       "      <td id=\"T_fb3e1_row48_col1\" class=\"data row48 col1\" >None</td>\n",
       "    </tr>\n",
       "    <tr>\n",
       "      <th id=\"T_fb3e1_level0_row49\" class=\"row_heading level0 row49\" >49</th>\n",
       "      <td id=\"T_fb3e1_row49_col0\" class=\"data row49 col0\" >Trignometry Features</td>\n",
       "      <td id=\"T_fb3e1_row49_col1\" class=\"data row49 col1\" >False</td>\n",
       "    </tr>\n",
       "    <tr>\n",
       "      <th id=\"T_fb3e1_level0_row50\" class=\"row_heading level0 row50\" >50</th>\n",
       "      <td id=\"T_fb3e1_row50_col0\" class=\"data row50 col0\" >Polynomial Threshold</td>\n",
       "      <td id=\"T_fb3e1_row50_col1\" class=\"data row50 col1\" >None</td>\n",
       "    </tr>\n",
       "    <tr>\n",
       "      <th id=\"T_fb3e1_level0_row51\" class=\"row_heading level0 row51\" >51</th>\n",
       "      <td id=\"T_fb3e1_row51_col0\" class=\"data row51 col0\" >Group Features</td>\n",
       "      <td id=\"T_fb3e1_row51_col1\" class=\"data row51 col1\" >False</td>\n",
       "    </tr>\n",
       "    <tr>\n",
       "      <th id=\"T_fb3e1_level0_row52\" class=\"row_heading level0 row52\" >52</th>\n",
       "      <td id=\"T_fb3e1_row52_col0\" class=\"data row52 col0\" >Feature Selection</td>\n",
       "      <td id=\"T_fb3e1_row52_col1\" class=\"data row52 col1\" >False</td>\n",
       "    </tr>\n",
       "    <tr>\n",
       "      <th id=\"T_fb3e1_level0_row53\" class=\"row_heading level0 row53\" >53</th>\n",
       "      <td id=\"T_fb3e1_row53_col0\" class=\"data row53 col0\" >Feature Selection Method</td>\n",
       "      <td id=\"T_fb3e1_row53_col1\" class=\"data row53 col1\" >classic</td>\n",
       "    </tr>\n",
       "    <tr>\n",
       "      <th id=\"T_fb3e1_level0_row54\" class=\"row_heading level0 row54\" >54</th>\n",
       "      <td id=\"T_fb3e1_row54_col0\" class=\"data row54 col0\" >Features Selection Threshold</td>\n",
       "      <td id=\"T_fb3e1_row54_col1\" class=\"data row54 col1\" >None</td>\n",
       "    </tr>\n",
       "    <tr>\n",
       "      <th id=\"T_fb3e1_level0_row55\" class=\"row_heading level0 row55\" >55</th>\n",
       "      <td id=\"T_fb3e1_row55_col0\" class=\"data row55 col0\" >Feature Interaction</td>\n",
       "      <td id=\"T_fb3e1_row55_col1\" class=\"data row55 col1\" >False</td>\n",
       "    </tr>\n",
       "    <tr>\n",
       "      <th id=\"T_fb3e1_level0_row56\" class=\"row_heading level0 row56\" >56</th>\n",
       "      <td id=\"T_fb3e1_row56_col0\" class=\"data row56 col0\" >Feature Ratio</td>\n",
       "      <td id=\"T_fb3e1_row56_col1\" class=\"data row56 col1\" >False</td>\n",
       "    </tr>\n",
       "    <tr>\n",
       "      <th id=\"T_fb3e1_level0_row57\" class=\"row_heading level0 row57\" >57</th>\n",
       "      <td id=\"T_fb3e1_row57_col0\" class=\"data row57 col0\" >Interaction Threshold</td>\n",
       "      <td id=\"T_fb3e1_row57_col1\" class=\"data row57 col1\" >None</td>\n",
       "    </tr>\n",
       "    <tr>\n",
       "      <th id=\"T_fb3e1_level0_row58\" class=\"row_heading level0 row58\" >58</th>\n",
       "      <td id=\"T_fb3e1_row58_col0\" class=\"data row58 col0\" >Fix Imbalance</td>\n",
       "      <td id=\"T_fb3e1_row58_col1\" class=\"data row58 col1\" >False</td>\n",
       "    </tr>\n",
       "    <tr>\n",
       "      <th id=\"T_fb3e1_level0_row59\" class=\"row_heading level0 row59\" >59</th>\n",
       "      <td id=\"T_fb3e1_row59_col0\" class=\"data row59 col0\" >Fix Imbalance Method</td>\n",
       "      <td id=\"T_fb3e1_row59_col1\" class=\"data row59 col1\" >SMOTE</td>\n",
       "    </tr>\n",
       "  </tbody>\n",
       "</table>\n"
      ],
      "text/plain": [
       "<pandas.io.formats.style.Styler at 0x7f8b790edee0>"
      ]
     },
     "metadata": {},
     "output_type": "display_data"
    }
   ],
   "source": [
    "#Inicializando o pré-processamento do Pycaret\n",
    "models = setup(data=df,\n",
    "             target='aderencia_campanha',\n",
    "             \n",
    "             session_id=33)"
   ]
  },
  {
   "cell_type": "code",
   "execution_count": 20,
   "id": "720bc172",
   "metadata": {},
   "outputs": [
    {
     "data": {
      "text/html": [
       "<style type=\"text/css\">\n",
       "#T_147cc th {\n",
       "  text-align: left;\n",
       "}\n",
       "#T_147cc_row0_col0, #T_147cc_row0_col2, #T_147cc_row0_col3, #T_147cc_row0_col4, #T_147cc_row0_col5, #T_147cc_row1_col0, #T_147cc_row1_col1, #T_147cc_row1_col3, #T_147cc_row1_col4, #T_147cc_row1_col5, #T_147cc_row1_col6, #T_147cc_row2_col0, #T_147cc_row2_col1, #T_147cc_row2_col2, #T_147cc_row2_col3, #T_147cc_row2_col4, #T_147cc_row2_col6, #T_147cc_row2_col7, #T_147cc_row3_col0, #T_147cc_row3_col1, #T_147cc_row3_col2, #T_147cc_row3_col3, #T_147cc_row3_col4, #T_147cc_row3_col5, #T_147cc_row3_col6, #T_147cc_row3_col7, #T_147cc_row4_col0, #T_147cc_row4_col1, #T_147cc_row4_col2, #T_147cc_row4_col3, #T_147cc_row4_col4, #T_147cc_row4_col5, #T_147cc_row4_col6, #T_147cc_row4_col7, #T_147cc_row5_col0, #T_147cc_row5_col1, #T_147cc_row5_col2, #T_147cc_row5_col3, #T_147cc_row5_col4, #T_147cc_row5_col5, #T_147cc_row5_col6, #T_147cc_row5_col7, #T_147cc_row6_col0, #T_147cc_row6_col1, #T_147cc_row6_col2, #T_147cc_row6_col3, #T_147cc_row6_col4, #T_147cc_row6_col5, #T_147cc_row6_col6, #T_147cc_row6_col7, #T_147cc_row7_col0, #T_147cc_row7_col1, #T_147cc_row7_col2, #T_147cc_row7_col3, #T_147cc_row7_col5, #T_147cc_row7_col6, #T_147cc_row7_col7, #T_147cc_row8_col0, #T_147cc_row8_col1, #T_147cc_row8_col2, #T_147cc_row8_col3, #T_147cc_row8_col5, #T_147cc_row8_col6, #T_147cc_row8_col7, #T_147cc_row9_col0, #T_147cc_row9_col1, #T_147cc_row9_col2, #T_147cc_row9_col3, #T_147cc_row9_col4, #T_147cc_row9_col5, #T_147cc_row9_col6, #T_147cc_row9_col7, #T_147cc_row10_col0, #T_147cc_row10_col1, #T_147cc_row10_col2, #T_147cc_row10_col3, #T_147cc_row10_col4, #T_147cc_row10_col5, #T_147cc_row10_col6, #T_147cc_row10_col7, #T_147cc_row11_col0, #T_147cc_row11_col1, #T_147cc_row11_col2, #T_147cc_row11_col3, #T_147cc_row11_col4, #T_147cc_row11_col5, #T_147cc_row11_col6, #T_147cc_row11_col7, #T_147cc_row12_col0, #T_147cc_row12_col1, #T_147cc_row12_col2, #T_147cc_row12_col4, #T_147cc_row12_col5, #T_147cc_row12_col6, #T_147cc_row12_col7, #T_147cc_row13_col0, #T_147cc_row13_col1, #T_147cc_row13_col2, #T_147cc_row13_col3, #T_147cc_row13_col4, #T_147cc_row13_col5, #T_147cc_row13_col6, #T_147cc_row13_col7 {\n",
       "  text-align: left;\n",
       "}\n",
       "#T_147cc_row0_col1, #T_147cc_row0_col6, #T_147cc_row0_col7, #T_147cc_row1_col2, #T_147cc_row1_col7, #T_147cc_row2_col5, #T_147cc_row7_col4, #T_147cc_row8_col4, #T_147cc_row12_col3 {\n",
       "  text-align: left;\n",
       "  background-color: yellow;\n",
       "}\n",
       "#T_147cc_row0_col8, #T_147cc_row1_col8, #T_147cc_row2_col8, #T_147cc_row3_col8, #T_147cc_row4_col8, #T_147cc_row5_col8, #T_147cc_row6_col8, #T_147cc_row8_col8, #T_147cc_row9_col8, #T_147cc_row10_col8, #T_147cc_row11_col8, #T_147cc_row12_col8, #T_147cc_row13_col8 {\n",
       "  text-align: left;\n",
       "  background-color: lightgrey;\n",
       "}\n",
       "#T_147cc_row7_col8 {\n",
       "  text-align: left;\n",
       "  background-color: yellow;\n",
       "  background-color: lightgrey;\n",
       "}\n",
       "</style>\n",
       "<table id=\"T_147cc\">\n",
       "  <thead>\n",
       "    <tr>\n",
       "      <th class=\"blank level0\" >&nbsp;</th>\n",
       "      <th id=\"T_147cc_level0_col0\" class=\"col_heading level0 col0\" >Model</th>\n",
       "      <th id=\"T_147cc_level0_col1\" class=\"col_heading level0 col1\" >Accuracy</th>\n",
       "      <th id=\"T_147cc_level0_col2\" class=\"col_heading level0 col2\" >AUC</th>\n",
       "      <th id=\"T_147cc_level0_col3\" class=\"col_heading level0 col3\" >Recall</th>\n",
       "      <th id=\"T_147cc_level0_col4\" class=\"col_heading level0 col4\" >Prec.</th>\n",
       "      <th id=\"T_147cc_level0_col5\" class=\"col_heading level0 col5\" >F1</th>\n",
       "      <th id=\"T_147cc_level0_col6\" class=\"col_heading level0 col6\" >Kappa</th>\n",
       "      <th id=\"T_147cc_level0_col7\" class=\"col_heading level0 col7\" >MCC</th>\n",
       "      <th id=\"T_147cc_level0_col8\" class=\"col_heading level0 col8\" >TT (Sec)</th>\n",
       "    </tr>\n",
       "  </thead>\n",
       "  <tbody>\n",
       "    <tr>\n",
       "      <th id=\"T_147cc_level0_row0\" class=\"row_heading level0 row0\" >xgboost</th>\n",
       "      <td id=\"T_147cc_row0_col0\" class=\"data row0 col0\" >Extreme Gradient Boosting</td>\n",
       "      <td id=\"T_147cc_row0_col1\" class=\"data row0 col1\" >0.9494</td>\n",
       "      <td id=\"T_147cc_row0_col2\" class=\"data row0 col2\" >0.9922</td>\n",
       "      <td id=\"T_147cc_row0_col3\" class=\"data row0 col3\" >0.9490</td>\n",
       "      <td id=\"T_147cc_row0_col4\" class=\"data row0 col4\" >0.9501</td>\n",
       "      <td id=\"T_147cc_row0_col5\" class=\"data row0 col5\" >0.9495</td>\n",
       "      <td id=\"T_147cc_row0_col6\" class=\"data row0 col6\" >0.8987</td>\n",
       "      <td id=\"T_147cc_row0_col7\" class=\"data row0 col7\" >0.8987</td>\n",
       "      <td id=\"T_147cc_row0_col8\" class=\"data row0 col8\" >55.4590</td>\n",
       "    </tr>\n",
       "    <tr>\n",
       "      <th id=\"T_147cc_level0_row1\" class=\"row_heading level0 row1\" >lightgbm</th>\n",
       "      <td id=\"T_147cc_row1_col0\" class=\"data row1 col0\" >Light Gradient Boosting Machine</td>\n",
       "      <td id=\"T_147cc_row1_col1\" class=\"data row1 col1\" >0.9493</td>\n",
       "      <td id=\"T_147cc_row1_col2\" class=\"data row1 col2\" >0.9924</td>\n",
       "      <td id=\"T_147cc_row1_col3\" class=\"data row1 col3\" >0.9497</td>\n",
       "      <td id=\"T_147cc_row1_col4\" class=\"data row1 col4\" >0.9494</td>\n",
       "      <td id=\"T_147cc_row1_col5\" class=\"data row1 col5\" >0.9495</td>\n",
       "      <td id=\"T_147cc_row1_col6\" class=\"data row1 col6\" >0.8986</td>\n",
       "      <td id=\"T_147cc_row1_col7\" class=\"data row1 col7\" >0.8987</td>\n",
       "      <td id=\"T_147cc_row1_col8\" class=\"data row1 col8\" >0.1940</td>\n",
       "    </tr>\n",
       "    <tr>\n",
       "      <th id=\"T_147cc_level0_row2\" class=\"row_heading level0 row2\" >rf</th>\n",
       "      <td id=\"T_147cc_row2_col0\" class=\"data row2 col0\" >Random Forest Classifier</td>\n",
       "      <td id=\"T_147cc_row2_col1\" class=\"data row2 col1\" >0.9492</td>\n",
       "      <td id=\"T_147cc_row2_col2\" class=\"data row2 col2\" >0.9920</td>\n",
       "      <td id=\"T_147cc_row2_col3\" class=\"data row2 col3\" >0.9536</td>\n",
       "      <td id=\"T_147cc_row2_col4\" class=\"data row2 col4\" >0.9458</td>\n",
       "      <td id=\"T_147cc_row2_col5\" class=\"data row2 col5\" >0.9497</td>\n",
       "      <td id=\"T_147cc_row2_col6\" class=\"data row2 col6\" >0.8985</td>\n",
       "      <td id=\"T_147cc_row2_col7\" class=\"data row2 col7\" >0.8985</td>\n",
       "      <td id=\"T_147cc_row2_col8\" class=\"data row2 col8\" >1.0010</td>\n",
       "    </tr>\n",
       "    <tr>\n",
       "      <th id=\"T_147cc_level0_row3\" class=\"row_heading level0 row3\" >et</th>\n",
       "      <td id=\"T_147cc_row3_col0\" class=\"data row3 col0\" >Extra Trees Classifier</td>\n",
       "      <td id=\"T_147cc_row3_col1\" class=\"data row3 col1\" >0.9421</td>\n",
       "      <td id=\"T_147cc_row3_col2\" class=\"data row3 col2\" >0.9886</td>\n",
       "      <td id=\"T_147cc_row3_col3\" class=\"data row3 col3\" >0.9334</td>\n",
       "      <td id=\"T_147cc_row3_col4\" class=\"data row3 col4\" >0.9505</td>\n",
       "      <td id=\"T_147cc_row3_col5\" class=\"data row3 col5\" >0.9418</td>\n",
       "      <td id=\"T_147cc_row3_col6\" class=\"data row3 col6\" >0.8842</td>\n",
       "      <td id=\"T_147cc_row3_col7\" class=\"data row3 col7\" >0.8844</td>\n",
       "      <td id=\"T_147cc_row3_col8\" class=\"data row3 col8\" >1.4510</td>\n",
       "    </tr>\n",
       "    <tr>\n",
       "      <th id=\"T_147cc_level0_row4\" class=\"row_heading level0 row4\" >ada</th>\n",
       "      <td id=\"T_147cc_row4_col0\" class=\"data row4 col0\" >Ada Boost Classifier</td>\n",
       "      <td id=\"T_147cc_row4_col1\" class=\"data row4 col1\" >0.9342</td>\n",
       "      <td id=\"T_147cc_row4_col2\" class=\"data row4 col2\" >0.9856</td>\n",
       "      <td id=\"T_147cc_row4_col3\" class=\"data row4 col3\" >0.9276</td>\n",
       "      <td id=\"T_147cc_row4_col4\" class=\"data row4 col4\" >0.9406</td>\n",
       "      <td id=\"T_147cc_row4_col5\" class=\"data row4 col5\" >0.9341</td>\n",
       "      <td id=\"T_147cc_row4_col6\" class=\"data row4 col6\" >0.8685</td>\n",
       "      <td id=\"T_147cc_row4_col7\" class=\"data row4 col7\" >0.8686</td>\n",
       "      <td id=\"T_147cc_row4_col8\" class=\"data row4 col8\" >0.4890</td>\n",
       "    </tr>\n",
       "    <tr>\n",
       "      <th id=\"T_147cc_level0_row5\" class=\"row_heading level0 row5\" >gbc</th>\n",
       "      <td id=\"T_147cc_row5_col0\" class=\"data row5 col0\" >Gradient Boosting Classifier</td>\n",
       "      <td id=\"T_147cc_row5_col1\" class=\"data row5 col1\" >0.9332</td>\n",
       "      <td id=\"T_147cc_row5_col2\" class=\"data row5 col2\" >0.9869</td>\n",
       "      <td id=\"T_147cc_row5_col3\" class=\"data row5 col3\" >0.9545</td>\n",
       "      <td id=\"T_147cc_row5_col4\" class=\"data row5 col4\" >0.9161</td>\n",
       "      <td id=\"T_147cc_row5_col5\" class=\"data row5 col5\" >0.9349</td>\n",
       "      <td id=\"T_147cc_row5_col6\" class=\"data row5 col6\" >0.8665</td>\n",
       "      <td id=\"T_147cc_row5_col7\" class=\"data row5 col7\" >0.8673</td>\n",
       "      <td id=\"T_147cc_row5_col8\" class=\"data row5 col8\" >1.7870</td>\n",
       "    </tr>\n",
       "    <tr>\n",
       "      <th id=\"T_147cc_level0_row6\" class=\"row_heading level0 row6\" >dt</th>\n",
       "      <td id=\"T_147cc_row6_col0\" class=\"data row6 col0\" >Decision Tree Classifier</td>\n",
       "      <td id=\"T_147cc_row6_col1\" class=\"data row6 col1\" >0.9328</td>\n",
       "      <td id=\"T_147cc_row6_col2\" class=\"data row6 col2\" >0.9327</td>\n",
       "      <td id=\"T_147cc_row6_col3\" class=\"data row6 col3\" >0.9393</td>\n",
       "      <td id=\"T_147cc_row6_col4\" class=\"data row6 col4\" >0.9277</td>\n",
       "      <td id=\"T_147cc_row6_col5\" class=\"data row6 col5\" >0.9335</td>\n",
       "      <td id=\"T_147cc_row6_col6\" class=\"data row6 col6\" >0.8655</td>\n",
       "      <td id=\"T_147cc_row6_col7\" class=\"data row6 col7\" >0.8656</td>\n",
       "      <td id=\"T_147cc_row6_col8\" class=\"data row6 col8\" >0.1020</td>\n",
       "    </tr>\n",
       "    <tr>\n",
       "      <th id=\"T_147cc_level0_row7\" class=\"row_heading level0 row7\" >ridge</th>\n",
       "      <td id=\"T_147cc_row7_col0\" class=\"data row7 col0\" >Ridge Classifier</td>\n",
       "      <td id=\"T_147cc_row7_col1\" class=\"data row7 col1\" >0.9275</td>\n",
       "      <td id=\"T_147cc_row7_col2\" class=\"data row7 col2\" >0.0000</td>\n",
       "      <td id=\"T_147cc_row7_col3\" class=\"data row7 col3\" >0.8867</td>\n",
       "      <td id=\"T_147cc_row7_col4\" class=\"data row7 col4\" >0.9660</td>\n",
       "      <td id=\"T_147cc_row7_col5\" class=\"data row7 col5\" >0.9247</td>\n",
       "      <td id=\"T_147cc_row7_col6\" class=\"data row7 col6\" >0.8550</td>\n",
       "      <td id=\"T_147cc_row7_col7\" class=\"data row7 col7\" >0.8579</td>\n",
       "      <td id=\"T_147cc_row7_col8\" class=\"data row7 col8\" >0.0420</td>\n",
       "    </tr>\n",
       "    <tr>\n",
       "      <th id=\"T_147cc_level0_row8\" class=\"row_heading level0 row8\" >lda</th>\n",
       "      <td id=\"T_147cc_row8_col0\" class=\"data row8 col0\" >Linear Discriminant Analysis</td>\n",
       "      <td id=\"T_147cc_row8_col1\" class=\"data row8 col1\" >0.9275</td>\n",
       "      <td id=\"T_147cc_row8_col2\" class=\"data row8 col2\" >0.9846</td>\n",
       "      <td id=\"T_147cc_row8_col3\" class=\"data row8 col3\" >0.8868</td>\n",
       "      <td id=\"T_147cc_row8_col4\" class=\"data row8 col4\" >0.9660</td>\n",
       "      <td id=\"T_147cc_row8_col5\" class=\"data row8 col5\" >0.9247</td>\n",
       "      <td id=\"T_147cc_row8_col6\" class=\"data row8 col6\" >0.8550</td>\n",
       "      <td id=\"T_147cc_row8_col7\" class=\"data row8 col7\" >0.8579</td>\n",
       "      <td id=\"T_147cc_row8_col8\" class=\"data row8 col8\" >0.3900</td>\n",
       "    </tr>\n",
       "    <tr>\n",
       "      <th id=\"T_147cc_level0_row9\" class=\"row_heading level0 row9\" >knn</th>\n",
       "      <td id=\"T_147cc_row9_col0\" class=\"data row9 col0\" >K Neighbors Classifier</td>\n",
       "      <td id=\"T_147cc_row9_col1\" class=\"data row9 col1\" >0.9032</td>\n",
       "      <td id=\"T_147cc_row9_col2\" class=\"data row9 col2\" >0.9550</td>\n",
       "      <td id=\"T_147cc_row9_col3\" class=\"data row9 col3\" >0.9739</td>\n",
       "      <td id=\"T_147cc_row9_col4\" class=\"data row9 col4\" >0.8538</td>\n",
       "      <td id=\"T_147cc_row9_col5\" class=\"data row9 col5\" >0.9099</td>\n",
       "      <td id=\"T_147cc_row9_col6\" class=\"data row9 col6\" >0.8062</td>\n",
       "      <td id=\"T_147cc_row9_col7\" class=\"data row9 col7\" >0.8144</td>\n",
       "      <td id=\"T_147cc_row9_col8\" class=\"data row9 col8\" >0.8630</td>\n",
       "    </tr>\n",
       "    <tr>\n",
       "      <th id=\"T_147cc_level0_row10\" class=\"row_heading level0 row10\" >svm</th>\n",
       "      <td id=\"T_147cc_row10_col0\" class=\"data row10 col0\" >SVM - Linear Kernel</td>\n",
       "      <td id=\"T_147cc_row10_col1\" class=\"data row10 col1\" >0.8379</td>\n",
       "      <td id=\"T_147cc_row10_col2\" class=\"data row10 col2\" >0.0000</td>\n",
       "      <td id=\"T_147cc_row10_col3\" class=\"data row10 col3\" >0.8743</td>\n",
       "      <td id=\"T_147cc_row10_col4\" class=\"data row10 col4\" >0.8437</td>\n",
       "      <td id=\"T_147cc_row10_col5\" class=\"data row10 col5\" >0.8429</td>\n",
       "      <td id=\"T_147cc_row10_col6\" class=\"data row10 col6\" >0.6756</td>\n",
       "      <td id=\"T_147cc_row10_col7\" class=\"data row10 col7\" >0.7038</td>\n",
       "      <td id=\"T_147cc_row10_col8\" class=\"data row10 col8\" >0.8710</td>\n",
       "    </tr>\n",
       "    <tr>\n",
       "      <th id=\"T_147cc_level0_row11\" class=\"row_heading level0 row11\" >nb</th>\n",
       "      <td id=\"T_147cc_row11_col0\" class=\"data row11 col0\" >Naive Bayes</td>\n",
       "      <td id=\"T_147cc_row11_col1\" class=\"data row11 col1\" >0.8371</td>\n",
       "      <td id=\"T_147cc_row11_col2\" class=\"data row11 col2\" >0.9170</td>\n",
       "      <td id=\"T_147cc_row11_col3\" class=\"data row11 col3\" >0.7452</td>\n",
       "      <td id=\"T_147cc_row11_col4\" class=\"data row11 col4\" >0.9146</td>\n",
       "      <td id=\"T_147cc_row11_col5\" class=\"data row11 col5\" >0.8212</td>\n",
       "      <td id=\"T_147cc_row11_col6\" class=\"data row11 col6\" >0.6745</td>\n",
       "      <td id=\"T_147cc_row11_col7\" class=\"data row11 col7\" >0.6864</td>\n",
       "      <td id=\"T_147cc_row11_col8\" class=\"data row11 col8\" >0.0450</td>\n",
       "    </tr>\n",
       "    <tr>\n",
       "      <th id=\"T_147cc_level0_row12\" class=\"row_heading level0 row12\" >qda</th>\n",
       "      <td id=\"T_147cc_row12_col0\" class=\"data row12 col0\" >Quadratic Discriminant Analysis</td>\n",
       "      <td id=\"T_147cc_row12_col1\" class=\"data row12 col1\" >0.5037</td>\n",
       "      <td id=\"T_147cc_row12_col2\" class=\"data row12 col2\" >0.5016</td>\n",
       "      <td id=\"T_147cc_row12_col3\" class=\"data row12 col3\" >0.9996</td>\n",
       "      <td id=\"T_147cc_row12_col4\" class=\"data row12 col4\" >0.5029</td>\n",
       "      <td id=\"T_147cc_row12_col5\" class=\"data row12 col5\" >0.6692</td>\n",
       "      <td id=\"T_147cc_row12_col6\" class=\"data row12 col6\" >0.0032</td>\n",
       "      <td id=\"T_147cc_row12_col7\" class=\"data row12 col7\" >0.0192</td>\n",
       "      <td id=\"T_147cc_row12_col8\" class=\"data row12 col8\" >0.3030</td>\n",
       "    </tr>\n",
       "    <tr>\n",
       "      <th id=\"T_147cc_level0_row13\" class=\"row_heading level0 row13\" >lr</th>\n",
       "      <td id=\"T_147cc_row13_col0\" class=\"data row13 col0\" >Logistic Regression</td>\n",
       "      <td id=\"T_147cc_row13_col1\" class=\"data row13 col1\" >0.0000</td>\n",
       "      <td id=\"T_147cc_row13_col2\" class=\"data row13 col2\" >0.0000</td>\n",
       "      <td id=\"T_147cc_row13_col3\" class=\"data row13 col3\" >0.0000</td>\n",
       "      <td id=\"T_147cc_row13_col4\" class=\"data row13 col4\" >0.0000</td>\n",
       "      <td id=\"T_147cc_row13_col5\" class=\"data row13 col5\" >0.0000</td>\n",
       "      <td id=\"T_147cc_row13_col6\" class=\"data row13 col6\" >0.0000</td>\n",
       "      <td id=\"T_147cc_row13_col7\" class=\"data row13 col7\" >0.0000</td>\n",
       "      <td id=\"T_147cc_row13_col8\" class=\"data row13 col8\" >2.4450</td>\n",
       "    </tr>\n",
       "  </tbody>\n",
       "</table>\n"
      ],
      "text/plain": [
       "<pandas.io.formats.style.Styler at 0x7f8bde12e7c0>"
      ]
     },
     "metadata": {},
     "output_type": "display_data"
    },
    {
     "data": {
      "text/plain": [
       "XGBClassifier(base_score=0.5, booster='gbtree', colsample_bylevel=1,\n",
       "              colsample_bynode=1, colsample_bytree=1, enable_categorical=False,\n",
       "              gamma=0, gpu_id=-1, importance_type=None,\n",
       "              interaction_constraints='', learning_rate=0.300000012,\n",
       "              max_delta_step=0, max_depth=6, min_child_weight=1, missing=nan,\n",
       "              monotone_constraints='()', n_estimators=100, n_jobs=-1,\n",
       "              num_parallel_tree=1, objective='binary:logistic',\n",
       "              predictor='auto', random_state=33, reg_alpha=0, reg_lambda=1,\n",
       "              scale_pos_weight=1, subsample=1, tree_method='auto',\n",
       "              use_label_encoder=True, validate_parameters=1, verbosity=0)"
      ]
     },
     "execution_count": 20,
     "metadata": {},
     "output_type": "execute_result"
    }
   ],
   "source": [
    "#Comparação dos modelos e seus desempenhos\n",
    "compare_models ()"
   ]
  },
  {
   "cell_type": "markdown",
   "id": "315a5065",
   "metadata": {},
   "source": [
    "Através do compare models é possível identificar qual modelo obtive os melhores resultados para cada métrica. E essa capacidade que o Pycaret tem acaba sendo muito importante, para conseguir fazer uma comparação de diferentes modelos e poupar tempo. "
   ]
  },
  {
   "cell_type": "markdown",
   "id": "f96461c5",
   "metadata": {},
   "source": [
    "E apesar de ter escolhido o Random Forest Classifier, segundo o Pycaret esse acaba não sendo o melhor modelo para o problema, ficando o Random Forest na terceira posição. Dessa forma, agora eu poderia construir de forma manual e obter um melhor entendimento do Extreme gradient boosting."
   ]
  },
  {
   "cell_type": "markdown",
   "id": "711a4f43",
   "metadata": {},
   "source": [
    "O motivo para o bom desempenho do XGBoost pode está relacionado ao algoritmo possuir um poder preditivo imensamente alto que o torna a melhor escolha para precisão em eventos, pois possui tanto o modelo linear quanto o algoritmo de aprendizado de árvores, tornando o algoritmo quase 10x mais rápido do que as técnicas existentes de ‘boosting’ de gradiente.\n",
    "\n",
    "O algoritmo é uma otima opção para quando as coisas não saem como queriamos na modelagem preditiva. Devido que é um algoritmo altamente sofisticado e poderoso o suficiente para lidar com todos os tipos de irregularidades de dados. O que acaba sendo um fator enfrentado no conjunto de dados do problema."
   ]
  },
  {
   "cell_type": "markdown",
   "id": "797c21b1",
   "metadata": {},
   "source": [
    "Vale ressaltar que o algoritmo XGBoost foi desenvolvido como um projeto de pesquisa na Universidade de Washington e desde a sua introdução, este algoritmo tem sido o mais vitorioso no Kaggle, além de está sendo utilizado em várias aplicações de ponta na indústria."
   ]
  },
  {
   "cell_type": "markdown",
   "id": "44ac81c2",
   "metadata": {},
   "source": [
    "### **Conclusão**"
   ]
  },
  {
   "cell_type": "markdown",
   "id": "6951a2e1",
   "metadata": {},
   "source": [
    "Para decidir qual o modelo utilizar as métricas acabam sendo muito valiosas para avaliar a qualidade de um modelo machine learning, neste caso especificamente de classificação, avaliar quanto o modelo consegue classificar bem, portanto é preciso que se busque realizar essa avaliação através de não apenas uma única métrica, mas sim também de outras e que seja possível de interpretar os seus resultados, para que as conclusões sobre o desempenho e qualidade do modelo sejam corretas.  Ademais, é sempre importante ter uma visão crítica e um bom entendimento sobre os resultados.\n",
    "\n",
    "Fazendo isso de forma manual e mais rápida com o objetivo de comparar os resultados, como o caso do Pycaret.\n",
    "\n",
    "\n",
    "Apesar do XGBOOST ser um algoritmo que vem se destacando, como cientista de dados, o profissional deve testar todos os algoritmos possíveis para os dados disponíveis e escolher o que melhor se aplica ao problema proposto.\n",
    "\n",
    "Vale lembrar que escolher o algoritmo certo não é suficiente. É preciso escolher a configuração correta do algoritmo para um determinado conjunto de dados, ajustando os hiper-parâmetros"
   ]
  },
  {
   "cell_type": "code",
   "execution_count": null,
   "id": "94c01dd6",
   "metadata": {},
   "outputs": [],
   "source": []
  }
 ],
 "metadata": {
  "kernelspec": {
   "display_name": "Python 3 (ipykernel)",
   "language": "python",
   "name": "python3"
  },
  "language_info": {
   "codemirror_mode": {
    "name": "ipython",
    "version": 3
   },
   "file_extension": ".py",
   "mimetype": "text/x-python",
   "name": "python",
   "nbconvert_exporter": "python",
   "pygments_lexer": "ipython3",
   "version": "3.9.5"
  }
 },
 "nbformat": 4,
 "nbformat_minor": 5
}
