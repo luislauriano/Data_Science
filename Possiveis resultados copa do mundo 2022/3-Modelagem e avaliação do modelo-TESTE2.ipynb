{
 "cells": [
  {
   "cell_type": "markdown",
   "id": "3c4370b0",
   "metadata": {},
   "source": [
    "# Prevendo possíveis resultados e seleção vencedora da copa do mundo de 2022 "
   ]
  },
  {
   "cell_type": "code",
   "execution_count": 1,
   "id": "c0ec3741",
   "metadata": {},
   "outputs": [],
   "source": [
    "from sklearn import linear_model\n",
    "from sklearn import ensemble\n",
    "from sklearn.model_selection import train_test_split\n",
    "from sklearn.metrics import confusion_matrix, roc_curve, roc_auc_score\n",
    "from sklearn.pipeline import Pipeline\n",
    "from sklearn.preprocessing import PolynomialFeatures\n",
    "import pandas as pd\n",
    "from matplotlib import pyplot as plt\n",
    "import numpy as np\n",
    "import statsmodels.formula.api as smf\n",
    "import statsmodels.api as sm\n",
    "import itertools\n",
    "import matplotlib.image as mpimg\n",
    "from scipy.stats import poisson\n",
    "import seaborn as sns"
   ]
  },
  {
   "cell_type": "code",
   "execution_count": 2,
   "id": "71946668",
   "metadata": {},
   "outputs": [],
   "source": [
    "from sklearn.metrics import accuracy_score, log_loss,confusion_matrix, roc_curve, roc_auc_score\n",
    "from sklearn.model_selection import train_test_split"
   ]
  },
  {
   "cell_type": "code",
   "execution_count": 3,
   "id": "687a9acf",
   "metadata": {},
   "outputs": [],
   "source": [
    "sns.set_style('whitegrid')\n",
    "pd.set_option('display.max_rows', 500)\n",
    "pd.set_option('display.max_columns', 500)"
   ]
  },
  {
   "cell_type": "markdown",
   "id": "3372db57",
   "metadata": {},
   "source": [
    "## **Configurações iniciais**"
   ]
  },
  {
   "cell_type": "markdown",
   "id": "d2ab917c",
   "metadata": {},
   "source": [
    "A primeira coisa a se fazer será importar as bases de dados conforme sofreram atualizações na etapa de análise exploratória dos dados."
   ]
  },
  {
   "cell_type": "code",
   "execution_count": 4,
   "id": "fa0ea38d",
   "metadata": {},
   "outputs": [],
   "source": [
    "df_partidas_internacionais = pd.read_csv('results_preProcessado.csv') "
   ]
  },
  {
   "cell_type": "code",
   "execution_count": 5,
   "id": "85605d63",
   "metadata": {},
   "outputs": [],
   "source": [
    "df_partidas_internacionais['date'] = df_partidas_internacionais['date'].astype('datetime64[ms]')"
   ]
  },
  {
   "cell_type": "markdown",
   "id": "188603c0",
   "metadata": {},
   "source": [
    "Algo importante e que deve ser feito é adicionar uma coluna de peso que é baseada na data do jogo, porque é óbvio que um jogo que aconteceu este ano diante de todas as partidas internacionais da base de dados tem mais peso do que o primeiro jogo da data mais antiga da base."
   ]
  },
  {
   "cell_type": "markdown",
   "id": "8ea96424",
   "metadata": {},
   "source": [
    "Então, note que agora eu irei construir uma nova variável que irá servir de peso, com base na data da partida, e irei definir um novo conjunto de dados com as **variáveis que serão utilizadas para o desenvolvimento do modelo** com base na análise multivariada realizada, além de utilizar home_score e away_score como uma única variável nomeada de gols, lembrando que essa é a variável principal, tendo em vista, que foi pensado o desenvolvimento do modelo de machine learning a partir da regressão de poisson."
   ]
  },
  {
   "cell_type": "code",
   "execution_count": 6,
   "id": "a69f3c72",
   "metadata": {},
   "outputs": [],
   "source": [
    "def peso_por_torneios(torneios):\n",
    "    if 'Cup' in torneios or 'Euro' in torneios:\n",
    "        return 1\n",
    "    else :\n",
    "        return 100\n",
    "\n",
    "# criação da variável peso\n",
    "df_partidas_internacionais.loc[:,'weight'] = df_partidas_internacionais['tournament'].apply(peso_por_torneios)\n",
    "df_partidas_internacionais.loc[:,'weight'] = 1 / ((2022 - df_partidas_internacionais['date'].dt.year.astype('int64'))*df_partidas_internacionais['weight'])\n",
    "\n",
    "# definindo novo conjunto de dados\n",
    "matches_model_data = pd.concat([df_partidas_internacionais[['home_team','away_team','home_score','weight', \n",
    "                                                           'score_diff', 'result', 'home_elo', 'away_elo', \n",
    "                                                            'rank_home', 'rank_away', 'total_points_home', \n",
    "             'rank_difference', 'point_difference', 'score_difference', 'is_won', 'elo_difference']].rename(\n",
    "            columns={'home_team':'team', 'away_team':'opponent','home_score':'goals', 'home_elo':'elo','away_elo':'elo opponent',\n",
    "                     'rank_home':'rank', 'rank_away':'rank opponent', 'total_points_home':'total points', 'total_points_away':'total points opponent'}),\n",
    "            \n",
    "            df_partidas_internacionais[['away_team','home_team','away_score','weight','score_diff', 'result', 'away_elo', 'home_elo', \n",
    "                                                            'rank_away', 'rank_home','total_points_away', \n",
    "             'rank_difference', 'point_difference', 'score_difference', 'is_won', 'elo_difference']].rename(\n",
    "            columns={'away_team':'team', 'home_team':'opponent','away_score':'goals', 'home_elo':'elo opponent', 'away_elo':'elo', \n",
    "                     'rank_home':'rank opponent','rank_away':'rank', 'total_points_home':'total points opponent', 'total_points_away':'total points'})])"
   ]
  },
  {
   "cell_type": "markdown",
   "id": "5dc09308",
   "metadata": {},
   "source": [
    "Um entendimento rápido de como a variável de gols das partidas está distribuída e de como o novo conjunto de dados está se comportando."
   ]
  },
  {
   "cell_type": "code",
   "execution_count": 7,
   "id": "e7f8546a",
   "metadata": {},
   "outputs": [
    {
     "name": "stderr",
     "output_type": "stream",
     "text": [
      "/home/luis/.local/lib/python3.9/site-packages/seaborn/distributions.py:2619: FutureWarning: `distplot` is a deprecated function and will be removed in a future version. Please adapt your code to use either `displot` (a figure-level function with similar flexibility) or `histplot` (an axes-level function for histograms).\n",
      "  warnings.warn(msg, FutureWarning)\n"
     ]
    },
    {
     "data": {
      "text/plain": [
       "<AxesSubplot:xlabel='goals', ylabel='Density'>"
      ]
     },
     "execution_count": 7,
     "metadata": {},
     "output_type": "execute_result"
    },
    {
     "data": {
      "image/png": "[encoded data removed]",
      "text/plain": [
       "<Figure size 432x288 with 1 Axes>"
      ]
     },
     "metadata": {},
     "output_type": "display_data"
    }
   ],
   "source": [
    "sns.distplot(matches_model_data['goals'])"
   ]
  },
  {
   "cell_type": "code",
   "execution_count": 8,
   "id": "a4b6cf02",
   "metadata": {},
   "outputs": [
    {
     "data": {
      "text/html": [
       "<div>\n",
       "<style scoped>\n",
       "    .dataframe tbody tr th:only-of-type {\n",
       "        vertical-align: middle;\n",
       "    }\n",
       "\n",
       "    .dataframe tbody tr th {\n",
       "        vertical-align: top;\n",
       "    }\n",
       "\n",
       "    .dataframe thead th {\n",
       "        text-align: right;\n",
       "    }\n",
       "</style>\n",
       "<table border=\"1\" class=\"dataframe\">\n",
       "  <thead>\n",
       "    <tr style=\"text-align: right;\">\n",
       "      <th></th>\n",
       "      <th>team</th>\n",
       "      <th>opponent</th>\n",
       "      <th>goals</th>\n",
       "      <th>weight</th>\n",
       "      <th>score_diff</th>\n",
       "      <th>result</th>\n",
       "      <th>elo</th>\n",
       "      <th>elo opponent</th>\n",
       "      <th>rank</th>\n",
       "      <th>rank opponent</th>\n",
       "      <th>total points</th>\n",
       "      <th>rank_difference</th>\n",
       "      <th>point_difference</th>\n",
       "      <th>score_difference</th>\n",
       "      <th>is_won</th>\n",
       "      <th>elo_difference</th>\n",
       "    </tr>\n",
       "  </thead>\n",
       "  <tbody>\n",
       "    <tr>\n",
       "      <th>0</th>\n",
       "      <td>Ghana</td>\n",
       "      <td>Mali</td>\n",
       "      <td>1</td>\n",
       "      <td>0.000345</td>\n",
       "      <td>0</td>\n",
       "      <td>0.5</td>\n",
       "      <td>1626.998734</td>\n",
       "      <td>1554.981214</td>\n",
       "      <td>39.0</td>\n",
       "      <td>69.0</td>\n",
       "      <td>34.00</td>\n",
       "      <td>-30.0</td>\n",
       "      <td>12.00</td>\n",
       "      <td>0</td>\n",
       "      <td>False</td>\n",
       "      <td>72.017520</td>\n",
       "    </tr>\n",
       "    <tr>\n",
       "      <th>1</th>\n",
       "      <td>Gabon</td>\n",
       "      <td>Burkina Faso</td>\n",
       "      <td>1</td>\n",
       "      <td>0.000345</td>\n",
       "      <td>0</td>\n",
       "      <td>0.5</td>\n",
       "      <td>1564.832114</td>\n",
       "      <td>1518.798809</td>\n",
       "      <td>55.0</td>\n",
       "      <td>97.0</td>\n",
       "      <td>27.00</td>\n",
       "      <td>-42.0</td>\n",
       "      <td>16.00</td>\n",
       "      <td>0</td>\n",
       "      <td>False</td>\n",
       "      <td>46.033304</td>\n",
       "    </tr>\n",
       "    <tr>\n",
       "      <th>2</th>\n",
       "      <td>Burkina Faso</td>\n",
       "      <td>Mali</td>\n",
       "      <td>1</td>\n",
       "      <td>0.000345</td>\n",
       "      <td>1</td>\n",
       "      <td>1.0</td>\n",
       "      <td>1535.355306</td>\n",
       "      <td>1538.424717</td>\n",
       "      <td>97.0</td>\n",
       "      <td>69.0</td>\n",
       "      <td>11.00</td>\n",
       "      <td>28.0</td>\n",
       "      <td>-11.00</td>\n",
       "      <td>1</td>\n",
       "      <td>True</td>\n",
       "      <td>-3.069411</td>\n",
       "    </tr>\n",
       "    <tr>\n",
       "      <th>3</th>\n",
       "      <td>Gabon</td>\n",
       "      <td>Ghana</td>\n",
       "      <td>2</td>\n",
       "      <td>0.000345</td>\n",
       "      <td>1</td>\n",
       "      <td>0.0</td>\n",
       "      <td>1552.487781</td>\n",
       "      <td>1639.343066</td>\n",
       "      <td>55.0</td>\n",
       "      <td>39.0</td>\n",
       "      <td>27.00</td>\n",
       "      <td>16.0</td>\n",
       "      <td>-7.00</td>\n",
       "      <td>-1</td>\n",
       "      <td>False</td>\n",
       "      <td>-86.855285</td>\n",
       "    </tr>\n",
       "    <tr>\n",
       "      <th>4</th>\n",
       "      <td>Uganda</td>\n",
       "      <td>Tanzania</td>\n",
       "      <td>3</td>\n",
       "      <td>0.000345</td>\n",
       "      <td>2</td>\n",
       "      <td>1.0</td>\n",
       "      <td>1545.703585</td>\n",
       "      <td>1406.960282</td>\n",
       "      <td>92.0</td>\n",
       "      <td>80.0</td>\n",
       "      <td>12.00</td>\n",
       "      <td>12.0</td>\n",
       "      <td>-3.00</td>\n",
       "      <td>2</td>\n",
       "      <td>True</td>\n",
       "      <td>138.743303</td>\n",
       "    </tr>\n",
       "    <tr>\n",
       "      <th>...</th>\n",
       "      <td>...</td>\n",
       "      <td>...</td>\n",
       "      <td>...</td>\n",
       "      <td>...</td>\n",
       "      <td>...</td>\n",
       "      <td>...</td>\n",
       "      <td>...</td>\n",
       "      <td>...</td>\n",
       "      <td>...</td>\n",
       "      <td>...</td>\n",
       "      <td>...</td>\n",
       "      <td>...</td>\n",
       "      <td>...</td>\n",
       "      <td>...</td>\n",
       "      <td>...</td>\n",
       "      <td>...</td>\n",
       "    </tr>\n",
       "    <tr>\n",
       "      <th>22272</th>\n",
       "      <td>El Salvador</td>\n",
       "      <td>Mexico</td>\n",
       "      <td>0</td>\n",
       "      <td>inf</td>\n",
       "      <td>2</td>\n",
       "      <td>1.0</td>\n",
       "      <td>1548.858160</td>\n",
       "      <td>1831.836800</td>\n",
       "      <td>70.0</td>\n",
       "      <td>12.0</td>\n",
       "      <td>1346.04</td>\n",
       "      <td>-58.0</td>\n",
       "      <td>301.86</td>\n",
       "      <td>2</td>\n",
       "      <td>True</td>\n",
       "      <td>282.978640</td>\n",
       "    </tr>\n",
       "    <tr>\n",
       "      <th>22273</th>\n",
       "      <td>United States</td>\n",
       "      <td>Costa Rica</td>\n",
       "      <td>0</td>\n",
       "      <td>inf</td>\n",
       "      <td>2</td>\n",
       "      <td>1.0</td>\n",
       "      <td>1838.671339</td>\n",
       "      <td>1714.827795</td>\n",
       "      <td>13.0</td>\n",
       "      <td>42.0</td>\n",
       "      <td>1643.34</td>\n",
       "      <td>29.0</td>\n",
       "      <td>-179.28</td>\n",
       "      <td>2</td>\n",
       "      <td>True</td>\n",
       "      <td>-123.843544</td>\n",
       "    </tr>\n",
       "    <tr>\n",
       "      <th>22274</th>\n",
       "      <td>Canada</td>\n",
       "      <td>Panama</td>\n",
       "      <td>0</td>\n",
       "      <td>inf</td>\n",
       "      <td>1</td>\n",
       "      <td>1.0</td>\n",
       "      <td>1749.532386</td>\n",
       "      <td>1655.240978</td>\n",
       "      <td>33.0</td>\n",
       "      <td>63.0</td>\n",
       "      <td>1497.82</td>\n",
       "      <td>30.0</td>\n",
       "      <td>-122.26</td>\n",
       "      <td>1</td>\n",
       "      <td>True</td>\n",
       "      <td>-94.291408</td>\n",
       "    </tr>\n",
       "    <tr>\n",
       "      <th>22275</th>\n",
       "      <td>Honduras</td>\n",
       "      <td>Jamaica</td>\n",
       "      <td>1</td>\n",
       "      <td>inf</td>\n",
       "      <td>1</td>\n",
       "      <td>1.0</td>\n",
       "      <td>1517.547787</td>\n",
       "      <td>1586.083536</td>\n",
       "      <td>78.0</td>\n",
       "      <td>62.0</td>\n",
       "      <td>1303.96</td>\n",
       "      <td>-16.0</td>\n",
       "      <td>74.66</td>\n",
       "      <td>1</td>\n",
       "      <td>True</td>\n",
       "      <td>68.535748</td>\n",
       "    </tr>\n",
       "    <tr>\n",
       "      <th>22276</th>\n",
       "      <td>New Zealand</td>\n",
       "      <td>Solomon Islands</td>\n",
       "      <td>5</td>\n",
       "      <td>inf</td>\n",
       "      <td>5</td>\n",
       "      <td>0.0</td>\n",
       "      <td>1631.963060</td>\n",
       "      <td>1505.965790</td>\n",
       "      <td>111.0</td>\n",
       "      <td>142.0</td>\n",
       "      <td>1161.66</td>\n",
       "      <td>31.0</td>\n",
       "      <td>-88.88</td>\n",
       "      <td>-5</td>\n",
       "      <td>False</td>\n",
       "      <td>-125.997271</td>\n",
       "    </tr>\n",
       "  </tbody>\n",
       "</table>\n",
       "<p>44554 rows × 16 columns</p>\n",
       "</div>"
      ],
      "text/plain": [
       "                team         opponent  goals    weight  score_diff  result  \\\n",
       "0              Ghana             Mali      1  0.000345           0     0.5   \n",
       "1              Gabon     Burkina Faso      1  0.000345           0     0.5   \n",
       "2       Burkina Faso             Mali      1  0.000345           1     1.0   \n",
       "3              Gabon            Ghana      2  0.000345           1     0.0   \n",
       "4             Uganda         Tanzania      3  0.000345           2     1.0   \n",
       "...              ...              ...    ...       ...         ...     ...   \n",
       "22272    El Salvador           Mexico      0       inf           2     1.0   \n",
       "22273  United States       Costa Rica      0       inf           2     1.0   \n",
       "22274         Canada           Panama      0       inf           1     1.0   \n",
       "22275       Honduras          Jamaica      1       inf           1     1.0   \n",
       "22276    New Zealand  Solomon Islands      5       inf           5     0.0   \n",
       "\n",
       "               elo  elo opponent   rank  rank opponent  total points  \\\n",
       "0      1626.998734   1554.981214   39.0           69.0         34.00   \n",
       "1      1564.832114   1518.798809   55.0           97.0         27.00   \n",
       "2      1535.355306   1538.424717   97.0           69.0         11.00   \n",
       "3      1552.487781   1639.343066   55.0           39.0         27.00   \n",
       "4      1545.703585   1406.960282   92.0           80.0         12.00   \n",
       "...            ...           ...    ...            ...           ...   \n",
       "22272  1548.858160   1831.836800   70.0           12.0       1346.04   \n",
       "22273  1838.671339   1714.827795   13.0           42.0       1643.34   \n",
       "22274  1749.532386   1655.240978   33.0           63.0       1497.82   \n",
       "22275  1517.547787   1586.083536   78.0           62.0       1303.96   \n",
       "22276  1631.963060   1505.965790  111.0          142.0       1161.66   \n",
       "\n",
       "       rank_difference  point_difference  score_difference  is_won  \\\n",
       "0                -30.0             12.00                 0   False   \n",
       "1                -42.0             16.00                 0   False   \n",
       "2                 28.0            -11.00                 1    True   \n",
       "3                 16.0             -7.00                -1   False   \n",
       "4                 12.0             -3.00                 2    True   \n",
       "...                ...               ...               ...     ...   \n",
       "22272            -58.0            301.86                 2    True   \n",
       "22273             29.0           -179.28                 2    True   \n",
       "22274             30.0           -122.26                 1    True   \n",
       "22275            -16.0             74.66                 1    True   \n",
       "22276             31.0            -88.88                -5   False   \n",
       "\n",
       "       elo_difference  \n",
       "0           72.017520  \n",
       "1           46.033304  \n",
       "2           -3.069411  \n",
       "3          -86.855285  \n",
       "4          138.743303  \n",
       "...               ...  \n",
       "22272      282.978640  \n",
       "22273     -123.843544  \n",
       "22274      -94.291408  \n",
       "22275       68.535748  \n",
       "22276     -125.997271  \n",
       "\n",
       "[44554 rows x 16 columns]"
      ]
     },
     "execution_count": 8,
     "metadata": {},
     "output_type": "execute_result"
    }
   ],
   "source": [
    "matches_model_data"
   ]
  },
  {
   "cell_type": "markdown",
   "id": "689c21c7",
   "metadata": {},
   "source": [
    "Note que alguns dados estão como \"inf\" e por isso irei realizar uma transformação desses dados."
   ]
  },
  {
   "cell_type": "code",
   "execution_count": 9,
   "id": "7fb1b8ae",
   "metadata": {},
   "outputs": [],
   "source": [
    "matches_model_data.replace([np.inf, -np.inf], np.nan, inplace=True)"
   ]
  },
  {
   "cell_type": "markdown",
   "id": "e8b7b746",
   "metadata": {},
   "source": [
    "Após finalizar essas configurações iniciais e definição dos dados que serão utilizados no modelo, pode-se começar de fato a construção do modelo de machine learning."
   ]
  },
  {
   "cell_type": "markdown",
   "id": "a5725618",
   "metadata": {},
   "source": [
    "## Modelo Linear Generalizado (GLM) - Regressão de poisson"
   ]
  },
  {
   "cell_type": "markdown",
   "id": "7f2496c5",
   "metadata": {},
   "source": [
    "O modelo será construído com base na regressão de Poisson, sendo uma forma de modelo linear generalizado por análise de regressão.  A decisão por essa utilização foi feita tendo em vista que cada equipe segue a distribuição de Poisson com base no número de gols por partidas, onde o time da casa marcou mais gols do que o time visitante. \n",
    "\n",
    "Dessa forma, o modelo será construído com base em prever a quantidade de gols na partida para se chegar no vencedor, quando estamos querendo prever a quantidade o modelo linear generalizado por regressão de poisson acaba sendo bem adequado para esse tipo de problema."
   ]
  },
  {
   "cell_type": "markdown",
   "id": "8cd7f981",
   "metadata": {},
   "source": [
    "### Modelo linear generalizado"
   ]
  },
  {
   "cell_type": "markdown",
   "id": "639eb074",
   "metadata": {},
   "source": [
    "Os modelos Lineares Generalizados (GLM) estimam modelos de regressão para resultados seguindo distribuições exponenciais. Além da distribuição gaussiana (ou seja, normal), elas incluem distribuições de Poisson, binomial e gama. Cada um serve a um propósito diferente e, dependendo da distribuição e da escolha da função do link, pode ser usado para previsão ou classificação."
   ]
  },
  {
   "cell_type": "markdown",
   "id": "f9553332",
   "metadata": {},
   "source": [
    "O importante de entender é que, através do modelo linear generalizado, você precisa escolher um tipo específico de regressão em que está interessado e o tipo de regressão dependerá do tipo de dados que você está tentando prever, neste caso a regressão de poisson acaba sendo a adequada."
   ]
  },
  {
   "cell_type": "markdown",
   "id": "abefbe12",
   "metadata": {},
   "source": [
    "### Regressão de poisson"
   ]
  },
  {
   "cell_type": "markdown",
   "id": "5dc85899",
   "metadata": {},
   "source": [
    "A regressão de Poisson é normalmente usada para conjuntos de dados em que a resposta representa contagens e os erros são considerados como tendo uma distribuição de Poisson. Em geral, pode ser aplicado a qualquer dado em que a resposta seja não negativa. Ele modela a dependência entre a resposta e as covariáveis. \n",
    "\n",
    "Para ficar claro, imagine que o tipo de regressão utilizada dependerá do tipo de dados que você está tentando prever, a regressão de Poisson é utilizada quando queremos prever um valor de contagem. Um exemplo seria \"Quantos cachorros vou ver no parque?\" ou em nosso problema \"Quantos gols o time X vai marcar?\" ou \"Quantos gols terão na partida?\""
   ]
  },
  {
   "cell_type": "markdown",
   "id": "6985508f",
   "metadata": {},
   "source": [
    "Através da análise exploratória dos dados foi possível notar que, em média, o time da casa marca mais gols do que o time visitante. Esta é a chamada 'vantagem em casa (campo)' (discutida aqui ) e não é específica do futebol . Este é um momento conveniente para introduzir a distribuição de Poisson. \n",
    "\n",
    "A distribuição de Poisson pode ser entendida como uma distribuição de probabilidade discreta que descreve a probabilidade do número de eventos dentro de um período de tempo específico (por exemplo, 90 minutos) com uma taxa média de ocorrência conhecida. \n",
    "\n",
    "Uma suposição chave é que o número de eventos é independente do tempo. No nosso problema, isso significa que os gols não se tornam mais/menos prováveis ​​pelo número de gols já marcados na partida. Em vez disso, o número de gols é expresso puramente em função de uma taxa média de gols. "
   ]
  },
  {
   "cell_type": "markdown",
   "id": "934981a8",
   "metadata": {},
   "source": [
    "━━━━━━━━━━━━━━━━"
   ]
  },
  {
   "cell_type": "markdown",
   "id": "a4f9c299",
   "metadata": {},
   "source": [
    "Com base nessa explicação, o que será feito é utilizar a biblioteca statsmodels para criar um modelo linear generalizado com base na regressão de Poisson. \n",
    "\n",
    "No ajuste do modelo, através do parâmetro family é preciso especificar a distribuição de probabilidade de uma família exponencial, neste caso Poisson, note também que através do parâmetro freq_weights é passado a variável de peso que foi criada anteriormente com base na data da partida e esse parâmetro ele tem justamento o objetivo de servir como uma matriz de pesos de frequência.\n",
    "\n",
    "A forma de ajustar o modelo é bem familiar como é feito na linguagem R, através das fórmulas. Então, os principais parâmetros que devem ser passados ao estanciar o modelo são **fórmula, dados e família**. \n",
    "\n",
    "A fórmula está no centro da função de modelagem, onde a resposta ou a saída é modelada em função das variáveis explicativas ou das entradas, cada variável explicativa é especificada e separada com um sinal de mais (+). Neste caso, temos a variável de saída sendo **gols da partida** modelada pelas variáveis explicativas **time e adversário**. "
   ]
  },
  {
   "cell_type": "code",
   "execution_count": 10,
   "id": "2b5336d0",
   "metadata": {},
   "outputs": [],
   "source": [
    "poisson_model = smf.glm(formula=\"goals ~ team + opponent\", data=matches_model_data, #data\n",
    "                        family=sm.families.Poisson(), freq_weights=matches_model_data['weight'].values).fit()"
   ]
  },
  {
   "cell_type": "markdown",
   "id": "d1b18e3c",
   "metadata": {},
   "source": [
    "Agora é hora de fazer uma função que possa retornar o resultado de um jogo, existem algumas informações que precisamos saber e serão utitizadas como parâmetro da função:\n",
    "\n",
    "* Se a **partida é uma eliminação ou não** (se True não podemos retornar um resultado de empate)\n",
    "* O **máximo de empate** que indicará quantos empates faremos para o jogo. Quanto maior for este número, o resultado será principalmente o resultado com maior probabilidade.\n",
    "* O **máximo de gols** no jogo"
   ]
  },
  {
   "cell_type": "markdown",
   "id": "ccbeb5e2",
   "metadata": {},
   "source": [
    "### Função para retornar as probabilidade de resultados do modelo"
   ]
  },
  {
   "cell_type": "markdown",
   "id": "3dee0919",
   "metadata": {},
   "source": [
    "Então, a primeira função será uma tupla de três arrays:\n",
    "\n",
    "* Um array com as probabilidades do time 1 ganhar, um jogo empatado e o time 2 ganhar.\n",
    "* Uma matriz com as probabilidades de pontuação para cada equipe\n",
    "* Uma matriz com todas as probabilidades de resultados possíveis"
   ]
  },
  {
   "cell_type": "markdown",
   "id": "e617f9b8",
   "metadata": {},
   "source": [
    "**Como é calculado a probabilidade/chances de resultado:** Nas duas primeiras linhas nós simplesmente passamos nossas equipes para o poisson_model e ele retornará o número médio esperado de gols para aquela equipe. A partir disso, pode-se realizar o cálculo  da probabilidade de vários eventos. "
   ]
  },
  {
   "cell_type": "markdown",
   "id": "8ecbd33e",
   "metadata": {},
   "source": [
    "Na variável **team pred** temos a matriz com a probabilidade de todas as pontuações possíveis para cada equipe."
   ]
  },
  {
   "cell_type": "markdown",
   "id": "786463ad",
   "metadata": {},
   "source": [
    "Na variável **match** temos uma matriz que mostra todas as probabilidade dos times marcarem um número específico de gols e logo após isso através dos resultados possíveis calculamos a porcentagem de chances de vitória, derrota e empate."
   ]
  },
  {
   "cell_type": "markdown",
   "id": "084b0cd1",
   "metadata": {},
   "source": [
    "Na variável **result_proba** temos o array com as probabilidades do time 1 ganhar, um jogo empatado e o time 2 ganhar, cálculo realizado com base na variável match."
   ]
  },
  {
   "cell_type": "code",
   "execution_count": 11,
   "id": "fba067e1",
   "metadata": {},
   "outputs": [],
   "source": [
    "def get_proba_match(foot_model, team1, team2, max_goals=10):\n",
    "    # Obtenha a meta média para cada equipe\n",
    "    t1_goals_avg = foot_model.predict(pd.DataFrame(data={'team': team1, 'opponent': team2}, index=[1])).values[0]\n",
    "    t2_goals_avg = foot_model.predict(pd.DataFrame(data={'team': team2, 'opponent': team1}, index=[1])).values[0]\n",
    "    \n",
    "    # Obtenha a probabilidade de todas as pontuações possíveis para cada equipe\n",
    "    team_pred = [[poisson.pmf(i, team_avg) for i in range(0, max_goals+1)] for team_avg in [t1_goals_avg, t2_goals_avg]]\n",
    "    \n",
    "    #todas as probabilidades de resultados possiveis\n",
    "    match = np.outer(np.array(team_pred[0]), np.array(team_pred[1]))\n",
    "    \n",
    "    # Obtenha a probabilidade para cada resultado possível\n",
    "    t1_wins = np.sum(np.tril(match, -1))\n",
    "    draw = np.sum(np.diag(match))\n",
    "    t2_wins = np.sum(np.triu(match, 1))\n",
    "    result_proba = [t1_wins, draw, t2_wins]\n",
    "    \n",
    "    # Ajuste o prob para somar um\n",
    "    result_proba =  np.array(result_proba)/ np.array(result_proba).sum(axis=0,keepdims=1)\n",
    "    team_pred[0] = np.array(team_pred[0])/np.array(team_pred[0]).sum(axis=0,keepdims=1)\n",
    "    team_pred[1] = np.array(team_pred[1])/np.array(team_pred[1]).sum(axis=0,keepdims=1)\n",
    "    return result_proba, [np.array(team_pred[0]), np.array(team_pred[1])], match"
   ]
  },
  {
   "cell_type": "markdown",
   "id": "7899183a",
   "metadata": {},
   "source": [
    "### Função para retornar o resultado final do jogo com base nas probabilidades de resultados"
   ]
  },
  {
   "cell_type": "markdown",
   "id": "3f9988bf",
   "metadata": {},
   "source": [
    "Agora posso fazer a função que nos dará o resultado final do jogo. A função retornará primeiro o resultado do vencedor ou empate, depois o perdedor (será 'empate' se for um resultado de empate), a pontuação de cada equipe e no final a porcentagem das chances de vítoria, derrota e empate somando todas as probabilidades de resultados possiveis."
   ]
  },
  {
   "cell_type": "markdown",
   "id": "0c374c5a",
   "metadata": {},
   "source": [
    "O que é feito na função para obter o resultado final é escolher o resultado mais provável com o método choice do python, diante da probabilidade de cada resultado possível (vitória, empate e derrota) que foi calculado na primeira função, com base em todas as probabilidades de resultados possíveis. Por esse motivo, o resultado pode acabar sendo diferente se testado outra vez. \n",
    "\n",
    "Para ficar mais claro, podemos imaginar a cena do doutor estranho no filme guerra infinita onde ele encontra um único resultado positivo para eles vencerem a guerra diante de todos os resultados possiveis finais que a guerra contra thanos poderia ter. "
   ]
  },
  {
   "cell_type": "code",
   "execution_count": 12,
   "id": "d2ced7b5",
   "metadata": {},
   "outputs": [],
   "source": [
    "def get_match_result(foot_model, team1, team2, elimination=False, max_draw=50, max_goals=10):\n",
    "    # Obter a probabilidade\n",
    "    proba,score_proba, match = get_proba_match(foot_model, team1, team2, max_goals)\n",
    "    \n",
    "    # Obter o resultado, se for um jogo de eliminação temos que ter certeza de que o resultado não é empate\n",
    "    results = pd.Series([np.random.choice([team1, 'draw', team2], p=proba) for i in range(0,max_draw)]).value_counts()\n",
    "    result = results.index[0] if not elimination or (elimination and results.index[0] != 'draw') else results.index[1]\n",
    "    \n",
    "    # Se o resultado não for um jogo empatado, calculamos a pontuação do vencedor de 1 até o max_goals\n",
    "    # e a pontuação do perdedor de 0 à pontuação do vencedor\n",
    "    if (result != 'draw'): \n",
    "        i_win, i_loose = (0,1) if result == team1 else (1,0)\n",
    "        score_proba[i_win] = score_proba[i_win][1:]/score_proba[i_win][1:].sum(axis=0,keepdims=1)\n",
    "        winner_score = pd.Series([np.random.choice(range(1, max_goals+1), p=score_proba[i_win]) for i in range(0,max_draw)]).value_counts().index[0]\n",
    "        \n",
    "        score_proba[i_loose] = score_proba[i_loose][:winner_score]/score_proba[i_loose][:winner_score].sum(axis=0,keepdims=1)\n",
    "        looser_score = pd.Series([np.random.choice(range(0, winner_score), p=score_proba[i_loose]) for i in range(0,max_draw)]).value_counts().index[0]\n",
    "        \n",
    "        \n",
    "        score = [winner_score, looser_score]\n",
    "        \n",
    "      \n",
    "    # Se for um empate, calculamos uma pontuação e repetimos duas vezes\n",
    "    else:\n",
    "        score = np.repeat(pd.Series([np.random.choice(range(0, max_goals+1), p=score_proba[0]) for i in range(0,max_draw)]).value_counts().index[0],2)\n",
    "    looser = team2 if result == team1 else team1 if result != 'draw' else 'draw'\n",
    "    \n",
    "    \n",
    "    t1_wins = round(np.sum(np.tril(match, -1)),2)\n",
    "    draw = round(np.sum(np.diag(match)),2)\n",
    "    t2_wins = round(np.sum(np.triu(match, 1)),2)\n",
    "        \n",
    "    porcent = (f'Chances de vitória {team1}: {t1_wins}%, chances de empate: {draw}%, chances de vitória {team2}: {t2_wins}%')\n",
    "        \n",
    "    \n",
    "    return result, looser, score, porcent"
   ]
  },
  {
   "cell_type": "markdown",
   "id": "5d9e2a6d",
   "metadata": {},
   "source": [
    "Agora vamos tentar simular uma partida, veja que no primeiro teste irei selecionar a seleção do Brasil e Qatar apenas, no segundo teste irei determinar um número máximo de gols possíveis como parâmetro e no terceiro teste irei passar também como parâmetro que trata-se de uma partida de eliminação, dessa forma o resultado não poderá ser um empate."
   ]
  },
  {
   "cell_type": "code",
   "execution_count": 13,
   "id": "82b0c3dd",
   "metadata": {},
   "outputs": [
    {
     "name": "stdout",
     "output_type": "stream",
     "text": [
      "('Brazil', 'Argentina', [1, 0], 'Chances de vitória Argentina: 0.21%, chances de empate: 0.3%, chances de vitória Brazil: 0.49%')\n"
     ]
    }
   ],
   "source": [
    "print(get_match_result(poisson_model, 'Argentina', 'Brazil', max_goals=10))"
   ]
  },
  {
   "cell_type": "code",
   "execution_count": 14,
   "id": "fb771550",
   "metadata": {},
   "outputs": [
    {
     "name": "stdout",
     "output_type": "stream",
     "text": [
      "('Germany', 'France', [1, 0], 'Chances de vitória France: 0.34%, chances de empate: 0.26%, chances de vitória Germany: 0.39%')\n"
     ]
    }
   ],
   "source": [
    "print(get_match_result(poisson_model, 'France', 'Germany', max_goals=10))"
   ]
  },
  {
   "cell_type": "code",
   "execution_count": 15,
   "id": "a9ef0611",
   "metadata": {},
   "outputs": [
    {
     "name": "stdout",
     "output_type": "stream",
     "text": [
      "('Brazil', 'Qatar', [2, 0], 'Chances de vitória Qatar: 0.04%, chances de empate: 0.11%, chances de vitória Brazil: 0.85%')\n"
     ]
    }
   ],
   "source": [
    "print(get_match_result(poisson_model, 'Qatar', 'Brazil', max_goals=10))"
   ]
  },
  {
   "cell_type": "code",
   "execution_count": 16,
   "id": "8a708309",
   "metadata": {},
   "outputs": [
    {
     "name": "stdout",
     "output_type": "stream",
     "text": [
      "('Brazil', 'Qatar', [2, 0], 'Chances de vitória Qatar: 0.04%, chances de empate: 0.11%, chances de vitória Brazil: 0.85%')\n"
     ]
    }
   ],
   "source": [
    "print(get_match_result(poisson_model, 'Qatar', 'Brazil',  max_goals=10))"
   ]
  },
  {
   "cell_type": "markdown",
   "id": "606f1b3b",
   "metadata": {},
   "source": [
    "O resultado de gols de uma partida pode acabar se repetindo em muitos casos o placar de 1x0, talvez por o modelo não ter uma precisão para quantificar tão bem saldos maiores, mas o interessante é entender e levar em consideração quem o modelo está prevendo como possível vencedor da partida"
   ]
  },
  {
   "cell_type": "markdown",
   "id": "7daac73b",
   "metadata": {},
   "source": [
    "## Avaliando desempenho do modelo"
   ]
  },
  {
   "cell_type": "markdown",
   "id": "b58d5af5",
   "metadata": {},
   "source": [
    "Essa parte ainda está pendente, tendo em vista que não encontrei uma maneira correta e forma ideal de avaliar um modelo linear generalizado por regressão de poisson. Mas, em breve espero atualizar o projeto com essa etapa realizada."
   ]
  },
  {
   "cell_type": "markdown",
   "id": "7c022959",
   "metadata": {},
   "source": [
    "Essa forma como irei avaliar talvez não seja a melhor e nem mesmo adequada forma de avaliar um modelo linear generalizado por regressão de poisson, mas foi uma forma que encontrei para ter uma ideia do desempenho do modelo. Primeiramente, irei construir três funções para avaliar o modelo a partir de diferentes métricas de uma forma mais rápida."
   ]
  },
  {
   "cell_type": "code",
   "execution_count": 17,
   "id": "28b6f0c5",
   "metadata": {},
   "outputs": [],
   "source": [
    "from sklearn import metrics"
   ]
  },
  {
   "cell_type": "code",
   "execution_count": 18,
   "id": "3766b1ff",
   "metadata": {},
   "outputs": [],
   "source": [
    "def percentage_error(actual, predicted):\n",
    "    res = np.empty(actual.shape)\n",
    "    for j in range(actual.shape[0]):\n",
    "        if actual[j] != 0:\n",
    "            res[j] = (actual[j] - predicted[j]) / actual[j]\n",
    "        else:\n",
    "            res[j] = predicted[j] / np.mean(actual)\n",
    "    return res\n",
    "\n",
    "def MAPE(y_true, y_pred): \n",
    "    return np.mean(np.abs(percentage_error(np.asarray(y_true), np.asarray(y_pred)))) * 100"
   ]
  },
  {
   "cell_type": "code",
   "execution_count": 19,
   "id": "30c6973d",
   "metadata": {},
   "outputs": [],
   "source": [
    "def print_evaluate(true, predicted):  \n",
    "    mae = metrics.mean_absolute_error(true, predicted)\n",
    "    mse = metrics.mean_squared_error(true, predicted)\n",
    "    rmse = np.sqrt(metrics.mean_squared_error(true, predicted))\n",
    "    r2_square = metrics.r2_score(true, predicted)\n",
    "    mape = MAPE(true, predicted)\n",
    "    print('MAE:', mae)\n",
    "    print('MSE:', mse)\n",
    "    print('RMSE:', rmse)\n",
    "    print('R2 Square', r2_square)\n",
    "    print('MAPE', mape)\n",
    "    print('__________________________________')"
   ]
  },
  {
   "cell_type": "markdown",
   "id": "3b312743",
   "metadata": {},
   "source": [
    "Com as funções das métricas definidas, o próximo passo é dividir o conjunto de dados em treino, teste e consequetemente realizar a previsão do modelo para esses dados.  "
   ]
  },
  {
   "cell_type": "code",
   "execution_count": 20,
   "id": "59f61238",
   "metadata": {},
   "outputs": [],
   "source": [
    "X = matches_model_data.drop(columns=['goals']).replace(np.nan, -9999)\n",
    "y = matches_model_data['goals']\n",
    "\n",
    "X_train, X_test, y_train, y_test = train_test_split(X, y, test_size=0.30, random_state=42)"
   ]
  },
  {
   "cell_type": "code",
   "execution_count": 21,
   "id": "25c546ee",
   "metadata": {},
   "outputs": [],
   "source": [
    "test_pred = poisson_model.predict(X_test)\n",
    "train_pred = poisson_model.predict(X_train)"
   ]
  },
  {
   "cell_type": "markdown",
   "id": "fc77fa77",
   "metadata": {},
   "source": [
    "Agora que tenho a função para avaliar o modelo para diferentes métricas e as previsões do modelo para os dados de treino e teste, posso verificar como o modelo está desempenhando, lembrando que essa talvez não seja a melhor e nem mesmo adequada forma de avaliar um modelo linear generalizado por regressão de poisson, mas foi uma forma que encontrei para ter uma ideia do desempenho do modelo. \n",
    "\n",
    "Na regressão, busca-se prever um valor numérico e existem algumas métricas importantes para avaliar um modelo de regressão, com base nas funções que foram construídas anteriormente pode-se entender como o modelo está desempenhando a partir dessas métricas, veja:"
   ]
  },
  {
   "cell_type": "markdown",
   "id": "724d0881",
   "metadata": {},
   "source": [
    "Definições das métricas com base na [explicação do Mario Filho, grande profissional da área de machine learning](https://www.mariofilho.com/as-metricas-mais-populares-para-avaliar-modelos-de-machine-learning/)\n",
    "\n",
    "* **Mean Squared Error - MSE**: Talvez seja a mais utilizada, esta função calcula a média dos erros do modelo ao quadrado. Ou seja, diferenças menores têm menos importância, enquanto diferenças maiores recebem mais peso.\n",
    "\n",
    "\n",
    "* **Mean Absolute Error - MAE**: Bastante parecido com MSE, em vez de elevar a diferença entre a previsão do modelo, e o valor real, ao quadrado, ele toma o valor absoluto. Neste caso, em vez de atribuir um peso de acordo com a magnitude da diferença, ele atribui o mesmo peso a todas as diferenças, de maneira linear.                                                                                                                                    Se imaginarmos um exemplo simples, onde temos apenas a variável que estamos tentando prever, podemos ver um fato interessante que difere o MSE do MAE, e que devemos levar em conta ao decidir entre os dois: o valor que minimizaria o primeiro erro seria a média, já no segundo caso, a mediana.\n",
    "\n",
    "\n",
    "* **Mean Absolute Percentage Error - MAPE**: Este erro calcula a média percentual do desvio absoluto entre as previsões e a realidade. É utilizado para avaliar sistemas de previsões de vendas e outros sistemas nos quais a diferença percentual seja mais interpretável, ou mais importante, do que os valores absolutos.\n",
    "\n"
   ]
  },
  {
   "cell_type": "markdown",
   "id": "fa3bca65",
   "metadata": {},
   "source": [
    "Por outro lado, outras duas métricas que também podem acabar sendo útil dependendo do problema são o RMSE e R2. \n",
    "\n",
    "* **Root Mean Squared Error (RMSE)**: É a raiz quadrada da média dos erros ao quadrado. É ainda mais popular que o MSE, porque o RMSE é interpretável nas unidades \"y\".\n",
    "\n",
    "\n",
    "* **R2 Square**: Essa métrica é utilizada para avaliar o desempenho de um modelo de regressão linear. É a quantidade de variação no atributo dependente de saída que é previsível a partir das variáveis independentes de entrada. Ele é usado para verificar como os resultados bem observados são reproduzidos pelo modelo, dependendo da razão do desvio total dos resultados descritos pelo modelo"
   ]
  },
  {
   "cell_type": "code",
   "execution_count": 22,
   "id": "3239f194",
   "metadata": {},
   "outputs": [
    {
     "name": "stdout",
     "output_type": "stream",
     "text": [
      "Avaliação dados de teste:\n",
      "_____________________________________\n",
      "MAE: 0.9332857131809787\n",
      "MSE: 1.5657321941496194\n",
      "RMSE: 1.2512922097374455\n",
      "R2 Square 0.27947824720448766\n",
      "MAPE 53.64469751591112\n",
      "__________________________________\n",
      "Avaliação dados de treino:\n",
      "_____________________________________\n",
      "MAE: 0.9311273208629969\n",
      "MSE: 1.5761615536743296\n",
      "RMSE: 1.2554527285701877\n",
      "R2 Square 0.2627624068525306\n",
      "MAPE 53.85889425303716\n",
      "__________________________________\n"
     ]
    }
   ],
   "source": [
    "print('Avaliação dados de teste:\\n_____________________________________')\n",
    "print_evaluate(y_test, test_pred)\n",
    "\n",
    "print('Avaliação dados de treino:\\n_____________________________________')\n",
    "print_evaluate(y_train, train_pred)"
   ]
  },
  {
   "cell_type": "markdown",
   "id": "fc85be46",
   "metadata": {},
   "source": [
    "MAPE é comumente usado porque é fácil de interpretar. Por exemplo, um valor MAPE de 14% significa que a diferença média entre o valor previsto e o valor real é de 14%. Nesse caso temos um MAPE de 53%, o que para uma partida de futebol considero aceitável e que pode ser melhorado no futuro com atualização do projeto a partir de novas partidas da FIFA.\n",
    "\n",
    "R2 indica a proporção de pontos de dados que se encontram dentro da linha criada pela equação de regressão. Ou seja, um valor mais alto de R2 seria desejável, pois indica melhores resultados.\n",
    "\n",
    "O resultado do RMSE será sempre maior ou igual ao MAE. Se todos os erros tiverem a mesma magnitude, então RMSE=MAE. O RMSE tem o benefício de penalizar mais erros grandes, então pode ser mais apropriado em alguns casos.\n",
    "\n",
    "\n",
    "**Neste caso, para esse projeto pode-se utilizar a métrica MAPE para está avaliando e tendo uma ideia do desempenho do modelo.**"
   ]
  },
  {
   "cell_type": "markdown",
   "id": "79fd0438",
   "metadata": {},
   "source": [
    "## Simulação dos jogos"
   ]
  },
  {
   "cell_type": "markdown",
   "id": "82d5657d",
   "metadata": {},
   "source": [
    "É hora de fazer a competição! Primeiro vamos criar os grupos seguindo os grupos da copa e que já vimos anteriormente:"
   ]
  },
  {
   "cell_type": "code",
   "execution_count": 23,
   "id": "73fcd5cb",
   "metadata": {},
   "outputs": [],
   "source": [
    "groupA = ['Qatar', 'Senegal', 'Netherlands', 'Ecuador']\n",
    "groupB = ['England', 'Iran','United States', 'Wales']\n",
    "groupC = ['Argentina', 'Saudi Arabia', 'Mexico', 'Poland']\n",
    "groupD = ['France', 'Australia', 'Denmark', 'Tunisia']\n",
    "groupE = ['Spain', 'Costa Rica','Germany', 'Japan']\n",
    "groupF = ['Belgium', 'Canada', 'Morocco', 'Croatia']\n",
    "groupG = ['Brazil', 'Serbia', 'Switzerland', 'Cameroon']\n",
    "groupH = ['Portugal', 'Ghana','Uruguay', 'Korea Republic']\n",
    "groups = [groupA, groupB, groupC, groupD, groupE, groupF, groupG, groupH]"
   ]
  },
  {
   "cell_type": "markdown",
   "id": "5fc93a2d",
   "metadata": {},
   "source": [
    "Agora eu crio 2 funções: Uma para os resultados da fase de grupos e outra para os resultados da fase de mata-mata."
   ]
  },
  {
   "cell_type": "code",
   "execution_count": 24,
   "id": "14ac8c84",
   "metadata": {},
   "outputs": [],
   "source": [
    "def get_group_result(foot_model, group):\n",
    "    ranking = pd.DataFrame({'points':[0,0,0,0], 'diff':[0,0,0,0], 'goals':[0,0,0,0]}, index=group)\n",
    "    for team1, team2 in itertools.combinations(group, 2):\n",
    "        result, looser, score, porcent = get_match_result(foot_model, team1, team2)\n",
    "        if result == 'draw':\n",
    "            ranking.loc[[team1, team2], 'points'] += 1\n",
    "            ranking.loc[[team1, team2], 'goals'] += score[0]\n",
    "        else:\n",
    "            ranking.loc[result, 'points'] += 3\n",
    "            ranking.loc[result, 'goals'] += score[0]\n",
    "            ranking.loc[looser, 'goals'] += score[1]\n",
    "            ranking.loc[result, 'diff'] += score[0]-score[1]\n",
    "            ranking.loc[looser, 'diff'] -= score[0]-score[1]\n",
    "            \n",
    "    return ranking.sort_values(by=['points','diff','goals'], ascending=False)"
   ]
  },
  {
   "cell_type": "code",
   "execution_count": 25,
   "id": "11908407",
   "metadata": {},
   "outputs": [],
   "source": [
    "def get_final_result(foot_model, groups_result):\n",
    "    round_of_16 = []\n",
    "    quarter_finals = []\n",
    "    semi_finals = []\n",
    "    \n",
    "    #Simulando rodada 16\n",
    "    for i in range(0, 8, 2):\n",
    "        round_of_16.append(get_match_result(foot_model, groups_result[i].index[0], groups_result[i+1].index[1], elimination=True))\n",
    "        round_of_16.append(get_match_result(foot_model, groups_result[i].index[1], groups_result[i+1].index[0], elimination=True))\n",
    "    \n",
    "    #Simulando quartas de final\n",
    "    quarter_finals.append(get_match_result(foot_model, round_of_16[0][0], round_of_16[2][0], elimination=True))\n",
    "    quarter_finals.append(get_match_result(foot_model, round_of_16[1][0], round_of_16[3][0], elimination=True))\n",
    "    quarter_finals.append(get_match_result(foot_model, round_of_16[4][0], round_of_16[6][0], elimination=True))\n",
    "    quarter_finals.append(get_match_result(foot_model, round_of_16[5][0], round_of_16[7][0], elimination=True))\n",
    "    \n",
    "    #Simulando semi-final\n",
    "    semi_finals.append(get_match_result(foot_model, quarter_finals[0][0], quarter_finals[2][0], elimination=True))\n",
    "    semi_finals.append(get_match_result(foot_model, quarter_finals[1][0], quarter_finals[3][0], elimination=True))\n",
    "    \n",
    "    #Simulando disputa de terceiro lugar\n",
    "    little_final = get_match_result(foot_model, semi_finals[0][1], semi_finals[1][1], elimination=True)\n",
    "    \n",
    "    #Simulando final\n",
    "    final = get_match_result(foot_model, semi_finals[0][0], semi_finals[1][0], elimination=True)\n",
    "    \n",
    "    return round_of_16, quarter_finals, semi_finals, little_final, final"
   ]
  },
  {
   "cell_type": "markdown",
   "id": "c13c5edf",
   "metadata": {},
   "source": [
    "Com essas duas funções pode-se calcular todo o resultado da competição, então o que irei fazer é aplicar primeiro a função da fase de grupos através de um for e saber os possíveis resultados. Após isso, temos os resultados da fase de grupos e podemos aplicar a função que vai retornar os resultados das disputas de partidas da fase mata-mata, e ao final os resultado são retornado dividos em rodada 16, quartas de final, semi-final, disputa de terceiro lugar e final. Veja:"
   ]
  },
  {
   "cell_type": "code",
   "execution_count": 26,
   "id": "831a3812",
   "metadata": {},
   "outputs": [],
   "source": [
    "groups_ranking = []\n",
    "for group in groups:\n",
    "    groups_ranking.append(get_group_result(poisson_model, group))\n",
    "\n",
    "round_of_16, quarter_finals, semi_finals, little_final, final = get_final_result(poisson_model, groups_ranking)"
   ]
  },
  {
   "cell_type": "markdown",
   "id": "16f96511",
   "metadata": {},
   "source": [
    "Dessa forma, entende-se que a partir do modelo desenvolvido, abaixo será o possível resultado de como irá ficar a classificação na fase de grupos após os jogos."
   ]
  },
  {
   "cell_type": "code",
   "execution_count": 27,
   "id": "cfb9954b",
   "metadata": {},
   "outputs": [
    {
     "data": {
      "text/html": [
       "<div>\n",
       "<style scoped>\n",
       "    .dataframe tbody tr th:only-of-type {\n",
       "        vertical-align: middle;\n",
       "    }\n",
       "\n",
       "    .dataframe tbody tr th {\n",
       "        vertical-align: top;\n",
       "    }\n",
       "\n",
       "    .dataframe thead th {\n",
       "        text-align: right;\n",
       "    }\n",
       "</style>\n",
       "<table border=\"1\" class=\"dataframe\">\n",
       "  <thead>\n",
       "    <tr style=\"text-align: right;\">\n",
       "      <th></th>\n",
       "      <th>points</th>\n",
       "      <th>diff</th>\n",
       "      <th>goals</th>\n",
       "    </tr>\n",
       "  </thead>\n",
       "  <tbody>\n",
       "    <tr>\n",
       "      <th>Netherlands</th>\n",
       "      <td>7</td>\n",
       "      <td>2</td>\n",
       "      <td>3</td>\n",
       "    </tr>\n",
       "    <tr>\n",
       "      <th>Ecuador</th>\n",
       "      <td>7</td>\n",
       "      <td>2</td>\n",
       "      <td>2</td>\n",
       "    </tr>\n",
       "    <tr>\n",
       "      <th>Senegal</th>\n",
       "      <td>3</td>\n",
       "      <td>-1</td>\n",
       "      <td>2</td>\n",
       "    </tr>\n",
       "    <tr>\n",
       "      <th>Qatar</th>\n",
       "      <td>0</td>\n",
       "      <td>-3</td>\n",
       "      <td>0</td>\n",
       "    </tr>\n",
       "  </tbody>\n",
       "</table>\n",
       "</div>"
      ],
      "text/plain": [
       "             points  diff  goals\n",
       "Netherlands       7     2      3\n",
       "Ecuador           7     2      2\n",
       "Senegal           3    -1      2\n",
       "Qatar             0    -3      0"
      ]
     },
     "metadata": {},
     "output_type": "display_data"
    },
    {
     "data": {
      "text/html": [
       "<div>\n",
       "<style scoped>\n",
       "    .dataframe tbody tr th:only-of-type {\n",
       "        vertical-align: middle;\n",
       "    }\n",
       "\n",
       "    .dataframe tbody tr th {\n",
       "        vertical-align: top;\n",
       "    }\n",
       "\n",
       "    .dataframe thead th {\n",
       "        text-align: right;\n",
       "    }\n",
       "</style>\n",
       "<table border=\"1\" class=\"dataframe\">\n",
       "  <thead>\n",
       "    <tr style=\"text-align: right;\">\n",
       "      <th></th>\n",
       "      <th>points</th>\n",
       "      <th>diff</th>\n",
       "      <th>goals</th>\n",
       "    </tr>\n",
       "  </thead>\n",
       "  <tbody>\n",
       "    <tr>\n",
       "      <th>England</th>\n",
       "      <td>9</td>\n",
       "      <td>3</td>\n",
       "      <td>3</td>\n",
       "    </tr>\n",
       "    <tr>\n",
       "      <th>United States</th>\n",
       "      <td>6</td>\n",
       "      <td>1</td>\n",
       "      <td>2</td>\n",
       "    </tr>\n",
       "    <tr>\n",
       "      <th>Iran</th>\n",
       "      <td>3</td>\n",
       "      <td>-1</td>\n",
       "      <td>1</td>\n",
       "    </tr>\n",
       "    <tr>\n",
       "      <th>Wales</th>\n",
       "      <td>0</td>\n",
       "      <td>-3</td>\n",
       "      <td>0</td>\n",
       "    </tr>\n",
       "  </tbody>\n",
       "</table>\n",
       "</div>"
      ],
      "text/plain": [
       "               points  diff  goals\n",
       "England             9     3      3\n",
       "United States       6     1      2\n",
       "Iran                3    -1      1\n",
       "Wales               0    -3      0"
      ]
     },
     "metadata": {},
     "output_type": "display_data"
    },
    {
     "data": {
      "text/html": [
       "<div>\n",
       "<style scoped>\n",
       "    .dataframe tbody tr th:only-of-type {\n",
       "        vertical-align: middle;\n",
       "    }\n",
       "\n",
       "    .dataframe tbody tr th {\n",
       "        vertical-align: top;\n",
       "    }\n",
       "\n",
       "    .dataframe thead th {\n",
       "        text-align: right;\n",
       "    }\n",
       "</style>\n",
       "<table border=\"1\" class=\"dataframe\">\n",
       "  <thead>\n",
       "    <tr style=\"text-align: right;\">\n",
       "      <th></th>\n",
       "      <th>points</th>\n",
       "      <th>diff</th>\n",
       "      <th>goals</th>\n",
       "    </tr>\n",
       "  </thead>\n",
       "  <tbody>\n",
       "    <tr>\n",
       "      <th>Argentina</th>\n",
       "      <td>9</td>\n",
       "      <td>3</td>\n",
       "      <td>3</td>\n",
       "    </tr>\n",
       "    <tr>\n",
       "      <th>Mexico</th>\n",
       "      <td>6</td>\n",
       "      <td>1</td>\n",
       "      <td>2</td>\n",
       "    </tr>\n",
       "    <tr>\n",
       "      <th>Poland</th>\n",
       "      <td>3</td>\n",
       "      <td>-1</td>\n",
       "      <td>1</td>\n",
       "    </tr>\n",
       "    <tr>\n",
       "      <th>Saudi Arabia</th>\n",
       "      <td>0</td>\n",
       "      <td>-3</td>\n",
       "      <td>0</td>\n",
       "    </tr>\n",
       "  </tbody>\n",
       "</table>\n",
       "</div>"
      ],
      "text/plain": [
       "              points  diff  goals\n",
       "Argentina          9     3      3\n",
       "Mexico             6     1      2\n",
       "Poland             3    -1      1\n",
       "Saudi Arabia       0    -3      0"
      ]
     },
     "metadata": {},
     "output_type": "display_data"
    },
    {
     "data": {
      "text/html": [
       "<div>\n",
       "<style scoped>\n",
       "    .dataframe tbody tr th:only-of-type {\n",
       "        vertical-align: middle;\n",
       "    }\n",
       "\n",
       "    .dataframe tbody tr th {\n",
       "        vertical-align: top;\n",
       "    }\n",
       "\n",
       "    .dataframe thead th {\n",
       "        text-align: right;\n",
       "    }\n",
       "</style>\n",
       "<table border=\"1\" class=\"dataframe\">\n",
       "  <thead>\n",
       "    <tr style=\"text-align: right;\">\n",
       "      <th></th>\n",
       "      <th>points</th>\n",
       "      <th>diff</th>\n",
       "      <th>goals</th>\n",
       "    </tr>\n",
       "  </thead>\n",
       "  <tbody>\n",
       "    <tr>\n",
       "      <th>Denmark</th>\n",
       "      <td>9</td>\n",
       "      <td>3</td>\n",
       "      <td>3</td>\n",
       "    </tr>\n",
       "    <tr>\n",
       "      <th>France</th>\n",
       "      <td>6</td>\n",
       "      <td>1</td>\n",
       "      <td>2</td>\n",
       "    </tr>\n",
       "    <tr>\n",
       "      <th>Australia</th>\n",
       "      <td>1</td>\n",
       "      <td>-2</td>\n",
       "      <td>0</td>\n",
       "    </tr>\n",
       "    <tr>\n",
       "      <th>Tunisia</th>\n",
       "      <td>1</td>\n",
       "      <td>-2</td>\n",
       "      <td>0</td>\n",
       "    </tr>\n",
       "  </tbody>\n",
       "</table>\n",
       "</div>"
      ],
      "text/plain": [
       "           points  diff  goals\n",
       "Denmark         9     3      3\n",
       "France          6     1      2\n",
       "Australia       1    -2      0\n",
       "Tunisia         1    -2      0"
      ]
     },
     "metadata": {},
     "output_type": "display_data"
    },
    {
     "data": {
      "text/html": [
       "<div>\n",
       "<style scoped>\n",
       "    .dataframe tbody tr th:only-of-type {\n",
       "        vertical-align: middle;\n",
       "    }\n",
       "\n",
       "    .dataframe tbody tr th {\n",
       "        vertical-align: top;\n",
       "    }\n",
       "\n",
       "    .dataframe thead th {\n",
       "        text-align: right;\n",
       "    }\n",
       "</style>\n",
       "<table border=\"1\" class=\"dataframe\">\n",
       "  <thead>\n",
       "    <tr style=\"text-align: right;\">\n",
       "      <th></th>\n",
       "      <th>points</th>\n",
       "      <th>diff</th>\n",
       "      <th>goals</th>\n",
       "    </tr>\n",
       "  </thead>\n",
       "  <tbody>\n",
       "    <tr>\n",
       "      <th>Germany</th>\n",
       "      <td>9</td>\n",
       "      <td>5</td>\n",
       "      <td>5</td>\n",
       "    </tr>\n",
       "    <tr>\n",
       "      <th>Spain</th>\n",
       "      <td>6</td>\n",
       "      <td>1</td>\n",
       "      <td>2</td>\n",
       "    </tr>\n",
       "    <tr>\n",
       "      <th>Japan</th>\n",
       "      <td>3</td>\n",
       "      <td>-2</td>\n",
       "      <td>1</td>\n",
       "    </tr>\n",
       "    <tr>\n",
       "      <th>Costa Rica</th>\n",
       "      <td>0</td>\n",
       "      <td>-4</td>\n",
       "      <td>0</td>\n",
       "    </tr>\n",
       "  </tbody>\n",
       "</table>\n",
       "</div>"
      ],
      "text/plain": [
       "            points  diff  goals\n",
       "Germany          9     5      5\n",
       "Spain            6     1      2\n",
       "Japan            3    -2      1\n",
       "Costa Rica       0    -4      0"
      ]
     },
     "metadata": {},
     "output_type": "display_data"
    },
    {
     "data": {
      "text/html": [
       "<div>\n",
       "<style scoped>\n",
       "    .dataframe tbody tr th:only-of-type {\n",
       "        vertical-align: middle;\n",
       "    }\n",
       "\n",
       "    .dataframe tbody tr th {\n",
       "        vertical-align: top;\n",
       "    }\n",
       "\n",
       "    .dataframe thead th {\n",
       "        text-align: right;\n",
       "    }\n",
       "</style>\n",
       "<table border=\"1\" class=\"dataframe\">\n",
       "  <thead>\n",
       "    <tr style=\"text-align: right;\">\n",
       "      <th></th>\n",
       "      <th>points</th>\n",
       "      <th>diff</th>\n",
       "      <th>goals</th>\n",
       "    </tr>\n",
       "  </thead>\n",
       "  <tbody>\n",
       "    <tr>\n",
       "      <th>Belgium</th>\n",
       "      <td>9</td>\n",
       "      <td>4</td>\n",
       "      <td>4</td>\n",
       "    </tr>\n",
       "    <tr>\n",
       "      <th>Croatia</th>\n",
       "      <td>6</td>\n",
       "      <td>2</td>\n",
       "      <td>3</td>\n",
       "    </tr>\n",
       "    <tr>\n",
       "      <th>Morocco</th>\n",
       "      <td>3</td>\n",
       "      <td>-2</td>\n",
       "      <td>1</td>\n",
       "    </tr>\n",
       "    <tr>\n",
       "      <th>Canada</th>\n",
       "      <td>0</td>\n",
       "      <td>-4</td>\n",
       "      <td>0</td>\n",
       "    </tr>\n",
       "  </tbody>\n",
       "</table>\n",
       "</div>"
      ],
      "text/plain": [
       "         points  diff  goals\n",
       "Belgium       9     4      4\n",
       "Croatia       6     2      3\n",
       "Morocco       3    -2      1\n",
       "Canada        0    -4      0"
      ]
     },
     "metadata": {},
     "output_type": "display_data"
    },
    {
     "data": {
      "text/html": [
       "<div>\n",
       "<style scoped>\n",
       "    .dataframe tbody tr th:only-of-type {\n",
       "        vertical-align: middle;\n",
       "    }\n",
       "\n",
       "    .dataframe tbody tr th {\n",
       "        vertical-align: top;\n",
       "    }\n",
       "\n",
       "    .dataframe thead th {\n",
       "        text-align: right;\n",
       "    }\n",
       "</style>\n",
       "<table border=\"1\" class=\"dataframe\">\n",
       "  <thead>\n",
       "    <tr style=\"text-align: right;\">\n",
       "      <th></th>\n",
       "      <th>points</th>\n",
       "      <th>diff</th>\n",
       "      <th>goals</th>\n",
       "    </tr>\n",
       "  </thead>\n",
       "  <tbody>\n",
       "    <tr>\n",
       "      <th>Brazil</th>\n",
       "      <td>9</td>\n",
       "      <td>6</td>\n",
       "      <td>6</td>\n",
       "    </tr>\n",
       "    <tr>\n",
       "      <th>Switzerland</th>\n",
       "      <td>6</td>\n",
       "      <td>2</td>\n",
       "      <td>3</td>\n",
       "    </tr>\n",
       "    <tr>\n",
       "      <th>Serbia</th>\n",
       "      <td>3</td>\n",
       "      <td>-3</td>\n",
       "      <td>1</td>\n",
       "    </tr>\n",
       "    <tr>\n",
       "      <th>Cameroon</th>\n",
       "      <td>0</td>\n",
       "      <td>-5</td>\n",
       "      <td>0</td>\n",
       "    </tr>\n",
       "  </tbody>\n",
       "</table>\n",
       "</div>"
      ],
      "text/plain": [
       "             points  diff  goals\n",
       "Brazil            9     6      6\n",
       "Switzerland       6     2      3\n",
       "Serbia            3    -3      1\n",
       "Cameroon          0    -5      0"
      ]
     },
     "metadata": {},
     "output_type": "display_data"
    },
    {
     "data": {
      "text/html": [
       "<div>\n",
       "<style scoped>\n",
       "    .dataframe tbody tr th:only-of-type {\n",
       "        vertical-align: middle;\n",
       "    }\n",
       "\n",
       "    .dataframe tbody tr th {\n",
       "        vertical-align: top;\n",
       "    }\n",
       "\n",
       "    .dataframe thead th {\n",
       "        text-align: right;\n",
       "    }\n",
       "</style>\n",
       "<table border=\"1\" class=\"dataframe\">\n",
       "  <thead>\n",
       "    <tr style=\"text-align: right;\">\n",
       "      <th></th>\n",
       "      <th>points</th>\n",
       "      <th>diff</th>\n",
       "      <th>goals</th>\n",
       "    </tr>\n",
       "  </thead>\n",
       "  <tbody>\n",
       "    <tr>\n",
       "      <th>Portugal</th>\n",
       "      <td>9</td>\n",
       "      <td>3</td>\n",
       "      <td>3</td>\n",
       "    </tr>\n",
       "    <tr>\n",
       "      <th>Uruguay</th>\n",
       "      <td>4</td>\n",
       "      <td>0</td>\n",
       "      <td>2</td>\n",
       "    </tr>\n",
       "    <tr>\n",
       "      <th>Korea Republic</th>\n",
       "      <td>4</td>\n",
       "      <td>0</td>\n",
       "      <td>2</td>\n",
       "    </tr>\n",
       "    <tr>\n",
       "      <th>Ghana</th>\n",
       "      <td>0</td>\n",
       "      <td>-3</td>\n",
       "      <td>0</td>\n",
       "    </tr>\n",
       "  </tbody>\n",
       "</table>\n",
       "</div>"
      ],
      "text/plain": [
       "                points  diff  goals\n",
       "Portugal             9     3      3\n",
       "Uruguay              4     0      2\n",
       "Korea Republic       4     0      2\n",
       "Ghana                0    -3      0"
      ]
     },
     "metadata": {},
     "output_type": "display_data"
    }
   ],
   "source": [
    "for group_rank in groups_ranking:\n",
    "    display(group_rank)"
   ]
  },
  {
   "cell_type": "markdown",
   "id": "6428127b",
   "metadata": {},
   "source": [
    "E para finalizar, a partir do modelo desenvolvido, abaixo será o possível resultado de como irá ficar a fase de mata-mata e o grande vencedor da copa do mundo do qatar de 2022. "
   ]
  },
  {
   "cell_type": "code",
   "execution_count": 28,
   "id": "67362c41",
   "metadata": {},
   "outputs": [
    {
     "data": {
      "image/png": "[encoded data removed]",
      "text/plain": [
       "<Figure size 1800x1008 with 1 Axes>"
      ]
     },
     "metadata": {},
     "output_type": "display_data"
    }
   ],
   "source": [
    "plt.figure(figsize = (25,14))\n",
    "img = mpimg.imread('tabela.png')\n",
    "plt.imshow(img)\n",
    "plt.axis('off')\n",
    "\n",
    "def text_match(x, y, match, final=False):\n",
    "    col_win, col_loose = ('green', 'red') if (not final) else ('gold', 'red')\n",
    "    plt.text(x, y, match[0], fontsize=12, color=col_win, weight='bold')\n",
    "    plt.text(x+100, y+1, match[2][0], fontsize=18, color=col_win, weight='bold')\n",
    "    plt.text(x, y+50, match[1], fontsize=12, color=col_loose, weight='bold')\n",
    "    plt.text(x+100, y+51, match[2][1], fontsize=18, color=col_loose, weight='bold')\n",
    "\n",
    "\n",
    "round_of_16_xy = [(60,120),(948,120),(60,300),(948,300),(60,450),(948,450),(60,620),(948,620)]\n",
    "quarter_finals_xy = [(232,208),(766,208),(232,538),(766,538)]\n",
    "semi_finals_xy = [(408,375),(590,375)]\n",
    "x_little_final, y_little_final = 590, 596\n",
    "x_final, y_final = 489, 167\n",
    "\n",
    "def imagem_resultado():\n",
    "    for (x, y), match in zip(round_of_16_xy, round_of_16):\n",
    "        text_match(x, y, match)\n",
    "    for (x, y), match in zip(quarter_finals_xy, quarter_finals):\n",
    "        text_match(x, y, match)\n",
    "    for (x, y), match in zip(semi_finals_xy, semi_finals):\n",
    "        text_match(x, y, match)\n",
    "    \n",
    "    text_match(x_little_final, y_little_final, little_final)\n",
    "    text_match(x_final, y_final, final, final=True)\n",
    "\n",
    "    plt.show()\n",
    "    \n",
    "imagem_resultado()"
   ]
  },
  {
   "cell_type": "markdown",
   "id": "b7234ace",
   "metadata": {},
   "source": [
    "Veja que maravilha, segundo o modelo que foi construído teremos o Brasil campeão da copa do mundo de 2022 em uma final contra a grande Inglaterra. A data do dia de hoje é 13/08/2022, agora é aguardar a copa para saber se o modelo ao menos consegue chegar próximo desses possíveis resultados que foram previstos. De toda forma, a realização desse projeto foi de grande satisfação e coragem, diante de todo o trabalho que foi feito e em cada detalhe que precisou ser pensado. Rumo ao hexa!!"
   ]
  },
  {
   "cell_type": "markdown",
   "id": "664959f8",
   "metadata": {},
   "source": [
    "Lembrando novamente que: O resultado de gols de uma partida pode acabar se repetindo em muitos casos o placar de 1x0, talvez por o modelo não ter uma precisão para quantificar tão bem saldos maiores, mas o interessante é entender e levar em consideração quem o modelo está prevendo como possível vencedor da partida. Isso é algo para ser pensado e melhorado no futuro nesse projeto."
   ]
  },
  {
   "cell_type": "markdown",
   "id": "790d0682",
   "metadata": {},
   "source": [
    "## Salvando modelo "
   ]
  },
  {
   "cell_type": "markdown",
   "id": "d1af3108",
   "metadata": {},
   "source": [
    "Após o desenvolvimento deste modelo, foi construida uma aplicação com **streamlit** para o modelo e realizado o deploy com o **heroku**. O deploy pode ser entendido como a implantação do ciclo de vida de um software, que corresponde textualmente á passagem do software para a produção"
   ]
  },
  {
   "cell_type": "markdown",
   "id": "08272797",
   "metadata": {},
   "source": [
    "* Repositório da aplicação desenvolvida: https://github.com/luislauriano/Aplicacao_CopaDoMundo22-projeto\n",
    "* A aplicação pode ser conferida em https://possiveis-resultados-qatar2022.herokuapp.com/"
   ]
  },
  {
   "cell_type": "code",
   "execution_count": 28,
   "id": "1938d7f4",
   "metadata": {},
   "outputs": [],
   "source": [
    "import pickle\n",
    "\n",
    "with open('poisson_model.pkl', 'wb') as file:\n",
    "    pickle.dump(poisson_model, file)"
   ]
  },
  {
   "cell_type": "markdown",
   "id": "66ad95e2",
   "metadata": {},
   "source": [
    "## Conclusão"
   ]
  },
  {
   "cell_type": "markdown",
   "id": "85ea57f7",
   "metadata": {},
   "source": [
    "Foi possível através dos dados de ranking das seleções e dados de partidas internacionais das seleções, além dos dados da copa atual e elo rating extraídos, construir um modelo com capacidade de prever possíveis resultados para partidas de jogos da copa do mundo e simular quais serão os possíveis resultados da fase de grupo e da fase de mata-mata, até se chegar no grande vencedor. E apesar de o modelo não ter um excelente desempenho, para um teste inicial e tratando-se de partidas de futebol, me parece muito bom.\n",
    "\n",
    "Para o futuro a ideia é atualizar os conjuntos de dados com novas partidas e um ranking das seleções da FIFA mais atualizado."
   ]
  },
  {
   "cell_type": "markdown",
   "id": "aade6aff",
   "metadata": {},
   "source": [
    "## **Referência e créditos**"
   ]
  },
  {
   "cell_type": "markdown",
   "id": "aac3c148",
   "metadata": {},
   "source": [
    "Quando tive a ideia de desenvolver um modelo de machine learning como este, encontrei alguns projetos voltados para prever qual seleção irá vencer a copa do mundo e projetos que tinham sido construídos com ideias semelhantes a que eu tinha, porém, não encontrei um projeto que utilizasse os dados de partidas internacionais e dados do ranking de seleções da FIFA para construir um modelo linear generalizado por regressão, por esse motivo, desenvolvi o projeto dessa forma, a partir da minha ideia e como outros projetos tinham sido desenvolvidos."
   ]
  },
  {
   "cell_type": "markdown",
   "id": "8c0fd08c",
   "metadata": {},
   "source": [
    "### Sobre o modelo linear generalizado por regressão de poisson\n",
    "\n",
    "* https://docs.h2o.ai/h2o/latest-stable/h2o-docs/data-science/glm.html#poisson-models\n",
    "\n",
    "* https://en.wikipedia.org/wiki/Poisson_regression\n",
    "\n",
    "* http://www.john-ros.com/Rcourse/glm.html / https://en.wikipedia.org/wiki/Poisson_regression\n",
    "\n",
    "* https://bookdown.org/roback/bookdown-BeyondMLR/ch-poissonreg.html\n"
   ]
  },
  {
   "cell_type": "markdown",
   "id": "3884a3f9",
   "metadata": {},
   "source": [
    "Documentação statsmodels sobre o GLM: https://www.statsmodels.org/dev/generated/statsmodels.genmod.generalized_linear_model.GLM.html"
   ]
  },
  {
   "cell_type": "markdown",
   "id": "82b8f03e",
   "metadata": {},
   "source": [
    "### Projetos semelhantes utilizados como base\n",
    "\n",
    "\n",
    "* https://github.com/christianwbsn/world-cup-2018-predictor/blob/master/notebooks/Who%20Will%20Win%20The%20World%20Cup%202018.ipynb\n",
    "\n",
    "* \n",
    "https://dashee87.github.io/football/python/predicting-football-results-with-statistical-modelling/\n"
   ]
  },
  {
   "cell_type": "markdown",
   "id": "1a5cee10",
   "metadata": {},
   "source": [
    "### Métricas\n",
    "\n",
    "* MAPE: https://www.statology.org/how-to-interpret-mape/\n",
    "* RMSE E MSE: https://medium.com/human-in-a-machine-world/mae-and-rmse-which-metric-is-better-e60ac3bde13d\n",
    "* https://www.mariofilho.com/as-metricas-mais-populares-para-avaliar-modelos-de-machine-learning/"
   ]
  }
 ],
 "metadata": {
  "kernelspec": {
   "display_name": "Python 3 (ipykernel)",
   "language": "python",
   "name": "python3"
  },
  "language_info": {
   "codemirror_mode": {
    "name": "ipython",
    "version": 3
   },
   "file_extension": ".py",
   "mimetype": "text/x-python",
   "name": "python",
   "nbconvert_exporter": "python",
   "pygments_lexer": "ipython3",
   "version": "3.9.5"
  }
 },
 "nbformat": 4,
 "nbformat_minor": 5
}
